{
 "cells": [
  {
   "cell_type": "markdown",
   "id": "ded6ebdb-9f08-412f-9f3d-3c53cb676860",
   "metadata": {},
   "source": [
    "# T Structure Function"
   ]
  },
  {
   "cell_type": "code",
   "execution_count": 12,
   "id": "647a7266-8417-4a03-aefc-0908f47c2e84",
   "metadata": {},
   "outputs": [],
   "source": [
    "# imports\n",
    "from importlib import reload\n",
    "import os\n",
    "import glob\n",
    "from scipy.io import loadmat\n",
    "\n",
    "from cugn import gliderdata"
   ]
  },
  {
   "cell_type": "markdown",
   "id": "e9055f20-8323-4157-ad2e-8e6dfcf1c6a3",
   "metadata": {},
   "source": [
    "# Load up\n",
    "\n",
    "        time: [85x1 double]\n",
    "         lat: [85x1 double]\n",
    "         lon: [85x1 double]\n",
    "       timeu: [85x1 double]\n",
    "        latu: [85x1 double]\n",
    "        lonu: [85x1 double]\n",
    "           u: [85x1 double]\n",
    "           v: [85x1 double]\n",
    "       depth: [100x1 double]\n",
    "           t: [100x85 double]\n",
    "           s: [100x85 double]\n",
    "          fl: [100x85 double]\n",
    "       theta: [100x85 double]\n",
    "       sigma: [100x85 double]\n",
    "         rho: [100x85 double]\n",
    "    function: 'binsat'\n",
    "     bintime: 1.7396e+09\n",
    "        udop: [100x85 double]\n",
    "        vdop: [100x85 double]\n",
    "         abs: [100x85 double]"
   ]
  },
  {
   "cell_type": "code",
   "execution_count": 11,
   "id": "948c905b-3233-41c3-b345-07cfed8dbbba",
   "metadata": {},
   "outputs": [
    {
     "data": {
      "text/plain": [
       "FieldData object for ARCTERX-Leg2\n",
       "  Number of profiles: 84\n",
       "  Time range: nan to nan\n",
       "  Variables:\n",
       "    depth: (100,)\n",
       "    lat: (84,)\n",
       "    lon: (84,)\n",
       "    time: (84,)\n",
       "    missid: (84,)\n",
       "    s: (100, 84)\n",
       "    t: (100, 84)\n",
       "    fl: (100, 84)\n",
       "    theta: (100, 84)"
      ]
     },
     "execution_count": 11,
     "metadata": {},
     "output_type": "execute_result"
    }
   ],
   "source": [
    "dataset = 'ARCTERX-Leg2'\n",
    "datafile = '/home/xavier/Projects/Oceanography/data/Spray/ARCTERX/Leg2/0033.mat'\n",
    "reload(gliderdata)\n",
    "s33 = gliderdata.FieldData(datafile, dataset)\n",
    "s33"
   ]
  },
  {
   "cell_type": "markdown",
   "id": "0dfd83b9-3f40-424c-989c-02b73c84871c",
   "metadata": {},
   "source": [
    "# Combine Gliders"
   ]
  },
  {
   "cell_type": "code",
   "execution_count": 21,
   "id": "df77c2e2-31cf-44d2-9476-f4c829f97d3b",
   "metadata": {},
   "outputs": [
    {
     "data": {
      "text/plain": [
       "FieldData object for ARCTERX-Leg2\n",
       "  Number of profiles: 289\n",
       "  Time range: nan to nan\n",
       "  Variables:\n",
       "    depth: (100,)\n",
       "    lat: (289,)\n",
       "    lon: (289,)\n",
       "    time: (289,)\n",
       "    missid: (289,)\n",
       "    s: (100, 289)\n",
       "    t: (100, 289)\n",
       "    fl: (100, 289)\n",
       "    theta: (100, 289)"
      ]
     },
     "execution_count": 21,
     "metadata": {},
     "output_type": "execute_result"
    }
   ],
   "source": [
    "reload(gliderdata)\n",
    "datafiles = glob.glob('/home/xavier/Projects/Oceanography/data/Spray/ARCTERX/Leg2/*.mat')\n",
    "datafiles.sort()\n",
    "arcterx2 = gliderdata.FieldData.from_list(datafiles, dataset)\n",
    "arcterx2"
   ]
  },
  {
   "cell_type": "code",
   "execution_count": null,
   "id": "2b25d8d2-e475-44a8-8048-29dde54d8608",
   "metadata": {},
   "outputs": [],
   "source": []
  }
 ],
 "metadata": {
  "kernelspec": {
   "display_name": "Python 3 (ipykernel)",
   "language": "python",
   "name": "python3"
  },
  "language_info": {
   "codemirror_mode": {
    "name": "ipython",
    "version": 3
   },
   "file_extension": ".py",
   "mimetype": "text/x-python",
   "name": "python",
   "nbconvert_exporter": "python",
   "pygments_lexer": "ipython3",
   "version": "3.12.2"
  }
 },
 "nbformat": 4,
 "nbformat_minor": 5
}
