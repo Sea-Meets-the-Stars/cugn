{
 "cells": [
  {
   "cell_type": "markdown",
   "id": "ded6ebdb-9f08-412f-9f3d-3c53cb676860",
   "metadata": {},
   "source": [
    "# T Structure Function"
   ]
  },
  {
   "cell_type": "code",
   "execution_count": 1,
   "id": "647a7266-8417-4a03-aefc-0908f47c2e84",
   "metadata": {},
   "outputs": [],
   "source": [
    "# imports\n",
    "from importlib import reload\n",
    "import os\n",
    "import glob\n",
    "\n",
    "import numpy as np\n",
    "\n",
    "from scipy.io import loadmat\n",
    "\n",
    "import pymatreader\n",
    "\n",
    "from cugn import gliderdata\n",
    "#from cugn import gliderpairs\n",
    "from cugn import utils as cugn_utils"
   ]
  },
  {
   "cell_type": "markdown",
   "id": "e9055f20-8323-4157-ad2e-8e6dfcf1c6a3",
   "metadata": {},
   "source": [
    "# Load up\n",
    "\n",
    "        time: [85x1 double]\n",
    "         lat: [85x1 double]\n",
    "         lon: [85x1 double]\n",
    "       timeu: [85x1 double]\n",
    "        latu: [85x1 double]\n",
    "        lonu: [85x1 double]\n",
    "           u: [85x1 double]\n",
    "           v: [85x1 double]\n",
    "       depth: [100x1 double]\n",
    "           t: [100x85 double]\n",
    "           s: [100x85 double]\n",
    "          fl: [100x85 double]\n",
    "       theta: [100x85 double]\n",
    "       sigma: [100x85 double]\n",
    "         rho: [100x85 double]\n",
    "    function: 'binsat'\n",
    "     bintime: 1.7396e+09\n",
    "        udop: [100x85 double]\n",
    "        vdop: [100x85 double]\n",
    "         abs: [100x85 double]"
   ]
  },
  {
   "cell_type": "code",
   "execution_count": 2,
   "id": "948c905b-3233-41c3-b345-07cfed8dbbba",
   "metadata": {},
   "outputs": [
    {
     "data": {
      "text/plain": [
       "SprayData object for ARCTERX-Leg2\n",
       "  Number of profiles: 84\n",
       "  Time range: nan to nan\n",
       "  In field? True  ADCP on? False  Variables:\n",
       "    depth: (100,)\n",
       "    lat: (84,)\n",
       "    lon: (84,)\n",
       "    time: (84,)\n",
       "    missid: (84,)\n",
       "    dist: (84,)\n",
       "    offset: (84,)\n",
       "    s: (100, 84)\n",
       "    t: (100, 84)\n",
       "    theta: (100, 84)"
      ]
     },
     "execution_count": 2,
     "metadata": {},
     "output_type": "execute_result"
    }
   ],
   "source": [
    "dataset = 'ARCTERX-Leg2'\n",
    "datafile = '/home/xavier/Projects/Oceanography/data/Spray/ARCTERX/Leg2/0033.mat'\n",
    "reload(gliderdata)\n",
    "s33 = gliderdata.SprayData(datafile, dataset, in_field=True, adcp_on=False)\n",
    "s33"
   ]
  },
  {
   "cell_type": "code",
   "execution_count": 3,
   "id": "e6e65d7d-0e66-4525-b6d9-ceec68423784",
   "metadata": {},
   "outputs": [
    {
     "data": {
      "text/plain": [
       "(100, 84)"
      ]
     },
     "execution_count": 3,
     "metadata": {},
     "output_type": "execute_result"
    }
   ],
   "source": [
    "s33.theta.shape"
   ]
  },
  {
   "cell_type": "markdown",
   "id": "0dfd83b9-3f40-424c-989c-02b73c84871c",
   "metadata": {},
   "source": [
    "# Combine Gliders"
   ]
  },
  {
   "cell_type": "code",
   "execution_count": 5,
   "id": "df77c2e2-31cf-44d2-9476-f4c829f97d3b",
   "metadata": {},
   "outputs": [
    {
     "ename": "KeyError",
     "evalue": "'missid'",
     "output_type": "error",
     "traceback": [
      "\u001b[0;31m---------------------------------------------------------------------------\u001b[0m",
      "\u001b[0;31mKeyError\u001b[0m                                  Traceback (most recent call last)",
      "Cell \u001b[0;32mIn[5], line 5\u001b[0m\n\u001b[1;32m      3\u001b[0m datafiles \u001b[38;5;241m=\u001b[39m glob\u001b[38;5;241m.\u001b[39mglob(\u001b[38;5;124m'\u001b[39m\u001b[38;5;124m/home/xavier/Projects/Oceanography/data/Spray/ARCTERX/Leg2/*.mat\u001b[39m\u001b[38;5;124m'\u001b[39m)\n\u001b[1;32m      4\u001b[0m datafiles\u001b[38;5;241m.\u001b[39msort()\n\u001b[0;32m----> 5\u001b[0m arcterx2 \u001b[38;5;241m=\u001b[39m \u001b[43mgliderdata\u001b[49m\u001b[38;5;241;43m.\u001b[39;49m\u001b[43mSprayData\u001b[49m\u001b[38;5;241;43m.\u001b[39;49m\u001b[43mfrom_list\u001b[49m\u001b[43m(\u001b[49m\u001b[43mdatafiles\u001b[49m\u001b[43m,\u001b[49m\u001b[43m \u001b[49m\u001b[43mdataset\u001b[49m\u001b[43m,\u001b[49m\u001b[43m \u001b[49m\u001b[43madcp_on\u001b[49m\u001b[38;5;241;43m=\u001b[39;49m\u001b[38;5;28;43;01mFalse\u001b[39;49;00m\u001b[43m,\u001b[49m\u001b[43m \u001b[49m\u001b[43min_field\u001b[49m\u001b[38;5;241;43m=\u001b[39;49m\u001b[38;5;28;43;01mTrue\u001b[39;49;00m\u001b[43m)\u001b[49m\n\u001b[1;32m      6\u001b[0m arcterx2\n",
      "File \u001b[0;32m~/Projects/Oceanography/python/cugn/cugn/profiledata.py:74\u001b[0m, in \u001b[0;36mProfileData.from_list\u001b[0;34m(cls, datafiles, dataset, **kwargs)\u001b[0m\n\u001b[1;32m     63\u001b[0m \u001b[38;5;250m\u001b[39m\u001b[38;5;124;03m\"\"\"\u001b[39;00m\n\u001b[1;32m     64\u001b[0m \u001b[38;5;124;03mCreate a GliderData object from a list of data files.\u001b[39;00m\n\u001b[1;32m     65\u001b[0m \n\u001b[0;32m   (...)\u001b[0m\n\u001b[1;32m     71\u001b[0m \u001b[38;5;124;03m    GliderData: A GliderData object containing the data from the provided files.\u001b[39;00m\n\u001b[1;32m     72\u001b[0m \u001b[38;5;124;03m\"\"\"\u001b[39;00m\n\u001b[1;32m     73\u001b[0m \u001b[38;5;66;03m# Load the first file\u001b[39;00m\n\u001b[0;32m---> 74\u001b[0m gData \u001b[38;5;241m=\u001b[39m \u001b[38;5;28;43mcls\u001b[39;49m\u001b[43m(\u001b[49m\u001b[43mdatafiles\u001b[49m\u001b[43m[\u001b[49m\u001b[38;5;241;43m0\u001b[39;49m\u001b[43m]\u001b[49m\u001b[43m,\u001b[49m\u001b[43m \u001b[49m\u001b[43mdataset\u001b[49m\u001b[43m,\u001b[49m\u001b[43m \u001b[49m\u001b[38;5;241;43m*\u001b[39;49m\u001b[38;5;241;43m*\u001b[39;49m\u001b[43mkwargs\u001b[49m\u001b[43m)\u001b[49m\n\u001b[1;32m     76\u001b[0m \u001b[38;5;66;03m# Load the rest\u001b[39;00m\n\u001b[1;32m     77\u001b[0m \u001b[38;5;28;01mfor\u001b[39;00m datafile \u001b[38;5;129;01min\u001b[39;00m datafiles[\u001b[38;5;241m1\u001b[39m:]:\n",
      "File \u001b[0;32m~/Projects/Oceanography/python/cugn/cugn/gliderdata.py:80\u001b[0m, in \u001b[0;36mSprayData.__init__\u001b[0;34m(self, datafile, dataset, adcp_on, in_field)\u001b[0m\n\u001b[1;32m     77\u001b[0m \u001b[38;5;28mself\u001b[39m\u001b[38;5;241m.\u001b[39mprofile_depth_arrays \u001b[38;5;241m+\u001b[39m\u001b[38;5;241m=\u001b[39m [\u001b[38;5;124m'\u001b[39m\u001b[38;5;124mtheta\u001b[39m\u001b[38;5;124m'\u001b[39m]\n\u001b[1;32m     79\u001b[0m \u001b[38;5;66;03m# Init\u001b[39;00m\n\u001b[0;32m---> 80\u001b[0m \u001b[43mprofiledata\u001b[49m\u001b[38;5;241;43m.\u001b[39;49m\u001b[43mADCPData\u001b[49m\u001b[38;5;241;43m.\u001b[39;49m\u001b[38;5;21;43m__init__\u001b[39;49m\u001b[43m(\u001b[49m\u001b[38;5;28;43mself\u001b[39;49m\u001b[43m,\u001b[49m\u001b[43m \u001b[49m\u001b[43mdatafile\u001b[49m\u001b[43m,\u001b[49m\u001b[43m \u001b[49m\u001b[43mdataset\u001b[49m\u001b[43m,\u001b[49m\n\u001b[1;32m     81\u001b[0m \u001b[43m                              \u001b[49m\u001b[43madcp_on\u001b[49m\u001b[38;5;241;43m=\u001b[39;49m\u001b[43madcp_on\u001b[49m\u001b[43m)\u001b[49m\n",
      "File \u001b[0;32m~/Projects/Oceanography/python/cugn/cugn/profiledata.py:191\u001b[0m, in \u001b[0;36mADCPData.__init__\u001b[0;34m(self, datafile, dataset, adcp_on)\u001b[0m\n\u001b[1;32m    187\u001b[0m \u001b[38;5;28;01mdef\u001b[39;00m \u001b[38;5;21m__init__\u001b[39m(\u001b[38;5;28mself\u001b[39m, datafile:\u001b[38;5;28mstr\u001b[39m, dataset:\u001b[38;5;28mstr\u001b[39m, adcp_on:\u001b[38;5;28mbool\u001b[39m\u001b[38;5;241m=\u001b[39m\u001b[38;5;28;01mTrue\u001b[39;00m):\n\u001b[1;32m    188\u001b[0m     \n\u001b[1;32m    189\u001b[0m     \u001b[38;5;66;03m# Init\u001b[39;00m\n\u001b[1;32m    190\u001b[0m     \u001b[38;5;28mself\u001b[39m\u001b[38;5;241m.\u001b[39madcp_on \u001b[38;5;241m=\u001b[39m adcp_on\n\u001b[0;32m--> 191\u001b[0m     \u001b[43mProfileData\u001b[49m\u001b[38;5;241;43m.\u001b[39;49m\u001b[38;5;21;43m__init__\u001b[39;49m\u001b[43m(\u001b[49m\u001b[38;5;28;43mself\u001b[39;49m\u001b[43m,\u001b[49m\u001b[43m \u001b[49m\u001b[43mdatafile\u001b[49m\u001b[43m,\u001b[49m\u001b[43m \u001b[49m\u001b[43mdataset\u001b[49m\u001b[43m)\u001b[49m\n",
      "File \u001b[0;32m~/Projects/Oceanography/python/cugn/cugn/profiledata.py:59\u001b[0m, in \u001b[0;36mProfileData.__init__\u001b[0;34m(self, datafile, dataset)\u001b[0m\n\u001b[1;32m     56\u001b[0m \u001b[38;5;28mself\u001b[39m\u001b[38;5;241m.\u001b[39mdatafile \u001b[38;5;241m=\u001b[39m datafile\n\u001b[1;32m     57\u001b[0m \u001b[38;5;28mself\u001b[39m\u001b[38;5;241m.\u001b[39mdataset \u001b[38;5;241m=\u001b[39m dataset\n\u001b[0;32m---> 59\u001b[0m \u001b[38;5;28;43mself\u001b[39;49m\u001b[38;5;241;43m.\u001b[39;49m\u001b[43mload_data\u001b[49m\u001b[43m(\u001b[49m\u001b[43m)\u001b[49m\n",
      "File \u001b[0;32m~/Projects/Oceanography/python/cugn/cugn/gliderdata.py:87\u001b[0m, in \u001b[0;36mSprayData.load_data\u001b[0;34m(self)\u001b[0m\n\u001b[1;32m     84\u001b[0m \u001b[38;5;28;01mdef\u001b[39;00m \u001b[38;5;21mload_data\u001b[39m(\u001b[38;5;28mself\u001b[39m):\n\u001b[1;32m     85\u001b[0m \u001b[38;5;250m    \u001b[39m\u001b[38;5;124;03m\"\"\" Load the CTD data for Arcteryx \"\"\"\u001b[39;00m\n\u001b[0;32m---> 87\u001b[0m     \u001b[43midg_utils\u001b[49m\u001b[38;5;241;43m.\u001b[39;49m\u001b[43mload_binned_data\u001b[49m\u001b[43m(\u001b[49m\u001b[38;5;28;43mself\u001b[39;49m\u001b[43m)\u001b[49m\n",
      "File \u001b[0;32m~/Projects/Oceanography/python/cugn/cugn/idg_utils.py:34\u001b[0m, in \u001b[0;36mload_binned_data\u001b[0;34m(profiler)\u001b[0m\n\u001b[1;32m     32\u001b[0m     profiler\u001b[38;5;241m.\u001b[39mprofile_arrays \u001b[38;5;241m+\u001b[39m\u001b[38;5;241m=\u001b[39m [\u001b[38;5;124m'\u001b[39m\u001b[38;5;124mdist\u001b[39m\u001b[38;5;124m'\u001b[39m, \u001b[38;5;124m'\u001b[39m\u001b[38;5;124moffset\u001b[39m\u001b[38;5;124m'\u001b[39m, \u001b[38;5;124m'\u001b[39m\u001b[38;5;124mmissid\u001b[39m\u001b[38;5;124m'\u001b[39m]\n\u001b[1;32m     33\u001b[0m \u001b[38;5;28;01mfor\u001b[39;00m key \u001b[38;5;129;01min\u001b[39;00m profiler\u001b[38;5;241m.\u001b[39mprofile_arrays:\n\u001b[0;32m---> 34\u001b[0m     \u001b[38;5;28msetattr\u001b[39m(profiler, key, \u001b[43mmat_d\u001b[49m\u001b[43m[\u001b[49m\u001b[43mprofiler\u001b[49m\u001b[38;5;241;43m.\u001b[39;49m\u001b[43mbase_key\u001b[49m\u001b[43m]\u001b[49m\u001b[43m[\u001b[49m\u001b[43mkey\u001b[49m\u001b[43m]\u001b[49m)\n\u001b[1;32m     36\u001b[0m \u001b[38;5;66;03m# Profile + depth\u001b[39;00m\n\u001b[1;32m     37\u001b[0m \u001b[38;5;28;01mif\u001b[39;00m profiler\u001b[38;5;241m.\u001b[39madcp_on:\n",
      "\u001b[0;31mKeyError\u001b[0m: 'missid'"
     ]
    }
   ],
   "source": [
    "reload(gliderdata)\n",
    "reload(cugn_utils)\n",
    "datafiles = glob.glob('/home/xavier/Projects/Oceanography/data/Spray/ARCTERX/Leg2/*.mat')\n",
    "datafiles.sort()\n",
    "arcterx2 = gliderdata.SprayData.from_list(datafiles, dataset, adcp_on=False, in_field=True)\n",
    "arcterx2"
   ]
  },
  {
   "cell_type": "code",
   "execution_count": 41,
   "id": "9bdceaa3-2a5a-4dfc-9fb6-ff5a19982999",
   "metadata": {},
   "outputs": [
    {
     "data": {
      "text/plain": [
       "((180,), (180,))"
      ]
     },
     "execution_count": 41,
     "metadata": {},
     "output_type": "execute_result"
    }
   ],
   "source": [
    "arcterx2.dist.shape, arcterx2.offset.shape"
   ]
  },
  {
   "cell_type": "markdown",
   "id": "41719fdb-7b6b-4bc8-9b8e-3250d0348880",
   "metadata": {},
   "source": [
    "# Generate pairs"
   ]
  },
  {
   "cell_type": "code",
   "execution_count": 50,
   "id": "40d03dff-b240-4afe-b45a-e077ca8745a3",
   "metadata": {},
   "outputs": [],
   "source": [
    "reload(gliderpairs)\n",
    "max_time = 10.\n",
    "gPairs = gliderpairs.GliderPairs(arcterx2, max_time=max_time)"
   ]
  },
  {
   "cell_type": "markdown",
   "id": "8f32d79a-05bb-4fcd-8100-bdf7b477d968",
   "metadata": {},
   "source": [
    "# Structure function"
   ]
  },
  {
   "cell_type": "code",
   "execution_count": 51,
   "id": "8b4f2a01-e60b-4d99-b9b0-fdc4553b3e1b",
   "metadata": {},
   "outputs": [
    {
     "name": "stderr",
     "output_type": "stream",
     "text": [
      "/home/xavier/Projects/Oceanography/python/cugn/cugn/gliderpairs.py:344: RuntimeWarning: Mean of empty slice\n",
      "  avg_r.append(np.nanmean(self.r[in_r]))\n",
      "/home/xavier/Projects/Oceanography/python/cugn/cugn/gliderpairs.py:345: RuntimeWarning: Mean of empty slice\n",
      "  avg_S1.append(np.nanmean(self.S1[in_r]))\n",
      "/home/xavier/miniconda3/envs/ocean/lib/python3.12/site-packages/numpy/lib/_nanfunctions_impl.py:1231: RuntimeWarning: Mean of empty slice\n",
      "  return np.nanmean(a, axis, out=out, keepdims=keepdims)\n",
      "/home/xavier/miniconda3/envs/ocean/lib/python3.12/site-packages/numpy/lib/_nanfunctions_impl.py:2035: RuntimeWarning: Degrees of freedom <= 0 for slice.\n",
      "  var = nanvar(a, axis=axis, dtype=dtype, out=out, ddof=ddof,\n",
      "/home/xavier/Projects/Oceanography/python/cugn/cugn/gliderpairs.py:348: RuntimeWarning: Mean of empty slice\n",
      "  avg_S2.append(np.nanmean(self.S2[in_r]))\n",
      "/home/xavier/Projects/Oceanography/python/cugn/cugn/gliderpairs.py:350: RuntimeWarning: Mean of empty slice\n",
      "  avg_S3.append(np.nanmean(self.S3[in_r]))\n",
      "/home/xavier/Projects/Oceanography/python/cugn/cugn/gliderpairs.py:354: RuntimeWarning: Mean of empty slice\n",
      "  err_S1.append(np.nanstd(np.nanmean(self.S1[in_r], axis=1)))\n",
      "/home/xavier/Projects/Oceanography/python/cugn/cugn/gliderpairs.py:355: RuntimeWarning: Mean of empty slice\n",
      "  err_S2.append(np.nanstd(np.nanmean(self.S2[in_r], axis=1)))\n",
      "/home/xavier/Projects/Oceanography/python/cugn/cugn/gliderpairs.py:356: RuntimeWarning: Mean of empty slice\n",
      "  err_S3.append(np.nanstd(np.nanmean(self.S3[in_r], axis=1)))\n"
     ]
    }
   ],
   "source": [
    "iz = 1\n",
    "nbins = 20\n",
    "rbins = 10**np.linspace(0., np.log10(400), nbins) # km\n",
    "#\n",
    "variables = 'dTdTdT'\n",
    "# Velocity\n",
    "gPairs.calc_delta(iz, variables, skip_velocity=True)\n",
    "gPairs.calc_Sn(variables)\n",
    "\n",
    "Sn_dict = gPairs.calc_Sn_vs_r(rbins, nboot=10000)"
   ]
  },
  {
   "cell_type": "code",
   "execution_count": 52,
   "id": "fc517002-b934-42e1-9462-ac1869177e4e",
   "metadata": {},
   "outputs": [
    {
     "data": {
      "text/plain": [
       "{'config': {'variables': 'dTdTdT',\n",
       "  'N': array([  0,   0,   2,   7,  21,  33,  46,  59, 105, 130,  68, 101, 153,\n",
       "          17,  46,   0,   0,   0,   0])},\n",
       " 'r': array([        nan,         nan,  2.42961432,  3.38771461,  4.2118281 ,\n",
       "         5.85009013,  7.63360585, 10.96634657, 14.91469472, 19.69588839,\n",
       "        27.17662455, 38.51595553, 51.7824934 , 67.18998089, 98.43515396,\n",
       "                nan,         nan,         nan,         nan]),\n",
       " 'S1_dT': array([        nan,         nan,  0.33851812, -0.00309083,  0.00440638,\n",
       "         0.01369238,  0.08498664,  0.04966812, -0.01698577, -0.00582641,\n",
       "         0.00625205,  0.00288289,  0.04961013,  0.00988483, -0.05768436,\n",
       "                nan,         nan,         nan,         nan]),\n",
       " 'std_S1_dT': array([       nan,        nan, 0.31123284, 0.1703601 , 0.21644757,\n",
       "        0.17463064, 0.21107875, 0.28446749, 0.22834877, 0.29417281,\n",
       "        0.41160841, 0.56495959, 0.80114191, 0.74210463, 1.0462983 ,\n",
       "               nan,        nan,        nan,        nan]),\n",
       " 'med_S1_dT': array([        nan,         nan,  0.6465    , -0.077     , -0.0935    ,\n",
       "        -0.04422222,  0.0864    ,  0.08525   , -0.00125   , -0.023     ,\n",
       "         0.05475   , -0.01666667,  0.27833333,  0.588     , -0.11533333,\n",
       "                nan,         nan,         nan,         nan]),\n",
       " 'err_S1_dT': array([       nan,        nan, 0.22039264, 0.06428576, 0.0475076 ,\n",
       "        0.03085365, 0.03136457, 0.03808257, 0.02269912, 0.02599297,\n",
       "        0.04988636, 0.05614554, 0.06478563, 0.18080109, 0.15345516,\n",
       "               nan,        nan,        nan,        nan]),\n",
       " 'S2_dT**2': array([       nan,        nan, 0.2114604 , 0.02903212, 0.04686897,\n",
       "        0.03068334, 0.05177697, 0.08338868, 0.05243168, 0.08657159,\n",
       "        0.16946057, 0.31918764, 0.64428953, 0.55081699, 1.09806762,\n",
       "               nan,        nan,        nan,        nan]),\n",
       " 'std_S2_dT**2': array([       nan,        nan, 0.20868162, 0.04338513, 0.09307345,\n",
       "        0.04625085, 0.08091865, 0.11369897, 0.10877111, 0.17329239,\n",
       "        0.21561701, 0.24346625, 0.47129855, 0.16844311, 1.31329163,\n",
       "               nan,        nan,        nan,        nan]),\n",
       " 'err_S2_dT**2': array([       nan,        nan, 0.14777326, 0.01640151, 0.02054394,\n",
       "        0.00803307, 0.01215602, 0.01517071, 0.01092459, 0.01517801,\n",
       "        0.02618389, 0.02413507, 0.03797549, 0.04038286, 0.19125674,\n",
       "               nan,        nan,        nan,        nan]),\n",
       " 'S3_dTdTdT': array([        nan,         nan,  0.13653175,  0.00602705,  0.01599588,\n",
       "         0.00400189,  0.00311243,  0.01409404,  0.00467937,  0.02289822,\n",
       "         0.00790021,  0.0244109 , -0.00242503, -0.03614581, -0.15966082,\n",
       "                nan,         nan,         nan,         nan]),\n",
       " 'std_S3_dTdTdT': array([       nan,        nan, 0.13509194, 0.01753215, 0.06068407,\n",
       "        0.02011568, 0.04920794, 0.0917115 , 0.08056793, 0.16548084,\n",
       "        0.22959798, 0.31790489, 0.89354895, 0.46323804, 3.06478662,\n",
       "               nan,        nan,        nan,        nan]),\n",
       " 'err_S3_dTdTdT': array([       nan,        nan, 0.09566236, 0.00662615, 0.01338368,\n",
       "        0.00354114, 0.00731577, 0.01225011, 0.00799407, 0.01454576,\n",
       "        0.02775908, 0.03171657, 0.07268595, 0.11287783, 0.45035131,\n",
       "               nan,        nan,        nan,        nan])}"
      ]
     },
     "execution_count": 52,
     "metadata": {},
     "output_type": "execute_result"
    }
   ],
   "source": [
    "Sn_dict"
   ]
  },
  {
   "cell_type": "code",
   "execution_count": 53,
   "id": "bca488e0-ad95-493a-bd0f-314df5ba36f1",
   "metadata": {},
   "outputs": [
    {
     "data": {
      "text/plain": [
       "array([  10,   20,   30,   40,   50,   60,   70,   80,   90,  100,  110,\n",
       "        120,  130,  140,  150,  160,  170,  180,  190,  200,  210,  220,\n",
       "        230,  240,  250,  260,  270,  280,  290,  300,  310,  320,  330,\n",
       "        340,  350,  360,  370,  380,  390,  400,  410,  420,  430,  440,\n",
       "        450,  460,  470,  480,  490,  500,  510,  520,  530,  540,  550,\n",
       "        560,  570,  580,  590,  600,  610,  620,  630,  640,  650,  660,\n",
       "        670,  680,  690,  700,  710,  720,  730,  740,  750,  760,  770,\n",
       "        780,  790,  800,  810,  820,  830,  840,  850,  860,  870,  880,\n",
       "        890,  900,  910,  920,  930,  940,  950,  960,  970,  980,  990,\n",
       "       1000], dtype=uint16)"
      ]
     },
     "execution_count": 53,
     "metadata": {},
     "output_type": "execute_result"
    }
   ],
   "source": [
    "s33.depth"
   ]
  },
  {
   "cell_type": "markdown",
   "id": "50199117-3627-437a-925f-3ed3277804cd",
   "metadata": {},
   "source": [
    "----"
   ]
  },
  {
   "cell_type": "code",
   "execution_count": 12,
   "id": "34f17df0-6afb-4060-9b9b-c075e0f8c2ff",
   "metadata": {},
   "outputs": [],
   "source": [
    "d = pymatreader.read_mat(datafile)"
   ]
  },
  {
   "cell_type": "code",
   "execution_count": 13,
   "id": "68d34f31-31a1-47e9-a7f1-2eddb74f3865",
   "metadata": {},
   "outputs": [
    {
     "data": {
      "text/plain": [
       "dict_keys(['time', 'lat', 'lon', 'timeu', 'latu', 'lonu', 'u', 'v', 'depth', 't', 's', 'fl', 'theta', 'sigma', 'rho', 'function', 'bintime', 'udop', 'vdop', 'abs'])"
      ]
     },
     "execution_count": 13,
     "metadata": {},
     "output_type": "execute_result"
    }
   ],
   "source": [
    "d['bindata'].keys()"
   ]
  },
  {
   "cell_type": "code",
   "execution_count": 15,
   "id": "ad773469-fe26-484d-b3fc-584a2af36441",
   "metadata": {},
   "outputs": [
    {
     "data": {
      "text/plain": [
       "(84,)"
      ]
     },
     "execution_count": 15,
     "metadata": {},
     "output_type": "execute_result"
    }
   ],
   "source": [
    "d['bindata']['time'].shape"
   ]
  },
  {
   "cell_type": "code",
   "execution_count": 18,
   "id": "86f2a0b9-0a90-430d-bca2-6dd69d6fa493",
   "metadata": {},
   "outputs": [
    {
     "data": {
      "text/plain": [
       "(100, 84)"
      ]
     },
     "execution_count": 18,
     "metadata": {},
     "output_type": "execute_result"
    }
   ],
   "source": [
    "d['bindata']['t'].shape"
   ]
  },
  {
   "cell_type": "code",
   "execution_count": null,
   "id": "e15f5882-b1f0-48c6-a87c-fc703b040bc1",
   "metadata": {},
   "outputs": [],
   "source": []
  }
 ],
 "metadata": {
  "kernelspec": {
   "display_name": "Python 3 (ipykernel)",
   "language": "python",
   "name": "python3"
  },
  "language_info": {
   "codemirror_mode": {
    "name": "ipython",
    "version": 3
   },
   "file_extension": ".py",
   "mimetype": "text/x-python",
   "name": "python",
   "nbconvert_exporter": "python",
   "pygments_lexer": "ipython3",
   "version": "3.12.2"
  }
 },
 "nbformat": 4,
 "nbformat_minor": 5
}
