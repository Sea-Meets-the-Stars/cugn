{
 "cells": [
  {
   "cell_type": "markdown",
   "id": "ded6ebdb-9f08-412f-9f3d-3c53cb676860",
   "metadata": {},
   "source": [
    "# T Structure Function"
   ]
  },
  {
   "cell_type": "code",
   "execution_count": 44,
   "id": "647a7266-8417-4a03-aefc-0908f47c2e84",
   "metadata": {},
   "outputs": [],
   "source": [
    "# imports\n",
    "from importlib import reload\n",
    "import os\n",
    "import glob\n",
    "\n",
    "import numpy as np\n",
    "\n",
    "from scipy.io import loadmat\n",
    "\n",
    "from cugn import gliderdata\n",
    "from cugn import gliderpairs\n",
    "from cugn import utils as cugn_utils"
   ]
  },
  {
   "cell_type": "markdown",
   "id": "e9055f20-8323-4157-ad2e-8e6dfcf1c6a3",
   "metadata": {},
   "source": [
    "# Load up\n",
    "\n",
    "        time: [85x1 double]\n",
    "         lat: [85x1 double]\n",
    "         lon: [85x1 double]\n",
    "       timeu: [85x1 double]\n",
    "        latu: [85x1 double]\n",
    "        lonu: [85x1 double]\n",
    "           u: [85x1 double]\n",
    "           v: [85x1 double]\n",
    "       depth: [100x1 double]\n",
    "           t: [100x85 double]\n",
    "           s: [100x85 double]\n",
    "          fl: [100x85 double]\n",
    "       theta: [100x85 double]\n",
    "       sigma: [100x85 double]\n",
    "         rho: [100x85 double]\n",
    "    function: 'binsat'\n",
    "     bintime: 1.7396e+09\n",
    "        udop: [100x85 double]\n",
    "        vdop: [100x85 double]\n",
    "         abs: [100x85 double]"
   ]
  },
  {
   "cell_type": "code",
   "execution_count": 34,
   "id": "948c905b-3233-41c3-b345-07cfed8dbbba",
   "metadata": {},
   "outputs": [
    {
     "data": {
      "text/plain": [
       "FieldData object for ARCTERX-Leg2\n",
       "  Number of profiles: 61\n",
       "  Time range: 1738456185.0000043 to 1739552955.0000005\n",
       "  Variables:\n",
       "    depth: (100,)\n",
       "    lat: (61,)\n",
       "    lon: (61,)\n",
       "    time: (61,)\n",
       "    missid: (61,)\n",
       "    dist: (61,)\n",
       "    s: (100, 61)\n",
       "    t: (100, 61)\n",
       "    fl: (100, 61)\n",
       "    theta: (100, 61)"
      ]
     },
     "execution_count": 34,
     "metadata": {},
     "output_type": "execute_result"
    }
   ],
   "source": [
    "dataset = 'ARCTERX-Leg2'\n",
    "datafile = '/home/xavier/Projects/Oceanography/data/Spray/ARCTERX/Leg2/0033.mat'\n",
    "reload(gliderdata)\n",
    "s33 = gliderdata.FieldData(datafile, dataset)\n",
    "s33"
   ]
  },
  {
   "cell_type": "code",
   "execution_count": 35,
   "id": "e6e65d7d-0e66-4525-b6d9-ceec68423784",
   "metadata": {},
   "outputs": [
    {
     "data": {
      "text/plain": [
       "(100, 61)"
      ]
     },
     "execution_count": 35,
     "metadata": {},
     "output_type": "execute_result"
    }
   ],
   "source": [
    "s33.theta.shape"
   ]
  },
  {
   "cell_type": "markdown",
   "id": "0dfd83b9-3f40-424c-989c-02b73c84871c",
   "metadata": {},
   "source": [
    "# Combine Gliders"
   ]
  },
  {
   "cell_type": "code",
   "execution_count": 40,
   "id": "df77c2e2-31cf-44d2-9476-f4c829f97d3b",
   "metadata": {},
   "outputs": [
    {
     "data": {
      "text/plain": [
       "FieldData object for ARCTERX-Leg2\n",
       "  Number of profiles: 180\n",
       "  Time range: 1738456185.0000043 to 1739560514.9999974\n",
       "  Variables:\n",
       "    depth: (100,)\n",
       "    lat: (180,)\n",
       "    lon: (180,)\n",
       "    time: (180,)\n",
       "    missid: (180,)\n",
       "    dist: (180,)\n",
       "    offset: (180,)\n",
       "    s: (100, 180)\n",
       "    t: (100, 180)\n",
       "    fl: (100, 180)\n",
       "    theta: (100, 180)"
      ]
     },
     "execution_count": 40,
     "metadata": {},
     "output_type": "execute_result"
    }
   ],
   "source": [
    "reload(gliderdata)\n",
    "reload(cugn_utils)\n",
    "datafiles = glob.glob('/home/xavier/Projects/Oceanography/data/Spray/ARCTERX/Leg2/*.mat')\n",
    "datafiles.sort()\n",
    "arcterx2 = gliderdata.FieldData.from_list(datafiles, dataset)\n",
    "arcterx2"
   ]
  },
  {
   "cell_type": "code",
   "execution_count": 41,
   "id": "9bdceaa3-2a5a-4dfc-9fb6-ff5a19982999",
   "metadata": {},
   "outputs": [
    {
     "data": {
      "text/plain": [
       "((180,), (180,))"
      ]
     },
     "execution_count": 41,
     "metadata": {},
     "output_type": "execute_result"
    }
   ],
   "source": [
    "arcterx2.dist.shape, arcterx2.offset.shape"
   ]
  },
  {
   "cell_type": "markdown",
   "id": "41719fdb-7b6b-4bc8-9b8e-3250d0348880",
   "metadata": {},
   "source": [
    "# Generate pairs"
   ]
  },
  {
   "cell_type": "code",
   "execution_count": 50,
   "id": "40d03dff-b240-4afe-b45a-e077ca8745a3",
   "metadata": {},
   "outputs": [],
   "source": [
    "reload(gliderpairs)\n",
    "max_time = 10.\n",
    "gPairs = gliderpairs.GliderPairs(arcterx2, max_time=max_time)"
   ]
  },
  {
   "cell_type": "markdown",
   "id": "8f32d79a-05bb-4fcd-8100-bdf7b477d968",
   "metadata": {},
   "source": [
    "# Structure function"
   ]
  },
  {
   "cell_type": "code",
   "execution_count": 51,
   "id": "8b4f2a01-e60b-4d99-b9b0-fdc4553b3e1b",
   "metadata": {},
   "outputs": [
    {
     "name": "stderr",
     "output_type": "stream",
     "text": [
      "/home/xavier/Projects/Oceanography/python/cugn/cugn/gliderpairs.py:344: RuntimeWarning: Mean of empty slice\n",
      "  avg_r.append(np.nanmean(self.r[in_r]))\n",
      "/home/xavier/Projects/Oceanography/python/cugn/cugn/gliderpairs.py:345: RuntimeWarning: Mean of empty slice\n",
      "  avg_S1.append(np.nanmean(self.S1[in_r]))\n",
      "/home/xavier/miniconda3/envs/ocean/lib/python3.12/site-packages/numpy/lib/_nanfunctions_impl.py:1231: RuntimeWarning: Mean of empty slice\n",
      "  return np.nanmean(a, axis, out=out, keepdims=keepdims)\n",
      "/home/xavier/miniconda3/envs/ocean/lib/python3.12/site-packages/numpy/lib/_nanfunctions_impl.py:2035: RuntimeWarning: Degrees of freedom <= 0 for slice.\n",
      "  var = nanvar(a, axis=axis, dtype=dtype, out=out, ddof=ddof,\n",
      "/home/xavier/Projects/Oceanography/python/cugn/cugn/gliderpairs.py:348: RuntimeWarning: Mean of empty slice\n",
      "  avg_S2.append(np.nanmean(self.S2[in_r]))\n",
      "/home/xavier/Projects/Oceanography/python/cugn/cugn/gliderpairs.py:350: RuntimeWarning: Mean of empty slice\n",
      "  avg_S3.append(np.nanmean(self.S3[in_r]))\n",
      "/home/xavier/Projects/Oceanography/python/cugn/cugn/gliderpairs.py:354: RuntimeWarning: Mean of empty slice\n",
      "  err_S1.append(np.nanstd(np.nanmean(self.S1[in_r], axis=1)))\n",
      "/home/xavier/Projects/Oceanography/python/cugn/cugn/gliderpairs.py:355: RuntimeWarning: Mean of empty slice\n",
      "  err_S2.append(np.nanstd(np.nanmean(self.S2[in_r], axis=1)))\n",
      "/home/xavier/Projects/Oceanography/python/cugn/cugn/gliderpairs.py:356: RuntimeWarning: Mean of empty slice\n",
      "  err_S3.append(np.nanstd(np.nanmean(self.S3[in_r], axis=1)))\n"
     ]
    }
   ],
   "source": [
    "iz = 1\n",
    "nbins = 20\n",
    "rbins = 10**np.linspace(0., np.log10(400), nbins) # km\n",
    "#\n",
    "variables = 'dTdTdT'\n",
    "# Velocity\n",
    "gPairs.calc_delta(iz, variables, skip_velocity=True)\n",
    "gPairs.calc_Sn(variables)\n",
    "\n",
    "Sn_dict = gPairs.calc_Sn_vs_r(rbins, nboot=10000)"
   ]
  },
  {
   "cell_type": "code",
   "execution_count": 52,
   "id": "fc517002-b934-42e1-9462-ac1869177e4e",
   "metadata": {},
   "outputs": [
    {
     "data": {
      "text/plain": [
       "{'config': {'variables': 'dTdTdT',\n",
       "  'N': array([  0,   0,   2,   7,  21,  33,  46,  59, 105, 130,  68, 101, 153,\n",
       "          17,  46,   0,   0,   0,   0])},\n",
       " 'r': array([        nan,         nan,  2.42961432,  3.38771461,  4.2118281 ,\n",
       "         5.85009013,  7.63360585, 10.96634657, 14.91469472, 19.69588839,\n",
       "        27.17662455, 38.51595553, 51.7824934 , 67.18998089, 98.43515396,\n",
       "                nan,         nan,         nan,         nan]),\n",
       " 'S1_dT': array([        nan,         nan,  0.33851812, -0.00309083,  0.00440638,\n",
       "         0.01369238,  0.08498664,  0.04966812, -0.01698577, -0.00582641,\n",
       "         0.00625205,  0.00288289,  0.04961013,  0.00988483, -0.05768436,\n",
       "                nan,         nan,         nan,         nan]),\n",
       " 'std_S1_dT': array([       nan,        nan, 0.31123284, 0.1703601 , 0.21644757,\n",
       "        0.17463064, 0.21107875, 0.28446749, 0.22834877, 0.29417281,\n",
       "        0.41160841, 0.56495959, 0.80114191, 0.74210463, 1.0462983 ,\n",
       "               nan,        nan,        nan,        nan]),\n",
       " 'med_S1_dT': array([        nan,         nan,  0.6465    , -0.077     , -0.0935    ,\n",
       "        -0.04422222,  0.0864    ,  0.08525   , -0.00125   , -0.023     ,\n",
       "         0.05475   , -0.01666667,  0.27833333,  0.588     , -0.11533333,\n",
       "                nan,         nan,         nan,         nan]),\n",
       " 'err_S1_dT': array([       nan,        nan, 0.22039264, 0.06428576, 0.0475076 ,\n",
       "        0.03085365, 0.03136457, 0.03808257, 0.02269912, 0.02599297,\n",
       "        0.04988636, 0.05614554, 0.06478563, 0.18080109, 0.15345516,\n",
       "               nan,        nan,        nan,        nan]),\n",
       " 'S2_dT**2': array([       nan,        nan, 0.2114604 , 0.02903212, 0.04686897,\n",
       "        0.03068334, 0.05177697, 0.08338868, 0.05243168, 0.08657159,\n",
       "        0.16946057, 0.31918764, 0.64428953, 0.55081699, 1.09806762,\n",
       "               nan,        nan,        nan,        nan]),\n",
       " 'std_S2_dT**2': array([       nan,        nan, 0.20868162, 0.04338513, 0.09307345,\n",
       "        0.04625085, 0.08091865, 0.11369897, 0.10877111, 0.17329239,\n",
       "        0.21561701, 0.24346625, 0.47129855, 0.16844311, 1.31329163,\n",
       "               nan,        nan,        nan,        nan]),\n",
       " 'err_S2_dT**2': array([       nan,        nan, 0.14777326, 0.01640151, 0.02054394,\n",
       "        0.00803307, 0.01215602, 0.01517071, 0.01092459, 0.01517801,\n",
       "        0.02618389, 0.02413507, 0.03797549, 0.04038286, 0.19125674,\n",
       "               nan,        nan,        nan,        nan]),\n",
       " 'S3_dTdTdT': array([        nan,         nan,  0.13653175,  0.00602705,  0.01599588,\n",
       "         0.00400189,  0.00311243,  0.01409404,  0.00467937,  0.02289822,\n",
       "         0.00790021,  0.0244109 , -0.00242503, -0.03614581, -0.15966082,\n",
       "                nan,         nan,         nan,         nan]),\n",
       " 'std_S3_dTdTdT': array([       nan,        nan, 0.13509194, 0.01753215, 0.06068407,\n",
       "        0.02011568, 0.04920794, 0.0917115 , 0.08056793, 0.16548084,\n",
       "        0.22959798, 0.31790489, 0.89354895, 0.46323804, 3.06478662,\n",
       "               nan,        nan,        nan,        nan]),\n",
       " 'err_S3_dTdTdT': array([       nan,        nan, 0.09566236, 0.00662615, 0.01338368,\n",
       "        0.00354114, 0.00731577, 0.01225011, 0.00799407, 0.01454576,\n",
       "        0.02775908, 0.03171657, 0.07268595, 0.11287783, 0.45035131,\n",
       "               nan,        nan,        nan,        nan])}"
      ]
     },
     "execution_count": 52,
     "metadata": {},
     "output_type": "execute_result"
    }
   ],
   "source": [
    "Sn_dict"
   ]
  },
  {
   "cell_type": "code",
   "execution_count": null,
   "id": "bca488e0-ad95-493a-bd0f-314df5ba36f1",
   "metadata": {},
   "outputs": [],
   "source": []
  }
 ],
 "metadata": {
  "kernelspec": {
   "display_name": "Python 3 (ipykernel)",
   "language": "python",
   "name": "python3"
  },
  "language_info": {
   "codemirror_mode": {
    "name": "ipython",
    "version": 3
   },
   "file_extension": ".py",
   "mimetype": "text/x-python",
   "name": "python",
   "nbconvert_exporter": "python",
   "pygments_lexer": "ipython3",
   "version": "3.12.2"
  }
 },
 "nbformat": 4,
 "nbformat_minor": 5
}
