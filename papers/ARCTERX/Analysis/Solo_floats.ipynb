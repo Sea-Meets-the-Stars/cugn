{
 "cells": [
  {
   "cell_type": "markdown",
   "id": "ded6ebdb-9f08-412f-9f3d-3c53cb676860",
   "metadata": {},
   "source": [
    "# Explore Solo Floats"
   ]
  },
  {
   "cell_type": "code",
   "execution_count": 3,
   "id": "647a7266-8417-4a03-aefc-0908f47c2e84",
   "metadata": {},
   "outputs": [],
   "source": [
    "# imports\n",
    "from importlib import reload\n",
    "import os\n",
    "import glob\n",
    "\n",
    "import numpy as np\n",
    "\n",
    "from scipy.io import loadmat\n",
    "\n",
    "from cugn import floatdata\n",
    "#from cugn import gliderpairs\n",
    "from cugn import utils as cugn_utils\n",
    "\n",
    "import pymatreader"
   ]
  },
  {
   "cell_type": "markdown",
   "id": "ffdf3f60-4680-4b5f-9a1b-44128a85f0fa",
   "metadata": {},
   "source": [
    "# Load"
   ]
  },
  {
   "cell_type": "code",
   "execution_count": 4,
   "id": "1093127d-2596-4dd1-addc-97a96407f7ed",
   "metadata": {},
   "outputs": [
    {
     "data": {
      "text/plain": [
       "dict_keys(['time', 'lat', 'lon', 'u', 'v', 'tsurf', 'lonsurf', 'latsurf', 'usurf', 'vsurf', 'sn', 'depth', 't', 's', 'theta', 'sigma', 'rho', 'p', 'bintime', 'tbincombine', 'sbincombine', 'nsq', 'mld', 'x', 'dn', 'gatz', 'gbsz', 'tu', 'function', 'readme'])"
      ]
     },
     "execution_count": 4,
     "metadata": {},
     "output_type": "execute_result"
    }
   ],
   "source": [
    "datafile = '/home/xavier/Projects/Oceanography/data/ARCTERX/Floats/8996.mat'\n",
    "d8996 = pymatreader.read_mat(datafile)\n",
    "d8996['bindata'].keys()"
   ]
  },
  {
   "cell_type": "markdown",
   "id": "67eb6678-15e6-4510-94a7-e9628aded93c",
   "metadata": {},
   "source": [
    "# Explore"
   ]
  },
  {
   "cell_type": "code",
   "execution_count": 5,
   "id": "7605cdbe-f085-4aa3-8ad1-54ed604ec681",
   "metadata": {},
   "outputs": [
    {
     "data": {
      "text/plain": [
       "array([ 10,  20,  30,  40,  50,  60,  70,  80,  90, 100, 110, 120, 130,\n",
       "       140, 150, 160, 170, 180, 190, 200], dtype=uint8)"
      ]
     },
     "execution_count": 5,
     "metadata": {},
     "output_type": "execute_result"
    }
   ],
   "source": [
    "d8996['bindata']['depth']"
   ]
  },
  {
   "cell_type": "markdown",
   "id": "6c575eea-954b-47cc-acbe-da8eb179867c",
   "metadata": {},
   "source": [
    "# Now in code"
   ]
  },
  {
   "cell_type": "code",
   "execution_count": 6,
   "id": "2195ffcf-1d3c-49d5-83f4-0f7804821c7a",
   "metadata": {},
   "outputs": [
    {
     "ename": "KeyError",
     "evalue": "'missid'",
     "output_type": "error",
     "traceback": [
      "\u001b[0;31m---------------------------------------------------------------------------\u001b[0m",
      "\u001b[0;31mKeyError\u001b[0m                                  Traceback (most recent call last)",
      "Cell \u001b[0;32mIn[6], line 2\u001b[0m\n\u001b[1;32m      1\u001b[0m reload(floatdata)\n\u001b[0;32m----> 2\u001b[0m s8996 \u001b[38;5;241m=\u001b[39m \u001b[43mfloatdata\u001b[49m\u001b[38;5;241;43m.\u001b[39;49m\u001b[43mload_dataset\u001b[49m\u001b[43m(\u001b[49m\u001b[38;5;124;43m'\u001b[39;49m\u001b[38;5;124;43mARCTERX-Leg2\u001b[39;49m\u001b[38;5;124;43m'\u001b[39;49m\u001b[43m)\u001b[49m\n",
      "File \u001b[0;32m~/Projects/Oceanography/python/cugn/cugn/floatdata.py:29\u001b[0m, in \u001b[0;36mload_dataset\u001b[0;34m(dataset)\u001b[0m\n\u001b[1;32m     26\u001b[0m \u001b[38;5;28;01mif\u001b[39;00m dataset \u001b[38;5;241m==\u001b[39m \u001b[38;5;124m'\u001b[39m\u001b[38;5;124mARCTERX-Leg2\u001b[39m\u001b[38;5;124m'\u001b[39m:\n\u001b[1;32m     27\u001b[0m     dfiles \u001b[38;5;241m=\u001b[39m glob\u001b[38;5;241m.\u001b[39mglob(\n\u001b[1;32m     28\u001b[0m         \u001b[38;5;124m'\u001b[39m\u001b[38;5;124m/home/xavier/Projects/Oceanography/data/ARCTERX/Floats/*.mat\u001b[39m\u001b[38;5;124m'\u001b[39m)\n\u001b[0;32m---> 29\u001b[0m     \u001b[38;5;28;01mreturn\u001b[39;00m \u001b[43mSoloData\u001b[49m\u001b[38;5;241;43m.\u001b[39;49m\u001b[43mfrom_list\u001b[49m\u001b[43m(\u001b[49m\u001b[43mdfiles\u001b[49m\u001b[43m,\u001b[49m\u001b[43m \u001b[49m\u001b[43mdataset\u001b[49m\u001b[43m,\u001b[49m\u001b[43m \u001b[49m\u001b[43min_field\u001b[49m\u001b[38;5;241;43m=\u001b[39;49m\u001b[38;5;28;43;01mTrue\u001b[39;49;00m\u001b[43m)\u001b[49m\n\u001b[1;32m     30\u001b[0m \u001b[38;5;28;01melse\u001b[39;00m:\n\u001b[1;32m     31\u001b[0m     \u001b[38;5;28;01mraise\u001b[39;00m \u001b[38;5;167;01mIOError\u001b[39;00m(\u001b[38;5;124mf\u001b[39m\u001b[38;5;124m\"\u001b[39m\u001b[38;5;124mNot ready for this dataset: \u001b[39m\u001b[38;5;132;01m{\u001b[39;00mdataset\u001b[38;5;132;01m}\u001b[39;00m\u001b[38;5;124m\"\u001b[39m)\n",
      "File \u001b[0;32m~/Projects/Oceanography/python/cugn/cugn/profiledata.py:86\u001b[0m, in \u001b[0;36mProfileData.from_list\u001b[0;34m(cls, datafiles, dataset, **kwargs)\u001b[0m\n\u001b[1;32m     83\u001b[0m     \u001b[38;5;28;01mreturn\u001b[39;00m \u001b[38;5;28mcls\u001b[39m\n\u001b[1;32m     85\u001b[0m \u001b[38;5;66;03m# Load the first file\u001b[39;00m\n\u001b[0;32m---> 86\u001b[0m gData \u001b[38;5;241m=\u001b[39m \u001b[38;5;28;43mcls\u001b[39;49m\u001b[43m(\u001b[49m\u001b[43mdatafiles\u001b[49m\u001b[43m[\u001b[49m\u001b[38;5;241;43m0\u001b[39;49m\u001b[43m]\u001b[49m\u001b[43m,\u001b[49m\u001b[43m \u001b[49m\u001b[43mdataset\u001b[49m\u001b[43m,\u001b[49m\u001b[43m \u001b[49m\u001b[38;5;241;43m*\u001b[39;49m\u001b[38;5;241;43m*\u001b[39;49m\u001b[43mkwargs\u001b[49m\u001b[43m)\u001b[49m\n\u001b[1;32m     88\u001b[0m \u001b[38;5;66;03m# Load the rest\u001b[39;00m\n\u001b[1;32m     89\u001b[0m \u001b[38;5;28;01mfor\u001b[39;00m datafile \u001b[38;5;129;01min\u001b[39;00m datafiles[\u001b[38;5;241m1\u001b[39m:]:\n\u001b[1;32m     90\u001b[0m     \u001b[38;5;66;03m#embed(header='87 of profiledata')\u001b[39;00m\n",
      "File \u001b[0;32m~/Projects/Oceanography/python/cugn/cugn/floatdata.py:55\u001b[0m, in \u001b[0;36mSoloData.__init__\u001b[0;34m(self, datafile, dataset, in_field)\u001b[0m\n\u001b[1;32m     52\u001b[0m profiledata\u001b[38;5;241m.\u001b[39mProfileData\u001b[38;5;241m.\u001b[39m\u001b[38;5;21m__init__\u001b[39m(\u001b[38;5;28mself\u001b[39m, datafile, dataset)\n\u001b[1;32m     54\u001b[0m \u001b[38;5;66;03m# Load\u001b[39;00m\n\u001b[0;32m---> 55\u001b[0m \u001b[43midg_utils\u001b[49m\u001b[38;5;241;43m.\u001b[39;49m\u001b[43mload_binned_data\u001b[49m\u001b[43m(\u001b[49m\u001b[38;5;28;43mself\u001b[39;49m\u001b[43m)\u001b[49m\n",
      "File \u001b[0;32m~/Projects/Oceanography/python/cugn/cugn/idg_utils.py:37\u001b[0m, in \u001b[0;36mload_binned_data\u001b[0;34m(profiler)\u001b[0m\n\u001b[1;32m     35\u001b[0m     \u001b[38;5;28;01mif\u001b[39;00m ss \u001b[38;5;241m==\u001b[39m \u001b[38;5;241m0\u001b[39m:\n\u001b[1;32m     36\u001b[0m         gdi \u001b[38;5;241m=\u001b[39m np\u001b[38;5;241m.\u001b[39misfinite(mat_d[profiler\u001b[38;5;241m.\u001b[39mbase_key][key])\n\u001b[0;32m---> 37\u001b[0m     \u001b[38;5;28msetattr\u001b[39m(profiler, key, \u001b[43mmat_d\u001b[49m\u001b[43m[\u001b[49m\u001b[43mprofiler\u001b[49m\u001b[38;5;241;43m.\u001b[39;49m\u001b[43mbase_key\u001b[49m\u001b[43m]\u001b[49m\u001b[43m[\u001b[49m\u001b[43mkey\u001b[49m\u001b[43m]\u001b[49m[gdi])\n\u001b[1;32m     39\u001b[0m \u001b[38;5;66;03m# Profile + depth\u001b[39;00m\n\u001b[1;32m     40\u001b[0m \u001b[38;5;28;01mif\u001b[39;00m profiler\u001b[38;5;241m.\u001b[39mhas_adcp \u001b[38;5;129;01mand\u001b[39;00m profiler\u001b[38;5;241m.\u001b[39madcp_on: \n",
      "\u001b[0;31mKeyError\u001b[0m: 'missid'"
     ]
    }
   ],
   "source": [
    "reload(floatdata)\n",
    "s8996 = floatdata.load_dataset('ARCTERX-Leg2')"
   ]
  },
  {
   "cell_type": "code",
   "execution_count": null,
   "id": "2105ea74-8391-412f-b34b-35f93ee8b1fc",
   "metadata": {},
   "outputs": [],
   "source": []
  },
  {
   "cell_type": "code",
   "execution_count": null,
   "id": "3f1eef4d-8ef5-4207-bb76-4d64a3feffb6",
   "metadata": {},
   "outputs": [],
   "source": []
  }
 ],
 "metadata": {
  "kernelspec": {
   "display_name": "Python 3 (ipykernel)",
   "language": "python",
   "name": "python3"
  },
  "language_info": {
   "codemirror_mode": {
    "name": "ipython",
    "version": 3
   },
   "file_extension": ".py",
   "mimetype": "text/x-python",
   "name": "python",
   "nbconvert_exporter": "python",
   "pygments_lexer": "ipython3",
   "version": "3.12.2"
  }
 },
 "nbformat": 4,
 "nbformat_minor": 5
}
