{
 "cells": [
  {
   "cell_type": "markdown",
   "id": "ded6ebdb-9f08-412f-9f3d-3c53cb676860",
   "metadata": {},
   "source": [
    "# Explore Solo Floats"
   ]
  },
  {
   "cell_type": "code",
   "execution_count": 1,
   "id": "647a7266-8417-4a03-aefc-0908f47c2e84",
   "metadata": {},
   "outputs": [],
   "source": [
    "# imports\n",
    "from importlib import reload\n",
    "import os\n",
    "import glob\n",
    "\n",
    "import numpy as np\n",
    "\n",
    "from scipy.io import loadmat\n",
    "\n",
    "from cugn import gliderdata\n",
    "from cugn import gliderpairs\n",
    "from cugn import utils as cugn_utils\n",
    "\n",
    "import pymatreader"
   ]
  },
  {
   "cell_type": "markdown",
   "id": "ffdf3f60-4680-4b5f-9a1b-44128a85f0fa",
   "metadata": {},
   "source": [
    "# Load"
   ]
  },
  {
   "cell_type": "code",
   "execution_count": 7,
   "id": "1093127d-2596-4dd1-addc-97a96407f7ed",
   "metadata": {},
   "outputs": [
    {
     "data": {
      "text/plain": [
       "dict_keys(['time', 'lat', 'lon', 'u', 'v', 'tsurf', 'lonsurf', 'latsurf', 'usurf', 'vsurf', 'sn', 'depth', 't', 's', 'theta', 'sigma', 'rho', 'p', 'bintime', 'tbincombine', 'sbincombine', 'nsq', 'mld', 'x', 'dn', 'gatz', 'gbsz', 'tu', 'function', 'readme'])"
      ]
     },
     "execution_count": 7,
     "metadata": {},
     "output_type": "execute_result"
    }
   ],
   "source": [
    "datafile = '/home/xavier/Projects/Oceanography/data/ARCTERX/Floats/8996.mat'\n",
    "d8996 = pymatreader.read_mat(datafile)\n",
    "d8996['bindata'].keys()"
   ]
  },
  {
   "cell_type": "markdown",
   "id": "67eb6678-15e6-4510-94a7-e9628aded93c",
   "metadata": {},
   "source": [
    "# Explore"
   ]
  },
  {
   "cell_type": "code",
   "execution_count": 8,
   "id": "7605cdbe-f085-4aa3-8ad1-54ed604ec681",
   "metadata": {},
   "outputs": [
    {
     "data": {
      "text/plain": [
       "array([ 10,  20,  30,  40,  50,  60,  70,  80,  90, 100, 110, 120, 130,\n",
       "       140, 150, 160, 170, 180, 190, 200], dtype=uint8)"
      ]
     },
     "execution_count": 8,
     "metadata": {},
     "output_type": "execute_result"
    }
   ],
   "source": [
    "d8996['bindata']['depth']"
   ]
  },
  {
   "cell_type": "code",
   "execution_count": null,
   "id": "aec0e71f-3226-4e52-b540-6c22171dd0fe",
   "metadata": {},
   "outputs": [],
   "source": []
  }
 ],
 "metadata": {
  "kernelspec": {
   "display_name": "Python 3 (ipykernel)",
   "language": "python",
   "name": "python3"
  },
  "language_info": {
   "codemirror_mode": {
    "name": "ipython",
    "version": 3
   },
   "file_extension": ".py",
   "mimetype": "text/x-python",
   "name": "python",
   "nbconvert_exporter": "python",
   "pygments_lexer": "ipython3",
   "version": "3.12.2"
  }
 },
 "nbformat": 4,
 "nbformat_minor": 5
}
