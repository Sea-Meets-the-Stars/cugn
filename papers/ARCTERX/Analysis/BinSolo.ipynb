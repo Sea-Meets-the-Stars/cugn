{
 "cells": [
  {
   "cell_type": "markdown",
   "id": "6e75da98-bec6-4230-b78d-9844fe568ed7",
   "metadata": {},
   "source": [
    "# Bin Solo"
   ]
  },
  {
   "cell_type": "code",
   "execution_count": 9,
   "id": "77aad9a7-45da-4639-a54b-21026c1918f6",
   "metadata": {},
   "outputs": [],
   "source": [
    "# imports\n",
    "\n",
    "import pymatreader\n",
    "\n",
    "from cugn import bin as cugn_bin"
   ]
  },
  {
   "cell_type": "markdown",
   "id": "ea2cee55-4232-40da-849a-f2f9a8e95ded",
   "metadata": {},
   "source": [
    "# Load up an example"
   ]
  },
  {
   "cell_type": "code",
   "execution_count": 3,
   "id": "35c7cefb-bbcf-4c48-bbc5-75971806a662",
   "metadata": {},
   "outputs": [],
   "source": [
    "dfile = '/run/user/1000/gvfs/smb-share:server=10.43.20.20,share=cruiseshare/Data/floats/solo/data/8999.mat'\n",
    "d = pymatreader.read_mat(dfile)"
   ]
  },
  {
   "cell_type": "markdown",
   "id": "d6466b2c-7516-4fd8-b6d5-c4ac1fe672bf",
   "metadata": {},
   "source": [
    "## Explore"
   ]
  },
  {
   "cell_type": "code",
   "execution_count": 4,
   "id": "360fedb9-7528-41e5-9ca6-fdd198f7ab4b",
   "metadata": {},
   "outputs": [
    {
     "data": {
      "text/plain": [
       "dict_keys(['time', 'lat', 'lon', 'p', 't', 's', 'theta', 'sigma', 'rho', 'depth', 'praw', 'traw', 'sraw', 'thetaraw', 'sigmaraw', 'rhoraw', 'depthraw', 'eng', 'qual', 'orig', 'u', 'v', 'usurf', 'vsurf', 'tsurf', 'lonsurf', 'latsurf', 'sn', 'depthmax'])"
      ]
     },
     "execution_count": 4,
     "metadata": {},
     "output_type": "execute_result"
    }
   ],
   "source": [
    "d['data'].keys()"
   ]
  },
  {
   "cell_type": "code",
   "execution_count": 8,
   "id": "d91329d7-77d3-46a6-8483-cf45a90b4784",
   "metadata": {},
   "outputs": [
    {
     "data": {
      "text/plain": [
       "(130,)"
      ]
     },
     "execution_count": 8,
     "metadata": {},
     "output_type": "execute_result"
    }
   ],
   "source": [
    "d['data']['depth'][1].shape"
   ]
  },
  {
   "cell_type": "markdown",
   "id": "7b7b8de2-24c7-42e8-b252-8f8a45a28380",
   "metadata": {},
   "source": [
    "# Run bin solo"
   ]
  },
  {
   "cell_type": "code",
   "execution_count": null,
   "id": "481f5e46-907d-4d78-a735-17c9f47caff3",
   "metadata": {},
   "outputs": [],
   "source": []
  }
 ],
 "metadata": {
  "kernelspec": {
   "display_name": "Python 3 (ipykernel)",
   "language": "python",
   "name": "python3"
  },
  "language_info": {
   "codemirror_mode": {
    "name": "ipython",
    "version": 3
   },
   "file_extension": ".py",
   "mimetype": "text/x-python",
   "name": "python",
   "nbconvert_exporter": "python",
   "pygments_lexer": "ipython3",
   "version": "3.12.2"
  }
 },
 "nbformat": 4,
 "nbformat_minor": 5
}
