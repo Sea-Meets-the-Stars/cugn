{
 "cells": [
  {
   "cell_type": "markdown",
   "id": "e88e6ba6-9e25-4821-92cc-f98a1229df36",
   "metadata": {},
   "source": [
    "# Himawari image for 2025-02-3T07:51:04Z"
   ]
  },
  {
   "cell_type": "code",
   "execution_count": 5,
   "id": "2d845581-8912-4972-9b64-2db0f360887e",
   "metadata": {},
   "outputs": [],
   "source": [
    "from importlib import reload\n",
    "\n",
    "from remote_sensing.download import podaac\n",
    "from remote_sensing.healpix import rs_healpix"
   ]
  },
  {
   "cell_type": "markdown",
   "id": "fafe1788-0aa0-4c73-a2ec-42a8c870d132",
   "metadata": {},
   "source": [
    "# Download the past day of files in the region"
   ]
  },
  {
   "cell_type": "markdown",
   "id": "ae1ae229-09ca-41ee-8b14-f24efbdfd911",
   "metadata": {},
   "source": [
    "## Grab em"
   ]
  },
  {
   "cell_type": "code",
   "execution_count": 2,
   "id": "58e5a5c2-f170-492e-afd0-5aeb1c7af672",
   "metadata": {},
   "outputs": [
    {
     "data": {
      "text/plain": [
       "['https://archive.podaac.earthdata.nasa.gov/podaac-ops-cumulus-protected/H09-AHI-L3C-ACSPO-v2.90/20250203040000-STAR-L3C_GHRSST-SSTsubskin-AHI_H09-ACSPO_V2.90-v02.0-fv01.0.nc',\n",
       " 'https://archive.podaac.earthdata.nasa.gov/podaac-ops-cumulus-protected/H09-AHI-L3C-ACSPO-v2.90/20250203030000-STAR-L3C_GHRSST-SSTsubskin-AHI_H09-ACSPO_V2.90-v02.0-fv01.0.nc']"
      ]
     },
     "execution_count": 2,
     "metadata": {},
     "output_type": "execute_result"
    }
   ],
   "source": [
    "data_files, _ = podaac.grab_file_list('H09-AHI-L3C-ACSPO-v2.90', dt_past=dict(days=1),\n",
    "                                             bbox='127,18,134,23')\n",
    "data_files[0:2]"
   ]
  },
  {
   "cell_type": "markdown",
   "id": "8fe5f32c-57d0-4e3f-9e67-b795de627fca",
   "metadata": {},
   "source": [
    "## Download em"
   ]
  },
  {
   "cell_type": "code",
   "execution_count": 13,
   "id": "3fb0ff90-5bd4-49d5-9d47-799363354c1b",
   "metadata": {},
   "outputs": [
    {
     "name": "stdout",
     "output_type": "stream",
     "text": [
      "Using default download directory: /home/xavier/Projects/Oceanography/data/Remote_Sensing/PODAAC\n",
      "Downloaded 0 files, failed on 0 files, skipped 21 existing files.\n"
     ]
    }
   ],
   "source": [
    "reload(podaac)\n",
    "local_files = podaac.download_files(data_files, verbose=False)"
   ]
  },
  {
   "cell_type": "markdown",
   "id": "00388764-bf2c-496f-b8f4-7aa5699c130b",
   "metadata": {},
   "source": [
    "# Generate RS_Healpix objects"
   ]
  },
  {
   "cell_type": "code",
   "execution_count": null,
   "id": "3459d62c-0d69-4707-aaeb-bf0b0fa255a2",
   "metadata": {},
   "outputs": [
    {
     "name": "stdout",
     "output_type": "stream",
     "text": [
      "Generate RS_Healpix from /home/xavier/Projects/Oceanography/data/Remote_Sensing/PODAAC/H09-AHI-L3C-ACSPO-v2.90/20250203040000-STAR-L3C_GHRSST-SSTsubskin-AHI_H09-ACSPO_V2.90-v02.0-fv01.0.nc\n",
      "Generate RS_Healpix from /home/xavier/Projects/Oceanography/data/Remote_Sensing/PODAAC/H09-AHI-L3C-ACSPO-v2.90/20250203030000-STAR-L3C_GHRSST-SSTsubskin-AHI_H09-ACSPO_V2.90-v02.0-fv01.0.nc\n",
      "Generate RS_Healpix from /home/xavier/Projects/Oceanography/data/Remote_Sensing/PODAAC/H09-AHI-L3C-ACSPO-v2.90/20250203020000-STAR-L3C_GHRSST-SSTsubskin-AHI_H09-ACSPO_V2.90-v02.0-fv01.0.nc\n",
      "Generate RS_Healpix from /home/xavier/Projects/Oceanography/data/Remote_Sensing/PODAAC/H09-AHI-L3C-ACSPO-v2.90/20250203010000-STAR-L3C_GHRSST-SSTsubskin-AHI_H09-ACSPO_V2.90-v02.0-fv01.0.nc\n",
      "Generate RS_Healpix from /home/xavier/Projects/Oceanography/data/Remote_Sensing/PODAAC/H09-AHI-L3C-ACSPO-v2.90/20250203000000-STAR-L3C_GHRSST-SSTsubskin-AHI_H09-ACSPO_V2.90-v02.0-fv01.0.nc\n"
     ]
    }
   ],
   "source": [
    "reload(rs_healpix)\n",
    "rs_hpxs = []\n",
    "for data_file in local_files[0:8]:\n",
    "    # Load\n",
    "    #ds = xarray.open_dataset(data_file)\n",
    "    # Cut\n",
    "    #sst = ds.sea_surface_temperature.sel(lat=slice(23,18), \n",
    "    #             lon=slice(127., 134.)).isel(time=0)\n",
    "    # Objectify\n",
    "    rs_hpx = rs_healpix.RS_Healpix.from_dataarray_file(\n",
    "        data_file, 'sea_surface_temperature',\n",
    "        lat_slice=slice(23,18),  lon_slice=slice(127., 134.), time_isel=0)\n",
    "    # \n",
    "    print(f\"Generatde RS_Healpix from {data_file}\")\n",
    "    # Add\n",
    "    rs_hpxs.append(rs_hpx)"
   ]
  },
  {
   "cell_type": "code",
   "execution_count": null,
   "id": "64356bf2-e8e3-4e24-8e27-516e63c3157b",
   "metadata": {},
   "outputs": [],
   "source": []
  }
 ],
 "metadata": {
  "kernelspec": {
   "display_name": "Python 3 (ipykernel)",
   "language": "python",
   "name": "python3"
  },
  "language_info": {
   "codemirror_mode": {
    "name": "ipython",
    "version": 3
   },
   "file_extension": ".py",
   "mimetype": "text/x-python",
   "name": "python",
   "nbconvert_exporter": "python",
   "pygments_lexer": "ipython3",
   "version": "3.12.2"
  }
 },
 "nbformat": 4,
 "nbformat_minor": 5
}
