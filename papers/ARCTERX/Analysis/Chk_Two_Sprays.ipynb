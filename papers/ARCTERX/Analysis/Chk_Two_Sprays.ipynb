{
 "cells": [
  {
   "cell_type": "markdown",
   "id": "46be756f-a691-4a5a-99b9-0558423b26b4",
   "metadata": {},
   "source": [
    "# Check the duL for the 2 Spray gliders"
   ]
  },
  {
   "cell_type": "code",
   "execution_count": 1,
   "id": "23e0dc45-db81-4a02-8b0d-d7781a4344c1",
   "metadata": {},
   "outputs": [],
   "source": [
    "# imports\n",
    "import os \n",
    "import numpy as np\n",
    "from importlib import reload\n",
    "\n",
    "import pandas\n",
    "\n",
    "from profiler.loading.pymatreader import pymatreader\n",
    "\n",
    "import arcterx_utils"
   ]
  },
  {
   "cell_type": "markdown",
   "id": "eed1ea65-57cf-42a0-a403-c9136f06bfa3",
   "metadata": {},
   "source": [
    "# Load"
   ]
  },
  {
   "cell_type": "code",
   "execution_count": 2,
   "id": "25d5192d-53de-4dc5-8dc7-f08f10a78d01",
   "metadata": {},
   "outputs": [
    {
     "name": "stdout",
     "output_type": "stream",
     "text": [
      "Loading Sprays\n",
      "calc_dist_offset: theta=1.5707963267948966 rad, 90.0 deg\n",
      "calc_dist_offset: theta=1.5707963267948966 rad, 90.0 deg\n",
      "Using lonendpts: (129.9167, 129.9167)\n",
      "Using latendpts: (20.3332, 20.3334)\n",
      "calc_dist_offset: theta=1.5707963267948966 rad, 90.0 deg\n",
      "calc_dist_offset: theta=1.5707963267948966 rad, 90.0 deg\n"
     ]
    },
    {
     "name": "stderr",
     "output_type": "stream",
     "text": [
      "/home/xavier/Projects/Oceanography/python/profiler/profiler/profilerpairs.py:550: RuntimeWarning: Mean of empty slice\n",
      "  avg_r.append(np.nanmean(self.r[in_r]))\n",
      "/home/xavier/Projects/Oceanography/python/profiler/profiler/profilerpairs.py:551: RuntimeWarning: Mean of empty slice\n",
      "  avg_S1.append(np.nanmean(self.S1[in_r]))\n",
      "/home/xavier/miniconda3/envs/ocean/lib/python3.12/site-packages/numpy/lib/_nanfunctions_impl.py:1231: RuntimeWarning: Mean of empty slice\n",
      "  return np.nanmean(a, axis, out=out, keepdims=keepdims)\n",
      "/home/xavier/miniconda3/envs/ocean/lib/python3.12/site-packages/numpy/lib/_nanfunctions_impl.py:2035: RuntimeWarning: Degrees of freedom <= 0 for slice.\n",
      "  var = nanvar(a, axis=axis, dtype=dtype, out=out, ddof=ddof,\n",
      "/home/xavier/Projects/Oceanography/python/profiler/profiler/profilerpairs.py:554: RuntimeWarning: Mean of empty slice\n",
      "  avg_S2.append(np.nanmean(self.S2[in_r]))\n",
      "/home/xavier/Projects/Oceanography/python/profiler/profiler/profilerpairs.py:556: RuntimeWarning: Mean of empty slice\n",
      "  avg_S3.append(np.nanmean(self.S3[in_r]))\n"
     ]
    }
   ],
   "source": [
    "reload(arcterx_utils)\n",
    "iz = 9\n",
    "profilers, Sn_dict, gPairs, rbins = arcterx_utils.calc_structure(\n",
    "        'ARCTERX-Leg2', 'duLduLduL', ['Spray'], iz, 7., randomize=False)"
   ]
  },
  {
   "cell_type": "code",
   "execution_count": 3,
   "id": "416d7c14-4f5b-4606-9d1b-13430a1ee5ec",
   "metadata": {},
   "outputs": [],
   "source": [
    "lat_box=20.3333 \n",
    "lon_box=129.9167"
   ]
  },
  {
   "cell_type": "markdown",
   "id": "cb6806c2-145c-49f3-9f90-fb0b3976eadb",
   "metadata": {},
   "source": [
    "# Build a table"
   ]
  },
  {
   "cell_type": "code",
   "execution_count": 16,
   "id": "f66bd3be-c925-4193-b42f-bf35a7311412",
   "metadata": {},
   "outputs": [
    {
     "data": {
      "text/html": [
       "<div>\n",
       "<style scoped>\n",
       "    .dataframe tbody tr th:only-of-type {\n",
       "        vertical-align: middle;\n",
       "    }\n",
       "\n",
       "    .dataframe tbody tr th {\n",
       "        vertical-align: top;\n",
       "    }\n",
       "\n",
       "    .dataframe thead th {\n",
       "        text-align: right;\n",
       "    }\n",
       "</style>\n",
       "<table border=\"1\" class=\"dataframe\">\n",
       "  <thead>\n",
       "    <tr style=\"text-align: right;\">\n",
       "      <th></th>\n",
       "      <th>missid_0</th>\n",
       "      <th>missid_1</th>\n",
       "      <th>du</th>\n",
       "      <th>dv</th>\n",
       "      <th>dr</th>\n",
       "      <th>duL</th>\n",
       "      <th>drX</th>\n",
       "      <th>drY</th>\n",
       "      <th>dist_0</th>\n",
       "      <th>dist_1</th>\n",
       "      <th>offset_0</th>\n",
       "      <th>offset_1</th>\n",
       "      <th>lat_0</th>\n",
       "      <th>lat_1</th>\n",
       "      <th>lon_0</th>\n",
       "      <th>lon_1</th>\n",
       "      <th>u_0</th>\n",
       "      <th>u_1</th>\n",
       "      <th>v_0</th>\n",
       "      <th>v_1</th>\n",
       "    </tr>\n",
       "  </thead>\n",
       "  <tbody>\n",
       "    <tr>\n",
       "      <th>0</th>\n",
       "      <td>25203301</td>\n",
       "      <td>25203801</td>\n",
       "      <td>NaN</td>\n",
       "      <td>NaN</td>\n",
       "      <td>1.167725</td>\n",
       "      <td>NaN</td>\n",
       "      <td>-0.920851</td>\n",
       "      <td>-0.389916</td>\n",
       "      <td>34.711006</td>\n",
       "      <td>33.635705</td>\n",
       "      <td>9.455479</td>\n",
       "      <td>9.000164</td>\n",
       "      <td>20.418292</td>\n",
       "      <td>20.414195</td>\n",
       "      <td>130.249832</td>\n",
       "      <td>130.239512</td>\n",
       "      <td>NaN</td>\n",
       "      <td>0.112887</td>\n",
       "      <td>NaN</td>\n",
       "      <td>-0.257601</td>\n",
       "    </tr>\n",
       "    <tr>\n",
       "      <th>1</th>\n",
       "      <td>25203301</td>\n",
       "      <td>25203801</td>\n",
       "      <td>NaN</td>\n",
       "      <td>NaN</td>\n",
       "      <td>1.839910</td>\n",
       "      <td>NaN</td>\n",
       "      <td>-0.857817</td>\n",
       "      <td>-0.513955</td>\n",
       "      <td>34.711006</td>\n",
       "      <td>33.132700</td>\n",
       "      <td>9.455479</td>\n",
       "      <td>8.509847</td>\n",
       "      <td>20.418292</td>\n",
       "      <td>20.409782</td>\n",
       "      <td>130.249832</td>\n",
       "      <td>130.234685</td>\n",
       "      <td>NaN</td>\n",
       "      <td>0.036369</td>\n",
       "      <td>NaN</td>\n",
       "      <td>-0.279790</td>\n",
       "    </tr>\n",
       "    <tr>\n",
       "      <th>2</th>\n",
       "      <td>25203301</td>\n",
       "      <td>25203801</td>\n",
       "      <td>NaN</td>\n",
       "      <td>NaN</td>\n",
       "      <td>3.250397</td>\n",
       "      <td>NaN</td>\n",
       "      <td>-0.762941</td>\n",
       "      <td>-0.646469</td>\n",
       "      <td>34.711006</td>\n",
       "      <td>32.231146</td>\n",
       "      <td>9.455479</td>\n",
       "      <td>7.354199</td>\n",
       "      <td>20.418292</td>\n",
       "      <td>20.399383</td>\n",
       "      <td>130.249832</td>\n",
       "      <td>130.226033</td>\n",
       "      <td>NaN</td>\n",
       "      <td>-0.100773</td>\n",
       "      <td>NaN</td>\n",
       "      <td>-0.222111</td>\n",
       "    </tr>\n",
       "    <tr>\n",
       "      <th>3</th>\n",
       "      <td>25203301</td>\n",
       "      <td>25203801</td>\n",
       "      <td>NaN</td>\n",
       "      <td>NaN</td>\n",
       "      <td>5.434177</td>\n",
       "      <td>NaN</td>\n",
       "      <td>-0.758003</td>\n",
       "      <td>-0.652252</td>\n",
       "      <td>34.711006</td>\n",
       "      <td>30.591885</td>\n",
       "      <td>9.455479</td>\n",
       "      <td>5.911028</td>\n",
       "      <td>20.418292</td>\n",
       "      <td>20.386395</td>\n",
       "      <td>130.249832</td>\n",
       "      <td>130.210300</td>\n",
       "      <td>NaN</td>\n",
       "      <td>-0.079736</td>\n",
       "      <td>NaN</td>\n",
       "      <td>-0.041995</td>\n",
       "    </tr>\n",
       "    <tr>\n",
       "      <th>4</th>\n",
       "      <td>25203301</td>\n",
       "      <td>25203801</td>\n",
       "      <td>-0.184613</td>\n",
       "      <td>-0.181821</td>\n",
       "      <td>2.794865</td>\n",
       "      <td>0.197102</td>\n",
       "      <td>-0.997457</td>\n",
       "      <td>-0.071267</td>\n",
       "      <td>35.920458</td>\n",
       "      <td>33.132700</td>\n",
       "      <td>8.709030</td>\n",
       "      <td>8.509847</td>\n",
       "      <td>20.411575</td>\n",
       "      <td>20.409782</td>\n",
       "      <td>130.261440</td>\n",
       "      <td>130.234685</td>\n",
       "      <td>0.220982</td>\n",
       "      <td>0.036369</td>\n",
       "      <td>-0.097969</td>\n",
       "      <td>-0.279790</td>\n",
       "    </tr>\n",
       "  </tbody>\n",
       "</table>\n",
       "</div>"
      ],
      "text/plain": [
       "   missid_0  missid_1        du        dv        dr       duL       drX  \\\n",
       "0  25203301  25203801       NaN       NaN  1.167725       NaN -0.920851   \n",
       "1  25203301  25203801       NaN       NaN  1.839910       NaN -0.857817   \n",
       "2  25203301  25203801       NaN       NaN  3.250397       NaN -0.762941   \n",
       "3  25203301  25203801       NaN       NaN  5.434177       NaN -0.758003   \n",
       "4  25203301  25203801 -0.184613 -0.181821  2.794865  0.197102 -0.997457   \n",
       "\n",
       "        drY     dist_0     dist_1  offset_0  offset_1      lat_0      lat_1  \\\n",
       "0 -0.389916  34.711006  33.635705  9.455479  9.000164  20.418292  20.414195   \n",
       "1 -0.513955  34.711006  33.132700  9.455479  8.509847  20.418292  20.409782   \n",
       "2 -0.646469  34.711006  32.231146  9.455479  7.354199  20.418292  20.399383   \n",
       "3 -0.652252  34.711006  30.591885  9.455479  5.911028  20.418292  20.386395   \n",
       "4 -0.071267  35.920458  33.132700  8.709030  8.509847  20.411575  20.409782   \n",
       "\n",
       "        lon_0       lon_1       u_0       u_1       v_0       v_1  \n",
       "0  130.249832  130.239512       NaN  0.112887       NaN -0.257601  \n",
       "1  130.249832  130.234685       NaN  0.036369       NaN -0.279790  \n",
       "2  130.249832  130.226033       NaN -0.100773       NaN -0.222111  \n",
       "3  130.249832  130.210300       NaN -0.079736       NaN -0.041995  \n",
       "4  130.261440  130.234685  0.220982  0.036369 -0.097969 -0.279790  "
      ]
     },
     "execution_count": 16,
     "metadata": {},
     "output_type": "execute_result"
    }
   ],
   "source": [
    "tbl = pandas.DataFrame()\n",
    "# Mission ID\n",
    "tbl['missid_0'] = gPairs.data('missida',0)\n",
    "tbl['missid_1'] = gPairs.data('missida',1)\n",
    "# \n",
    "tbl['du'] = gPairs.du\n",
    "tbl['dv'] = gPairs.dv\n",
    "tbl['dr'] = gPairs.r\n",
    "tbl['duL'] = gPairs.duL\n",
    "#tbl['duT'] = gPairs.duT\n",
    "tbl['drX'] = gPairs.rxN\n",
    "tbl['drY'] = gPairs.ryN\n",
    "# Distance, offset\n",
    "tbl['dist_0'] = gPairs.data('distE',0)\n",
    "tbl['dist_1'] = gPairs.data('distE',1)\n",
    "tbl['offset_0'] = gPairs.data('distN',0)\n",
    "tbl['offset_1'] = gPairs.data('distN',1)\n",
    "# lat, lon\n",
    "tbl['lat_0'] = gPairs.data('lat',0)\n",
    "tbl['lat_1'] = gPairs.data('lat',1)\n",
    "tbl['lon_0'] = gPairs.data('lon',0)\n",
    "tbl['lon_1'] = gPairs.data('lon',1)\n",
    "# Velocity\n",
    "tbl['u_0'] = gPairs.data('udop',0,iz)\n",
    "tbl['u_1'] = gPairs.data('udop',1,iz)\n",
    "tbl['v_0'] = gPairs.data('vdop',0,iz)\n",
    "tbl['v_1'] = gPairs.data('vdop',1,iz)\n",
    "#\n",
    "tbl.head()"
   ]
  },
  {
   "cell_type": "markdown",
   "id": "234d4fcc-6e57-4b53-a683-cf9b0835ed38",
   "metadata": {},
   "source": [
    "## Save"
   ]
  },
  {
   "cell_type": "code",
   "execution_count": 17,
   "id": "618ea842-4363-4878-bd87-c509ca8f37c1",
   "metadata": {},
   "outputs": [],
   "source": [
    "tbl.to_csv('Two_Sprays.csv')"
   ]
  },
  {
   "cell_type": "code",
   "execution_count": 18,
   "id": "99ca4fcb-06de-4b8b-8424-d39892ceb42b",
   "metadata": {},
   "outputs": [
    {
     "data": {
      "text/plain": [
       "945"
      ]
     },
     "execution_count": 18,
     "metadata": {},
     "output_type": "execute_result"
    }
   ],
   "source": [
    "len(tbl)"
   ]
  },
  {
   "cell_type": "code",
   "execution_count": 20,
   "id": "19ac53c3-1d93-4767-9dee-706910bc7862",
   "metadata": {},
   "outputs": [],
   "source": [
    "ival = np.argmin(np.abs(tbl.dr-25.))\n",
    "idict = tbl.iloc[ival].to_dict()"
   ]
  },
  {
   "cell_type": "code",
   "execution_count": 21,
   "id": "9dd5dbd1-14a4-4738-8a0a-9875cc616816",
   "metadata": {},
   "outputs": [
    {
     "data": {
      "text/plain": [
       "{'missid_0': 25203301.0,\n",
       " 'missid_1': 25203801.0,\n",
       " 'du': -0.06433587335273819,\n",
       " 'dv': 0.07994287501609944,\n",
       " 'dr': 25.00452854678842,\n",
       " 'duL': 0.012421063489815691,\n",
       " 'drX': 0.6974332537146641,\n",
       " 'drY': 0.7166497447240018,\n",
       " 'dist_0': 5.171237300609316,\n",
       " 'dist_1': 22.610227002597167,\n",
       " 'offset_0': -9.682441199999996,\n",
       " 'offset_1': 8.237047799999942,\n",
       " 'lat_0': 20.246065,\n",
       " 'lat_1': 20.4073275,\n",
       " 'lon_0': 129.96633,\n",
       " 'lon_1': 130.1336975,\n",
       " 'u_0': 0.29446365694003573,\n",
       " 'u_1': 0.23012778358729755,\n",
       " 'v_0': 0.003931506214635394,\n",
       " 'v_1': 0.08387438123073483}"
      ]
     },
     "execution_count": 21,
     "metadata": {},
     "output_type": "execute_result"
    }
   ],
   "source": [
    "idict"
   ]
  },
  {
   "cell_type": "code",
   "execution_count": null,
   "id": "3f703013-35cc-447b-99ca-1a0b484d2cbb",
   "metadata": {},
   "outputs": [],
   "source": []
  }
 ],
 "metadata": {
  "kernelspec": {
   "display_name": "Python 3 (ipykernel)",
   "language": "python",
   "name": "python3"
  },
  "language_info": {
   "codemirror_mode": {
    "name": "ipython",
    "version": 3
   },
   "file_extension": ".py",
   "mimetype": "text/x-python",
   "name": "python",
   "nbconvert_exporter": "python",
   "pygments_lexer": "ipython3",
   "version": "3.12.2"
  }
 },
 "nbformat": 4,
 "nbformat_minor": 5
}
