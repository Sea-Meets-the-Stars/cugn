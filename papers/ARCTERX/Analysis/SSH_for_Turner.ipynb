{
 "cells": [
  {
   "cell_type": "markdown",
   "id": "394d5a1d-918f-4373-9356-2564a7659c5f",
   "metadata": {},
   "source": [
    "# Turner SSH"
   ]
  },
  {
   "cell_type": "code",
   "execution_count": 5,
   "id": "3d7e1121-64ad-437f-af32-dc2351a5f803",
   "metadata": {},
   "outputs": [],
   "source": [
    "from remote_sensing.download import podaac\n",
    "from remote_sensing.download import copernicus\n",
    "\n",
    "import copernicusmarine"
   ]
  },
  {
   "cell_type": "markdown",
   "id": "358d3e82-3fe1-4f32-99a9-31cdf13b86a3",
   "metadata": {},
   "source": [
    "# Download AVISO"
   ]
  },
  {
   "cell_type": "code",
   "execution_count": 2,
   "id": "6cff1c42-cab5-4af7-b287-d6047aa44d36",
   "metadata": {},
   "outputs": [],
   "source": [
    "lon_lim = (139.,145.)\n",
    "lat_lim = (17.,22)"
   ]
  },
  {
   "cell_type": "code",
   "execution_count": 4,
   "id": "73b20a63-d84a-480d-822a-8a2310513fa6",
   "metadata": {},
   "outputs": [
    {
     "name": "stderr",
     "output_type": "stream",
     "text": [
      "INFO - 2025-04-21T21:32:54Z - Credentials file stored in /home/xavier/.copernicusmarine/.copernicusmarine-credentials.\n",
      "INFO - 2025-04-21T21:32:57Z - Selected dataset version: \"202411\"\n",
      "INFO - 2025-04-21T21:32:57Z - Selected dataset part: \"default\"\n",
      "INFO - 2025-04-21T21:33:08Z - Starting download. Please wait...\n"
     ]
    },
    {
     "data": {
      "application/vnd.jupyter.widget-view+json": {
       "model_id": "0ef28cc37fb548829db9f407c0d2a641",
       "version_major": 2,
       "version_minor": 0
      },
      "text/plain": [
       "  0%|          | 0/4 [00:00<?, ?it/s]"
      ]
     },
     "metadata": {},
     "output_type": "display_data"
    },
    {
     "name": "stderr",
     "output_type": "stream",
     "text": [
      "INFO - 2025-04-21T21:33:09Z - Successfully downloaded to /home/xavier/Projects/Oceanography/data/Remote_Sensing/COPERN/cmems_obs-sl_glo_phy-ssh_my_allsat-l4-duacs-0.125deg_P1D/cmems_obs-sl_glo_phy-ssh_my_allsat-l4-duacs-0.125deg_P1D_sla-err_sla_139.06E-144.94E_17.06N-21.94N_2023-06-16.nc\n"
     ]
    }
   ],
   "source": [
    "local_geol4 = copernicus.grab_download_file(\n",
    "            \"cmems_obs-sl_glo_phy-ssh_my_allsat-l4-duacs-0.125deg_P1D\",\n",
    "            [\"sla\", \"err_sla\"],\n",
    "                lon_lim=lon_lim, lat_lim=lat_lim,\n",
    "            t_end='2023-06-16T00:00:00Z',\n",
    "            dt_past=dict(days=0.5))"
   ]
  },
  {
   "cell_type": "markdown",
   "id": "e05ecaee-1133-45a7-8330-89c67617339d",
   "metadata": {},
   "source": [
    "----"
   ]
  },
  {
   "cell_type": "markdown",
   "id": "b797be20-f560-4a6b-9097-d102cdc88f5a",
   "metadata": {},
   "source": [
    "# Run without my wrapper"
   ]
  },
  {
   "cell_type": "code",
   "execution_count": 7,
   "id": "42f606b7-b0b9-4f5c-92d7-898ae8a4c45c",
   "metadata": {},
   "outputs": [
    {
     "name": "stderr",
     "output_type": "stream",
     "text": [
      "INFO - 2025-04-26T12:30:22Z - Selected dataset version: \"202411\"\n",
      "INFO - 2025-04-26T12:30:22Z - Selected dataset part: \"default\"\n",
      "INFO - 2025-04-26T12:30:35Z - Starting download. Please wait...\n"
     ]
    },
    {
     "data": {
      "application/vnd.jupyter.widget-view+json": {
       "model_id": "98b77e46a49f4528bea47bc41ff41470",
       "version_major": 2,
       "version_minor": 0
      },
      "text/plain": [
       "  0%|          | 0/4 [00:00<?, ?it/s]"
      ]
     },
     "metadata": {},
     "output_type": "display_data"
    },
    {
     "name": "stderr",
     "output_type": "stream",
     "text": [
      "INFO - 2025-04-26T12:30:38Z - Successfully downloaded to cmems_obs-sl_glo_phy-ssh_my_allsat-l4-duacs-0.125deg_P1D_sla-err_sla_139.06E-144.94E_17.06N-21.94N_2023-06-16.nc\n"
     ]
    }
   ],
   "source": [
    "response_default_service = copernicusmarine.subset(\n",
    "        dataset_id='cmems_obs-sl_glo_phy-ssh_my_allsat-l4-duacs-0.125deg_P1D',\n",
    "        variables=['sla', 'err_sla'],\n",
    "        maximum_longitude=lon_lim[1],\n",
    "        minimum_longitude=lon_lim[0],\n",
    "        minimum_latitude=lat_lim[0],\n",
    "        maximum_latitude=lat_lim[1],\n",
    "        start_datetime='2023-06-15T12:00:00Z',\n",
    "        end_datetime='2023-06-16T00:00:00Z',\n",
    "        file_format=\"netcdf\",\n",
    "        overwrite=True,\n",
    "        skip_existing=False,\n",
    "        dry_run=False,\n",
    "        output_directory='./',\n",
    "    ) "
   ]
  },
  {
   "cell_type": "code",
   "execution_count": null,
   "id": "e3e21da3-a829-461d-9eac-ec495ed7be57",
   "metadata": {},
   "outputs": [],
   "source": []
  }
 ],
 "metadata": {
  "kernelspec": {
   "display_name": "Python 3 (ipykernel)",
   "language": "python",
   "name": "python3"
  },
  "language_info": {
   "codemirror_mode": {
    "name": "ipython",
    "version": 3
   },
   "file_extension": ".py",
   "mimetype": "text/x-python",
   "name": "python",
   "nbconvert_exporter": "python",
   "pygments_lexer": "ipython3",
   "version": "3.13.2"
  }
 },
 "nbformat": 4,
 "nbformat_minor": 5
}
