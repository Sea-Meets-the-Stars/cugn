{
 "cells": [
  {
   "cell_type": "markdown",
   "id": "394d5a1d-918f-4373-9356-2564a7659c5f",
   "metadata": {},
   "source": [
    "# Turner SSH"
   ]
  },
  {
   "cell_type": "code",
   "execution_count": 4,
   "id": "3d7e1121-64ad-437f-af32-dc2351a5f803",
   "metadata": {},
   "outputs": [],
   "source": [
    "from remote_sensing.download import podaac\n",
    "\n",
    "from remote_sensing.download import copernicus"
   ]
  },
  {
   "cell_type": "markdown",
   "id": "358d3e82-3fe1-4f32-99a9-31cdf13b86a3",
   "metadata": {},
   "source": [
    "# Download AVISO"
   ]
  },
  {
   "cell_type": "code",
   "execution_count": 5,
   "id": "6cff1c42-cab5-4af7-b287-d6047aa44d36",
   "metadata": {},
   "outputs": [],
   "source": [
    "lon_lim = (139.,145.)\n",
    "lat_lim = (17.,22)"
   ]
  },
  {
   "cell_type": "code",
   "execution_count": 10,
   "id": "73b20a63-d84a-480d-822a-8a2310513fa6",
   "metadata": {},
   "outputs": [
    {
     "name": "stderr",
     "output_type": "stream",
     "text": [
      "INFO - 2025-02-18T04:21:34Z - Credentials file stored in /home/xavier/.copernicusmarine/.copernicusmarine-credentials.\n",
      "INFO - 2025-02-18T04:21:39Z - Selected dataset version: \"202411\"\n",
      "INFO - 2025-02-18T04:21:39Z - Selected dataset part: \"default\"\n",
      "INFO - 2025-02-18T04:22:06Z - Starting download. Please wait...\n"
     ]
    },
    {
     "data": {
      "application/vnd.jupyter.widget-view+json": {
       "model_id": "e677970f6c014e32a9a529dc9a2b14e6",
       "version_major": 2,
       "version_minor": 0
      },
      "text/plain": [
       "  0%|          | 0/4 [00:00<?, ?it/s]"
      ]
     },
     "metadata": {},
     "output_type": "display_data"
    },
    {
     "name": "stderr",
     "output_type": "stream",
     "text": [
      "INFO - 2025-02-18T04:22:11Z - Successfully downloaded to /home/xavier/Projects/Oceanography/data/Remote_Sensing/COPERN/cmems_obs-sl_glo_phy-ssh_my_allsat-l4-duacs-0.125deg_P1D/cmems_obs-sl_glo_phy-ssh_my_allsat-l4-duacs-0.125deg_P1D_sla-err_sla_139.06E-144.94E_17.06N-21.94N_2023-06-16.nc\n"
     ]
    }
   ],
   "source": [
    "local_geol4 = copernicus.grab_download_file(\n",
    "            \"cmems_obs-sl_glo_phy-ssh_my_allsat-l4-duacs-0.125deg_P1D\",\n",
    "            [\"sla\", \"err_sla\"],\n",
    "                lon_lim=lon_lim, lat_lim=lat_lim,\n",
    "            t_end='2023-06-16T00:00:00Z',\n",
    "            dt_past=dict(days=0.5))"
   ]
  },
  {
   "cell_type": "code",
   "execution_count": null,
   "id": "f3eacd5d-badf-4242-b0f4-29aecfe4a603",
   "metadata": {},
   "outputs": [],
   "source": []
  }
 ],
 "metadata": {
  "kernelspec": {
   "display_name": "Python 3 (ipykernel)",
   "language": "python",
   "name": "python3"
  },
  "language_info": {
   "codemirror_mode": {
    "name": "ipython",
    "version": 3
   },
   "file_extension": ".py",
   "mimetype": "text/x-python",
   "name": "python",
   "nbconvert_exporter": "python",
   "pygments_lexer": "ipython3",
   "version": "3.13.2"
  }
 },
 "nbformat": 4,
 "nbformat_minor": 5
}
