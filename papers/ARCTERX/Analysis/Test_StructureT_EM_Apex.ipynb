{
 "cells": [
  {
   "cell_type": "markdown",
   "id": "a7c4320d-8d17-4317-97e6-7b7d1a9e3d04",
   "metadata": {},
   "source": [
    "# Compare Structure Function Calculations (X, Maya)\n",
    "\n",
    "## Data = EMApex, small array:  EMApex_data_small_array_19-Feb-2025.mat\n",
    "\n",
    "## "
   ]
  },
  {
   "cell_type": "code",
   "execution_count": 37,
   "id": "0fa8a679-4ac4-4429-9559-f2604b4f56a0",
   "metadata": {},
   "outputs": [],
   "source": [
    "# imports\n",
    "from importlib import reload\n",
    "import pymatreader\n",
    "\n",
    "import pandas\n",
    "\n",
    "from profiler.specific import em_apex\n",
    "from profiler import binning"
   ]
  },
  {
   "cell_type": "markdown",
   "id": "68e20714-0111-48a8-a9b7-0d5fc8bdc9cb",
   "metadata": {},
   "source": [
    "# Load me"
   ]
  },
  {
   "cell_type": "code",
   "execution_count": 3,
   "id": "8d15d3a2-b4ef-48e7-a43d-33cbc7e346b1",
   "metadata": {},
   "outputs": [],
   "source": [
    "dfile = '/home/xavier/Projects/Oceanography/data/ARCTERX/Floats/EM_Apex/EMApex_data_small_array_19-Feb-2025.mat'\n",
    "\n",
    "d = pymatreader.read_mat(dfile)"
   ]
  },
  {
   "cell_type": "markdown",
   "id": "c1cd21e8-9cf6-45bd-b8b6-4933677628de",
   "metadata": {},
   "source": [
    "## Notes on the data\n",
    "\n",
    "## E = EM Apex (top level)\n",
    "## F10279 = Float #\n",
    "\n",
    "## time - datenum\n",
    "## u1, u2, v1, v2 - measured em velocities \n",
    "## U1, U2, V1, V2 - velocities in earth coordinates \n",
    "## u_float, v_float - estimated mean velocity while profiling\n",
    "## time_prof - mean time of profile\n",
    "## lat, lon - estimated mean location of profile\n",
    "## prof_num - odd numbers are down profiles, even are up profiles\n",
    "## te\n",
    "## sa\n",
    "## pr"
   ]
  },
  {
   "cell_type": "code",
   "execution_count": 4,
   "id": "a97000da-b05b-41ca-b221-59d75a56ef9c",
   "metadata": {},
   "outputs": [
    {
     "data": {
      "text/plain": [
       "dict_keys(['F10285', 'F10280', 'F10282', 'F10281', 'F10278', 'F10279', 'F10283'])"
      ]
     },
     "execution_count": 4,
     "metadata": {},
     "output_type": "execute_result"
    }
   ],
   "source": [
    "d['E'].keys()"
   ]
  },
  {
   "cell_type": "markdown",
   "id": "3c22a712-18c6-4f12-9a9b-98a3271f5f77",
   "metadata": {},
   "source": [
    "# Profiler"
   ]
  },
  {
   "cell_type": "code",
   "execution_count": 7,
   "id": "31a27047-8622-4ad0-8f95-a5751d2d868a",
   "metadata": {},
   "outputs": [
    {
     "name": "stdout",
     "output_type": "stream",
     "text": [
      "Working on float F10278\n",
      "Working on float F10279\n",
      "Working on float F10280\n",
      "Working on float F10281\n",
      "Working on float F10282\n",
      "Working on float F10283\n",
      "Working on float F10285\n"
     ]
    }
   ],
   "source": [
    "dataset = 'ARCTERX-Leg2'\n",
    "pDatas = em_apex.load_emapex_infield(dfile, dataset)"
   ]
  },
  {
   "cell_type": "code",
   "execution_count": 33,
   "id": "3c262a1b-de55-40d4-8991-eea17846e795",
   "metadata": {},
   "outputs": [
    {
     "name": "stdout",
     "output_type": "stream",
     "text": [
      "FIX THIS HACK!!!!!!!!!!!!!!!!!!!!!!!!!\n",
      "Depths: [ 10.  20.  30.  40.  50.  60.  70.  80.  90. 100. 110. 120. 130. 140.\n",
      " 150. 160. 170. 180. 190. 200.]\n"
     ]
    }
   ],
   "source": [
    "# Bin\n",
    "#print(pDatas[0])\n",
    "reload(binning)\n",
    "bData = binning.bin_profilerdata(pDatas[0], add_vel=False)"
   ]
  },
  {
   "cell_type": "markdown",
   "id": "94cec44f-3623-40eb-83b3-c83c20535195",
   "metadata": {},
   "source": [
    "## Check"
   ]
  },
  {
   "cell_type": "code",
   "execution_count": 34,
   "id": "897c71bd-9ef5-4855-b00c-953d075f6141",
   "metadata": {},
   "outputs": [
    {
     "data": {
      "text/plain": [
       "EMApexData object for ARCTERX-Leg2\n",
       "  Number of profiles: 388\n",
       "  Time range: 2025-02-05 23:18:34.045459509 to 2025-02-18 18:47:28.124996185\n",
       "  Variables:\n",
       "    time: (388,)\n",
       "    lat: (388,)\n",
       "    lon: (388,)\n",
       "    t: (388, 20)\n",
       "    s: (388, 20)\n",
       "    theta: (388, 20)\n",
       "    sigma: (388, 20)\n",
       "    rho: (388, 20)"
      ]
     },
     "execution_count": 34,
     "metadata": {},
     "output_type": "execute_result"
    }
   ],
   "source": [
    "bData"
   ]
  },
  {
   "cell_type": "code",
   "execution_count": 36,
   "id": "7e2eebd8-3cec-4b32-b694-535cead0db26",
   "metadata": {},
   "outputs": [
    {
     "data": {
      "text/plain": [
       "array([ 10.,  20.,  30.,  40.,  50.,  60.,  70.,  80.,  90., 100., 110.,\n",
       "       120., 130., 140., 150., 160., 170., 180., 190., 200.])"
      ]
     },
     "execution_count": 36,
     "metadata": {},
     "output_type": "execute_result"
    }
   ],
   "source": [
    "bData.depth"
   ]
  },
  {
   "cell_type": "markdown",
   "id": "8536fbd6-3475-4e26-bf53-1d76dd1454fe",
   "metadata": {},
   "source": [
    "### pandas Table for ease of reading"
   ]
  },
  {
   "cell_type": "code",
   "execution_count": 38,
   "id": "d354b452-07aa-43ed-b7f4-2774015ffc23",
   "metadata": {},
   "outputs": [
    {
     "data": {
      "text/html": [
       "<div>\n",
       "<style scoped>\n",
       "    .dataframe tbody tr th:only-of-type {\n",
       "        vertical-align: middle;\n",
       "    }\n",
       "\n",
       "    .dataframe tbody tr th {\n",
       "        vertical-align: top;\n",
       "    }\n",
       "\n",
       "    .dataframe thead th {\n",
       "        text-align: right;\n",
       "    }\n",
       "</style>\n",
       "<table border=\"1\" class=\"dataframe\">\n",
       "  <thead>\n",
       "    <tr style=\"text-align: right;\">\n",
       "      <th></th>\n",
       "      <th>depth</th>\n",
       "      <th>t</th>\n",
       "    </tr>\n",
       "  </thead>\n",
       "  <tbody>\n",
       "    <tr>\n",
       "      <th>0</th>\n",
       "      <td>10.0</td>\n",
       "      <td>24.872925</td>\n",
       "    </tr>\n",
       "    <tr>\n",
       "      <th>1</th>\n",
       "      <td>20.0</td>\n",
       "      <td>24.877049</td>\n",
       "    </tr>\n",
       "    <tr>\n",
       "      <th>2</th>\n",
       "      <td>30.0</td>\n",
       "      <td>24.877113</td>\n",
       "    </tr>\n",
       "    <tr>\n",
       "      <th>3</th>\n",
       "      <td>40.0</td>\n",
       "      <td>24.881218</td>\n",
       "    </tr>\n",
       "    <tr>\n",
       "      <th>4</th>\n",
       "      <td>50.0</td>\n",
       "      <td>24.886950</td>\n",
       "    </tr>\n",
       "    <tr>\n",
       "      <th>5</th>\n",
       "      <td>60.0</td>\n",
       "      <td>24.891440</td>\n",
       "    </tr>\n",
       "    <tr>\n",
       "      <th>6</th>\n",
       "      <td>70.0</td>\n",
       "      <td>24.888362</td>\n",
       "    </tr>\n",
       "    <tr>\n",
       "      <th>7</th>\n",
       "      <td>80.0</td>\n",
       "      <td>24.867585</td>\n",
       "    </tr>\n",
       "    <tr>\n",
       "      <th>8</th>\n",
       "      <td>90.0</td>\n",
       "      <td>24.858897</td>\n",
       "    </tr>\n",
       "    <tr>\n",
       "      <th>9</th>\n",
       "      <td>100.0</td>\n",
       "      <td>24.853914</td>\n",
       "    </tr>\n",
       "    <tr>\n",
       "      <th>10</th>\n",
       "      <td>110.0</td>\n",
       "      <td>24.845836</td>\n",
       "    </tr>\n",
       "    <tr>\n",
       "      <th>11</th>\n",
       "      <td>120.0</td>\n",
       "      <td>24.715519</td>\n",
       "    </tr>\n",
       "    <tr>\n",
       "      <th>12</th>\n",
       "      <td>130.0</td>\n",
       "      <td>24.047522</td>\n",
       "    </tr>\n",
       "    <tr>\n",
       "      <th>13</th>\n",
       "      <td>140.0</td>\n",
       "      <td>22.906786</td>\n",
       "    </tr>\n",
       "    <tr>\n",
       "      <th>14</th>\n",
       "      <td>150.0</td>\n",
       "      <td>22.502429</td>\n",
       "    </tr>\n",
       "    <tr>\n",
       "      <th>15</th>\n",
       "      <td>160.0</td>\n",
       "      <td>22.118737</td>\n",
       "    </tr>\n",
       "    <tr>\n",
       "      <th>16</th>\n",
       "      <td>170.0</td>\n",
       "      <td>21.475546</td>\n",
       "    </tr>\n",
       "    <tr>\n",
       "      <th>17</th>\n",
       "      <td>180.0</td>\n",
       "      <td>21.210315</td>\n",
       "    </tr>\n",
       "    <tr>\n",
       "      <th>18</th>\n",
       "      <td>190.0</td>\n",
       "      <td>NaN</td>\n",
       "    </tr>\n",
       "    <tr>\n",
       "      <th>19</th>\n",
       "      <td>200.0</td>\n",
       "      <td>NaN</td>\n",
       "    </tr>\n",
       "  </tbody>\n",
       "</table>\n",
       "</div>"
      ],
      "text/plain": [
       "    depth          t\n",
       "0    10.0  24.872925\n",
       "1    20.0  24.877049\n",
       "2    30.0  24.877113\n",
       "3    40.0  24.881218\n",
       "4    50.0  24.886950\n",
       "5    60.0  24.891440\n",
       "6    70.0  24.888362\n",
       "7    80.0  24.867585\n",
       "8    90.0  24.858897\n",
       "9   100.0  24.853914\n",
       "10  110.0  24.845836\n",
       "11  120.0  24.715519\n",
       "12  130.0  24.047522\n",
       "13  140.0  22.906786\n",
       "14  150.0  22.502429\n",
       "15  160.0  22.118737\n",
       "16  170.0  21.475546\n",
       "17  180.0  21.210315\n",
       "18  190.0        NaN\n",
       "19  200.0        NaN"
      ]
     },
     "execution_count": 38,
     "metadata": {},
     "output_type": "execute_result"
    }
   ],
   "source": [
    "df = pandas.DataFrame(dict(depth=bData.depth, t=bData.t[0]))\n",
    "df"
   ]
  },
  {
   "cell_type": "markdown",
   "id": "2ee4cc31-3503-4b2a-bf65-2abdcc8e4f87",
   "metadata": {},
   "source": [
    "## These match Maya's!!!!!!!"
   ]
  },
  {
   "cell_type": "markdown",
   "id": "2b9a638c-52e3-475d-94cd-bc0eaeb78e05",
   "metadata": {},
   "source": [
    "----"
   ]
  },
  {
   "cell_type": "markdown",
   "id": "5ae9abdf-fb67-42d2-8467-40244e37180d",
   "metadata": {},
   "source": [
    "# Structure Function"
   ]
  },
  {
   "cell_type": "markdown",
   "id": "1b3bb5f8-ea5d-41e0-a7f6-c44e31e6640c",
   "metadata": {},
   "source": [
    "## Radial bins"
   ]
  },
  {
   "cell_type": "code",
   "execution_count": null,
   "id": "02512d16-792b-464f-9d40-30a9b83dc133",
   "metadata": {},
   "outputs": [],
   "source": [
    "asdfasd"
   ]
  }
 ],
 "metadata": {
  "kernelspec": {
   "display_name": "Python 3 (ipykernel)",
   "language": "python",
   "name": "python3"
  },
  "language_info": {
   "codemirror_mode": {
    "name": "ipython",
    "version": 3
   },
   "file_extension": ".py",
   "mimetype": "text/x-python",
   "name": "python",
   "nbconvert_exporter": "python",
   "pygments_lexer": "ipython3",
   "version": "3.12.2"
  }
 },
 "nbformat": 4,
 "nbformat_minor": 5
}
