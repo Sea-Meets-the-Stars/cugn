{
 "cells": [
  {
   "cell_type": "markdown",
   "id": "a7c4320d-8d17-4317-97e6-7b7d1a9e3d04",
   "metadata": {},
   "source": [
    "# Compare Structure Function Calculations (X, Maya)\n",
    "\n",
    "## Data = EMApex, small array:  EMApex_data_small_array_19-Feb-2025.mat\n",
    "\n",
    "## "
   ]
  },
  {
   "cell_type": "code",
   "execution_count": 14,
   "id": "0fa8a679-4ac4-4429-9559-f2604b4f56a0",
   "metadata": {},
   "outputs": [],
   "source": [
    "# imports\n",
    "from importlib import reload\n",
    "import os, glob\n",
    "\n",
    "import pymatreader\n",
    "\n",
    "import seaborn as sns\n",
    "from matplotlib import pyplot as plt\n",
    "\n",
    "import numpy as np\n",
    "\n",
    "import pandas\n",
    "\n",
    "from profiler.specific import em_apex\n",
    "from profiler import binning\n",
    "from profiler import profilepairs"
   ]
  },
  {
   "cell_type": "markdown",
   "id": "68e20714-0111-48a8-a9b7-0d5fc8bdc9cb",
   "metadata": {},
   "source": [
    "# Load me"
   ]
  },
  {
   "cell_type": "code",
   "execution_count": 3,
   "id": "8d15d3a2-b4ef-48e7-a43d-33cbc7e346b1",
   "metadata": {},
   "outputs": [],
   "source": [
    "dfile = '/home/xavier/Projects/Oceanography/data/ARCTERX/Floats/EM_Apex/EMApex_data_small_array_19-Feb-2025.mat'\n",
    "\n",
    "d = pymatreader.read_mat(dfile)"
   ]
  },
  {
   "cell_type": "code",
   "execution_count": 4,
   "id": "a97000da-b05b-41ca-b221-59d75a56ef9c",
   "metadata": {},
   "outputs": [
    {
     "data": {
      "text/plain": [
       "dict_keys(['F10285', 'F10280', 'F10282', 'F10281', 'F10278', 'F10279', 'F10283'])"
      ]
     },
     "execution_count": 4,
     "metadata": {},
     "output_type": "execute_result"
    }
   ],
   "source": [
    "d['E'].keys()"
   ]
  },
  {
   "cell_type": "markdown",
   "id": "3c22a712-18c6-4f12-9a9b-98a3271f5f77",
   "metadata": {},
   "source": [
    "# Check our Binning"
   ]
  },
  {
   "cell_type": "code",
   "execution_count": 7,
   "id": "31a27047-8622-4ad0-8f95-a5751d2d868a",
   "metadata": {},
   "outputs": [
    {
     "name": "stdout",
     "output_type": "stream",
     "text": [
      "Working on float F10278\n",
      "Working on float F10279\n",
      "Working on float F10280\n",
      "Working on float F10281\n",
      "Working on float F10282\n",
      "Working on float F10283\n",
      "Working on float F10285\n"
     ]
    }
   ],
   "source": [
    "dataset = 'ARCTERX-Leg2'\n",
    "pDatas = em_apex.load_emapex_infield(dfile, dataset)"
   ]
  },
  {
   "cell_type": "code",
   "execution_count": 33,
   "id": "3c262a1b-de55-40d4-8991-eea17846e795",
   "metadata": {},
   "outputs": [
    {
     "name": "stdout",
     "output_type": "stream",
     "text": [
      "FIX THIS HACK!!!!!!!!!!!!!!!!!!!!!!!!!\n",
      "Depths: [ 10.  20.  30.  40.  50.  60.  70.  80.  90. 100. 110. 120. 130. 140.\n",
      " 150. 160. 170. 180. 190. 200.]\n"
     ]
    }
   ],
   "source": [
    "# Bin\n",
    "#print(pDatas[0])\n",
    "reload(binning)\n",
    "bData = binning.bin_profilerdata(pDatas[0], add_vel=False)"
   ]
  },
  {
   "cell_type": "markdown",
   "id": "94cec44f-3623-40eb-83b3-c83c20535195",
   "metadata": {},
   "source": [
    "## Check"
   ]
  },
  {
   "cell_type": "code",
   "execution_count": 34,
   "id": "897c71bd-9ef5-4855-b00c-953d075f6141",
   "metadata": {},
   "outputs": [
    {
     "data": {
      "text/plain": [
       "EMApexData object for ARCTERX-Leg2\n",
       "  Number of profiles: 388\n",
       "  Time range: 2025-02-05 23:18:34.045459509 to 2025-02-18 18:47:28.124996185\n",
       "  Variables:\n",
       "    time: (388,)\n",
       "    lat: (388,)\n",
       "    lon: (388,)\n",
       "    t: (388, 20)\n",
       "    s: (388, 20)\n",
       "    theta: (388, 20)\n",
       "    sigma: (388, 20)\n",
       "    rho: (388, 20)"
      ]
     },
     "execution_count": 34,
     "metadata": {},
     "output_type": "execute_result"
    }
   ],
   "source": [
    "bData"
   ]
  },
  {
   "cell_type": "code",
   "execution_count": 36,
   "id": "7e2eebd8-3cec-4b32-b694-535cead0db26",
   "metadata": {},
   "outputs": [
    {
     "data": {
      "text/plain": [
       "array([ 10.,  20.,  30.,  40.,  50.,  60.,  70.,  80.,  90., 100., 110.,\n",
       "       120., 130., 140., 150., 160., 170., 180., 190., 200.])"
      ]
     },
     "execution_count": 36,
     "metadata": {},
     "output_type": "execute_result"
    }
   ],
   "source": [
    "bData.depth"
   ]
  },
  {
   "cell_type": "markdown",
   "id": "8536fbd6-3475-4e26-bf53-1d76dd1454fe",
   "metadata": {},
   "source": [
    "### pandas Table for ease of reading"
   ]
  },
  {
   "cell_type": "code",
   "execution_count": 38,
   "id": "d354b452-07aa-43ed-b7f4-2774015ffc23",
   "metadata": {},
   "outputs": [
    {
     "data": {
      "text/html": [
       "<div>\n",
       "<style scoped>\n",
       "    .dataframe tbody tr th:only-of-type {\n",
       "        vertical-align: middle;\n",
       "    }\n",
       "\n",
       "    .dataframe tbody tr th {\n",
       "        vertical-align: top;\n",
       "    }\n",
       "\n",
       "    .dataframe thead th {\n",
       "        text-align: right;\n",
       "    }\n",
       "</style>\n",
       "<table border=\"1\" class=\"dataframe\">\n",
       "  <thead>\n",
       "    <tr style=\"text-align: right;\">\n",
       "      <th></th>\n",
       "      <th>depth</th>\n",
       "      <th>t</th>\n",
       "    </tr>\n",
       "  </thead>\n",
       "  <tbody>\n",
       "    <tr>\n",
       "      <th>0</th>\n",
       "      <td>10.0</td>\n",
       "      <td>24.872925</td>\n",
       "    </tr>\n",
       "    <tr>\n",
       "      <th>1</th>\n",
       "      <td>20.0</td>\n",
       "      <td>24.877049</td>\n",
       "    </tr>\n",
       "    <tr>\n",
       "      <th>2</th>\n",
       "      <td>30.0</td>\n",
       "      <td>24.877113</td>\n",
       "    </tr>\n",
       "    <tr>\n",
       "      <th>3</th>\n",
       "      <td>40.0</td>\n",
       "      <td>24.881218</td>\n",
       "    </tr>\n",
       "    <tr>\n",
       "      <th>4</th>\n",
       "      <td>50.0</td>\n",
       "      <td>24.886950</td>\n",
       "    </tr>\n",
       "    <tr>\n",
       "      <th>5</th>\n",
       "      <td>60.0</td>\n",
       "      <td>24.891440</td>\n",
       "    </tr>\n",
       "    <tr>\n",
       "      <th>6</th>\n",
       "      <td>70.0</td>\n",
       "      <td>24.888362</td>\n",
       "    </tr>\n",
       "    <tr>\n",
       "      <th>7</th>\n",
       "      <td>80.0</td>\n",
       "      <td>24.867585</td>\n",
       "    </tr>\n",
       "    <tr>\n",
       "      <th>8</th>\n",
       "      <td>90.0</td>\n",
       "      <td>24.858897</td>\n",
       "    </tr>\n",
       "    <tr>\n",
       "      <th>9</th>\n",
       "      <td>100.0</td>\n",
       "      <td>24.853914</td>\n",
       "    </tr>\n",
       "    <tr>\n",
       "      <th>10</th>\n",
       "      <td>110.0</td>\n",
       "      <td>24.845836</td>\n",
       "    </tr>\n",
       "    <tr>\n",
       "      <th>11</th>\n",
       "      <td>120.0</td>\n",
       "      <td>24.715519</td>\n",
       "    </tr>\n",
       "    <tr>\n",
       "      <th>12</th>\n",
       "      <td>130.0</td>\n",
       "      <td>24.047522</td>\n",
       "    </tr>\n",
       "    <tr>\n",
       "      <th>13</th>\n",
       "      <td>140.0</td>\n",
       "      <td>22.906786</td>\n",
       "    </tr>\n",
       "    <tr>\n",
       "      <th>14</th>\n",
       "      <td>150.0</td>\n",
       "      <td>22.502429</td>\n",
       "    </tr>\n",
       "    <tr>\n",
       "      <th>15</th>\n",
       "      <td>160.0</td>\n",
       "      <td>22.118737</td>\n",
       "    </tr>\n",
       "    <tr>\n",
       "      <th>16</th>\n",
       "      <td>170.0</td>\n",
       "      <td>21.475546</td>\n",
       "    </tr>\n",
       "    <tr>\n",
       "      <th>17</th>\n",
       "      <td>180.0</td>\n",
       "      <td>21.210315</td>\n",
       "    </tr>\n",
       "    <tr>\n",
       "      <th>18</th>\n",
       "      <td>190.0</td>\n",
       "      <td>NaN</td>\n",
       "    </tr>\n",
       "    <tr>\n",
       "      <th>19</th>\n",
       "      <td>200.0</td>\n",
       "      <td>NaN</td>\n",
       "    </tr>\n",
       "  </tbody>\n",
       "</table>\n",
       "</div>"
      ],
      "text/plain": [
       "    depth          t\n",
       "0    10.0  24.872925\n",
       "1    20.0  24.877049\n",
       "2    30.0  24.877113\n",
       "3    40.0  24.881218\n",
       "4    50.0  24.886950\n",
       "5    60.0  24.891440\n",
       "6    70.0  24.888362\n",
       "7    80.0  24.867585\n",
       "8    90.0  24.858897\n",
       "9   100.0  24.853914\n",
       "10  110.0  24.845836\n",
       "11  120.0  24.715519\n",
       "12  130.0  24.047522\n",
       "13  140.0  22.906786\n",
       "14  150.0  22.502429\n",
       "15  160.0  22.118737\n",
       "16  170.0  21.475546\n",
       "17  180.0  21.210315\n",
       "18  190.0        NaN\n",
       "19  200.0        NaN"
      ]
     },
     "execution_count": 38,
     "metadata": {},
     "output_type": "execute_result"
    }
   ],
   "source": [
    "df = pandas.DataFrame(dict(depth=bData.depth, t=bData.t[0]))\n",
    "df"
   ]
  },
  {
   "cell_type": "markdown",
   "id": "2ee4cc31-3503-4b2a-bf65-2abdcc8e4f87",
   "metadata": {},
   "source": [
    "## These match Maya's!!!!!!!"
   ]
  },
  {
   "cell_type": "code",
   "execution_count": 65,
   "id": "1a905083-1239-438e-bec1-81151244503a",
   "metadata": {},
   "outputs": [
    {
     "data": {
      "text/plain": [
       "388"
      ]
     },
     "execution_count": 65,
     "metadata": {},
     "output_type": "execute_result"
    }
   ],
   "source": [
    "bData.time.size"
   ]
  },
  {
   "cell_type": "code",
   "execution_count": 67,
   "id": "a9f0f666-1a11-4e03-81f0-c2d7f1cc640f",
   "metadata": {},
   "outputs": [
    {
     "data": {
      "text/plain": [
       "Timestamp('2025-02-05 23:18:34.045459509')"
      ]
     },
     "execution_count": 67,
     "metadata": {},
     "output_type": "execute_result"
    }
   ],
   "source": [
    "dtimes = pandas.to_datetime(bData.time, unit='s')\n",
    "dtimes[0]"
   ]
  },
  {
   "cell_type": "markdown",
   "id": "2b9a638c-52e3-475d-94cd-bc0eaeb78e05",
   "metadata": {},
   "source": [
    "----"
   ]
  },
  {
   "cell_type": "markdown",
   "id": "5ae9abdf-fb67-42d2-8467-40244e37180d",
   "metadata": {},
   "source": [
    "# Structure Function"
   ]
  },
  {
   "cell_type": "markdown",
   "id": "422186d9-e5a3-49c3-901f-1d7095cba119",
   "metadata": {},
   "source": [
    "## Load all of the floats"
   ]
  },
  {
   "cell_type": "code",
   "execution_count": 11,
   "id": "2424f7b2-5450-44c9-a6d4-5a0fee45fd76",
   "metadata": {},
   "outputs": [
    {
     "name": "stdout",
     "output_type": "stream",
     "text": [
      "Working on float F10278\n",
      "FIX THIS HACK!!!!!!!!!!!!!!!!!!!!!!!!!\n",
      "Working on float F10279\n",
      "FIX THIS HACK!!!!!!!!!!!!!!!!!!!!!!!!!\n",
      "Working on float F10280\n",
      "FIX THIS HACK!!!!!!!!!!!!!!!!!!!!!!!!!\n",
      "Working on float F10281\n",
      "FIX THIS HACK!!!!!!!!!!!!!!!!!!!!!!!!!\n",
      "Working on float F10282\n",
      "FIX THIS HACK!!!!!!!!!!!!!!!!!!!!!!!!!\n",
      "Working on float F10283\n",
      "FIX THIS HACK!!!!!!!!!!!!!!!!!!!!!!!!!\n",
      "Skipping F10285\n"
     ]
    }
   ],
   "source": [
    "reload(em_apex)\n",
    "dataset = 'ARCTERX-Leg2'\n",
    "dfile = '/home/xavier/Projects/Oceanography/data/ARCTERX/Floats/EM_Apex/EMApex_data_small_array_19-Feb-2025.mat'\n",
    "emapexs = em_apex.load_emapex_infield(dfile, dataset, add_vel=False,\n",
    "                                     skip_floats=['F10285'])"
   ]
  },
  {
   "cell_type": "code",
   "execution_count": 7,
   "id": "b683828e-31f5-4a4c-a58f-c288b6c9e7dd",
   "metadata": {},
   "outputs": [],
   "source": [
    "variables='dTdTdT'"
   ]
  },
  {
   "cell_type": "markdown",
   "id": "1b3bb5f8-ea5d-41e0-a7f6-c44e31e6640c",
   "metadata": {},
   "source": [
    "## Radial bins"
   ]
  },
  {
   "cell_type": "code",
   "execution_count": 8,
   "id": "02512d16-792b-464f-9d40-30a9b83dc133",
   "metadata": {},
   "outputs": [],
   "source": [
    "nbins = 20\n",
    "rbins = 10**np.linspace(0., np.log10(400), nbins) # km"
   ]
  },
  {
   "cell_type": "markdown",
   "id": "e512dec8-e89a-4dbf-b7a4-e9ceeb19fd91",
   "metadata": {},
   "source": [
    "## Pairs"
   ]
  },
  {
   "cell_type": "code",
   "execution_count": 66,
   "id": "6a4eafb7-4daf-452d-8ebb-ffc3c48bfea3",
   "metadata": {},
   "outputs": [
    {
     "name": "stdout",
     "output_type": "stream",
     "text": [
      "Using lonendpts: (np.float64(129.9118847499992), np.float64(130.48001875000182))\n",
      "Using latendpts: (np.float64(20.487747250001583), np.float64(22.94666474999614))\n"
     ]
    }
   ],
   "source": [
    "reload(profilepairs)\n",
    "pPairs = profilepairs.ProfilerPairs(\n",
    "            emapexs, max_time=10., \n",
    "            avoid_same_glider=True, debug=False)"
   ]
  },
  {
   "cell_type": "code",
   "execution_count": 67,
   "id": "1b4a089a-ebb3-485d-a9e8-bfed3742fcb2",
   "metadata": {},
   "outputs": [
    {
     "data": {
      "text/plain": [
       "ProfilerPair object for the following datasets:\n",
       " ARCTERX-Leg2, EMApexData\n",
       " ARCTERX-Leg2, EMApexData\n",
       " ARCTERX-Leg2, EMApexData\n",
       " ARCTERX-Leg2, EMApexData\n",
       " ARCTERX-Leg2, EMApexData\n",
       " ARCTERX-Leg2, EMApexData\n",
       "  Number of pairs: 145756\n",
       "  Time range: 2025-02-05 23:18:34.045459509 to 2025-02-18 19:52:11.236361980"
      ]
     },
     "execution_count": 67,
     "metadata": {},
     "output_type": "execute_result"
    }
   ],
   "source": [
    "pPairs"
   ]
  },
  {
   "cell_type": "markdown",
   "id": "bbcb7c15-36c9-4134-9273-35a28b33f964",
   "metadata": {},
   "source": [
    "## The number of profiles are within 6 of Maya\n",
    "\n",
    "## We declare victory because our times aren't identical"
   ]
  },
  {
   "cell_type": "markdown",
   "id": "11546a68-fde0-4619-aeb9-e8c448b48fe2",
   "metadata": {},
   "source": [
    "## Do it"
   ]
  },
  {
   "cell_type": "code",
   "execution_count": 68,
   "id": "818bad5f-064a-4b1c-b5ad-0ea6c960f817",
   "metadata": {},
   "outputs": [
    {
     "data": {
      "text/plain": [
       "np.float64(60.0)"
      ]
     },
     "execution_count": 68,
     "metadata": {},
     "output_type": "execute_result"
    }
   ],
   "source": [
    "emapexs[0].depth[5]"
   ]
  },
  {
   "cell_type": "code",
   "execution_count": 69,
   "id": "0d920598-a332-43a8-a77c-67aa3960bc24",
   "metadata": {},
   "outputs": [
    {
     "data": {
      "text/plain": [
       "array([  1.        ,   1.37072561,   1.87888869,   2.57544084,\n",
       "         3.5302227 ,   4.83896665,   6.6328955 ,   9.09187971,\n",
       "        12.46247232,  17.08262993,  23.41559827,  32.09636014,\n",
       "        43.99530272,  60.305488  ,  82.6622766 , 113.30729922,\n",
       "       155.31321644, 212.89180278, 291.81624545, 400.        ])"
      ]
     },
     "execution_count": 69,
     "metadata": {},
     "output_type": "execute_result"
    }
   ],
   "source": [
    "rbins"
   ]
  },
  {
   "cell_type": "code",
   "execution_count": 70,
   "id": "bee6479a-5313-415f-b96e-428e827608d7",
   "metadata": {},
   "outputs": [
    {
     "name": "stderr",
     "output_type": "stream",
     "text": [
      "/home/xavier/Projects/Oceanography/python/profiler/profiler/profilepairs.py:493: RuntimeWarning: Mean of empty slice\n",
      "  out_dict['std_S2_'+f'{self.dlbls[1]}'] = np.array(std_S2)\n",
      "/home/xavier/Projects/Oceanography/python/profiler/profiler/profilepairs.py:494: RuntimeWarning: Mean of empty slice\n",
      "  out_dict['err_S2_'+f'{self.dlbls[1]}'] = np.array(err_S2)\n",
      "/home/xavier/miniconda3/envs/ocean/lib/python3.12/site-packages/numpy/lib/_nanfunctions_impl.py:1231: RuntimeWarning: Mean of empty slice\n",
      "  return np.nanmean(a, axis, out=out, keepdims=keepdims)\n",
      "/home/xavier/miniconda3/envs/ocean/lib/python3.12/site-packages/numpy/lib/_nanfunctions_impl.py:2035: RuntimeWarning: Degrees of freedom <= 0 for slice.\n",
      "  var = nanvar(a, axis=axis, dtype=dtype, out=out, ddof=ddof,\n",
      "/home/xavier/Projects/Oceanography/python/profiler/profiler/profilepairs.py:497: RuntimeWarning: Mean of empty slice\n",
      "  out_dict['err_S3_'+f'{self.dlbls[2]}'] = np.array(err_S3)\n",
      "/home/xavier/Projects/Oceanography/python/profiler/profiler/profilepairs.py:499: RuntimeWarning: Mean of empty slice\n",
      "  # Return\n",
      "/home/xavier/Projects/Oceanography/python/profiler/profiler/profilepairs.py:503: RuntimeWarning: Mean of empty slice\n",
      "  \"\"\"\n",
      "/home/xavier/Projects/Oceanography/python/profiler/profiler/profilepairs.py:504: RuntimeWarning: Mean of empty slice\n",
      "  Calculate the corrected values of S2 and S3 in the given Sn_dict.\n",
      "/home/xavier/Projects/Oceanography/python/profiler/profiler/profilepairs.py:505: RuntimeWarning: Mean of empty slice\n",
      "  \n"
     ]
    }
   ],
   "source": [
    "iz = 5\n",
    "\n",
    "pPairs.calc_delta(iz, variables, skip_velocity=True)\n",
    "pPairs.calc_Sn(variables)\n",
    "\n",
    "Sn_dict = pPairs.calc_Sn_vs_r(rbins, nboot=100)\n",
    "#pPairs.calc_corr_Sn(Sn_dict) \n",
    "pPairs.add_meta(Sn_dict)"
   ]
  },
  {
   "cell_type": "markdown",
   "id": "22d3a7a5-8930-46da-a34c-90a3939a0c8d",
   "metadata": {},
   "source": [
    "## The big reveal!"
   ]
  },
  {
   "cell_type": "code",
   "execution_count": 71,
   "id": "14d0d716-19cd-4470-b515-ad49c8e199a4",
   "metadata": {},
   "outputs": [
    {
     "data": {
      "text/plain": [
       "dict_keys(['config', 'r', 'S1_dT', 'std_S1_dT', 'med_S1_dT', 'err_S1_dT', 'S2_dT**2', 'std_S2_dT**2', 'err_S2_dT**2', 'S3_dTdTdT', 'std_S3_dTdTdT', 'err_S3_dTdTdT'])"
      ]
     },
     "execution_count": 71,
     "metadata": {},
     "output_type": "execute_result"
    }
   ],
   "source": [
    "Sn_dict.keys()"
   ]
  },
  {
   "cell_type": "code",
   "execution_count": 72,
   "id": "40ef41a0-f831-46fe-8cbe-e265d59040d6",
   "metadata": {},
   "outputs": [
    {
     "data": {
      "text/plain": [
       "array([ 3509,  5455,  7739, 10753, 14690, 19048, 21958, 21250, 18292,\n",
       "       11256,  6609,   533,     0,     0,     0,     0,     0,     0,\n",
       "           0])"
      ]
     },
     "execution_count": 72,
     "metadata": {},
     "output_type": "execute_result"
    }
   ],
   "source": [
    "Sn_dict['config']['N']"
   ]
  },
  {
   "cell_type": "code",
   "execution_count": 73,
   "id": "4101b1eb-ae0f-483e-b53b-27528ae3a4cd",
   "metadata": {},
   "outputs": [
    {
     "data": {
      "text/plain": [
       "array([ 1.18745972,  1.6294386 ,  2.22820461,  3.052704  ,  4.18119434,\n",
       "        5.7245081 ,  7.80645494, 10.65312137, 14.49974422, 19.92495186,\n",
       "       26.84336271, 33.99738493,         nan,         nan,         nan,\n",
       "               nan,         nan,         nan,         nan])"
      ]
     },
     "execution_count": 73,
     "metadata": {},
     "output_type": "execute_result"
    }
   ],
   "source": [
    "Sn_dict['r']"
   ]
  },
  {
   "cell_type": "code",
   "execution_count": 74,
   "id": "18b2f6c3-2df8-419f-999a-29dd03000bb2",
   "metadata": {},
   "outputs": [
    {
     "data": {
      "text/plain": [
       "array([ 4.16937257e-04,  2.49248223e-04,  2.52663166e-04, -3.99464598e-04,\n",
       "        6.08047306e-04,  1.61780111e-03, -1.87710558e-03,  1.24082386e-06,\n",
       "        1.96118245e-03, -8.35299350e-04,  1.62308763e-03, -5.59236063e-03,\n",
       "                   nan,             nan,             nan,             nan,\n",
       "                   nan,             nan,             nan])"
      ]
     },
     "execution_count": 74,
     "metadata": {},
     "output_type": "execute_result"
    }
   ],
   "source": [
    "Sn_dict['S1_dT']"
   ]
  },
  {
   "cell_type": "markdown",
   "id": "f26624a8-bcfb-427b-949e-17f5c13c2e28",
   "metadata": {},
   "source": [
    "----"
   ]
  },
  {
   "cell_type": "code",
   "execution_count": 45,
   "id": "4b44ae7d-a01d-4bc8-8baf-d0bc1b7da735",
   "metadata": {},
   "outputs": [
    {
     "data": {
      "text/plain": [
       "(180, 20)"
      ]
     },
     "execution_count": 45,
     "metadata": {},
     "output_type": "execute_result"
    }
   ],
   "source": [
    "a = np.ones((100,20))\n",
    "b = np.ones((80,20))\n",
    "#\n",
    "c = np.concatenate([a,b],axis=0)\n",
    "c.shape"
   ]
  },
  {
   "cell_type": "code",
   "execution_count": null,
   "id": "3eac7f5c-724d-474b-9bfa-c6252d300a48",
   "metadata": {},
   "outputs": [],
   "source": []
  }
 ],
 "metadata": {
  "kernelspec": {
   "display_name": "Python 3 (ipykernel)",
   "language": "python",
   "name": "python3"
  },
  "language_info": {
   "codemirror_mode": {
    "name": "ipython",
    "version": 3
   },
   "file_extension": ".py",
   "mimetype": "text/x-python",
   "name": "python",
   "nbconvert_exporter": "python",
   "pygments_lexer": "ipython3",
   "version": "3.12.2"
  }
 },
 "nbformat": 4,
 "nbformat_minor": 5
}
