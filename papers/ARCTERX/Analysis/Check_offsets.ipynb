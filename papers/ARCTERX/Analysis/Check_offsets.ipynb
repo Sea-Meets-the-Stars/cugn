{
 "cells": [
  {
   "cell_type": "markdown",
   "id": "46be756f-a691-4a5a-99b9-0558423b26b4",
   "metadata": {},
   "source": [
    "# Check offsets"
   ]
  },
  {
   "cell_type": "code",
   "execution_count": 1,
   "id": "23e0dc45-db81-4a02-8b0d-d7781a4344c1",
   "metadata": {},
   "outputs": [],
   "source": [
    "# imports\n",
    "import os \n",
    "import numpy as np\n",
    "\n",
    "from profiler.loading.pymatreader import pymatreader\n",
    "\n",
    "import arcterx_utils"
   ]
  },
  {
   "cell_type": "markdown",
   "id": "eed1ea65-57cf-42a0-a403-c9136f06bfa3",
   "metadata": {},
   "source": [
    "# Load"
   ]
  },
  {
   "cell_type": "code",
   "execution_count": 2,
   "id": "7ffd59ad-8ad6-47e9-8993-dbf207009ac4",
   "metadata": {},
   "outputs": [],
   "source": [
    "ctd_file = os.path.join(os.getenv('OS_DATA'), 'ARCTERX', '2025_IOP' ,'gliders', \n",
    "                        'ctd.mat')"
   ]
  },
  {
   "cell_type": "code",
   "execution_count": 3,
   "id": "e1d070e9-914f-4728-8e09-f454a237e756",
   "metadata": {},
   "outputs": [],
   "source": [
    "ctd = pymatreader.read_mat(ctd_file, verify_compressed_data_integrity=True)"
   ]
  },
  {
   "cell_type": "code",
   "execution_count": 4,
   "id": "88e5df85-00d6-4790-ab1e-1ceb7ef69f12",
   "metadata": {},
   "outputs": [
    {
     "data": {
      "text/plain": [
       "(2405,)"
      ]
     },
     "execution_count": 4,
     "metadata": {},
     "output_type": "execute_result"
    }
   ],
   "source": [
    "ctd['ctd']['dist'].shape"
   ]
  },
  {
   "cell_type": "code",
   "execution_count": 5,
   "id": "2035ec33-0c6d-484d-814c-90e538004536",
   "metadata": {},
   "outputs": [
    {
     "data": {
      "text/plain": [
       "(array([37.30417849, 36.73709287, 34.91054059, 33.7307837 , 33.13634669,\n",
       "        32.20796216, 31.96232057, 32.15925063, 32.06990273, 29.84662496]),\n",
       " array([ 7.9956396,  7.2841938,  6.3571752,  5.6148936,  4.5742548,\n",
       "         3.3769368,  1.9804362,  0.3741966, -1.6281858, -4.7542692]))"
      ]
     },
     "execution_count": 5,
     "metadata": {},
     "output_type": "execute_result"
    }
   ],
   "source": [
    "ctd['ctd']['dist'][0:10], ctd['ctd']['offset'][0:10]"
   ]
  },
  {
   "cell_type": "markdown",
   "id": "d24f4aff-34bc-408f-82ce-abcbeee8cfed",
   "metadata": {},
   "source": [
    "# Mine"
   ]
  },
  {
   "cell_type": "code",
   "execution_count": 6,
   "id": "25d5192d-53de-4dc5-8dc7-f08f10a78d01",
   "metadata": {},
   "outputs": [
    {
     "name": "stdout",
     "output_type": "stream",
     "text": [
      "Loading Sprays\n",
      "calc_dist_offset: theta=1.5707963267948966 rad, 90.0 deg\n",
      "calc_dist_offset: theta=1.5707963267948966 rad, 90.0 deg\n",
      "Loading Seagliders\n",
      "Loading:  /home/xavier/Projects/Oceanography/data/ARCTERX/2025_IOP/gliders/Seagliders/sg528.mat\n",
      "Warning: x0 not in binned data for /home/xavier/Projects/Oceanography/data/ARCTERX/2025_IOP/gliders/Seagliders/sg528.mat\n",
      "Warning: x1 not in binned data for /home/xavier/Projects/Oceanography/data/ARCTERX/2025_IOP/gliders/Seagliders/sg528.mat\n",
      "Warning: y0 not in binned data for /home/xavier/Projects/Oceanography/data/ARCTERX/2025_IOP/gliders/Seagliders/sg528.mat\n",
      "Warning: y1 not in binned data for /home/xavier/Projects/Oceanography/data/ARCTERX/2025_IOP/gliders/Seagliders/sg528.mat\n",
      "calc_dist_offset: theta=1.5707963267948966 rad, 90.0 deg\n",
      "Loading:  /home/xavier/Projects/Oceanography/data/ARCTERX/2025_IOP/gliders/Seagliders/sg171.mat\n",
      "Warning: x0 not in binned data for /home/xavier/Projects/Oceanography/data/ARCTERX/2025_IOP/gliders/Seagliders/sg171.mat\n",
      "Warning: x1 not in binned data for /home/xavier/Projects/Oceanography/data/ARCTERX/2025_IOP/gliders/Seagliders/sg171.mat\n",
      "Warning: y0 not in binned data for /home/xavier/Projects/Oceanography/data/ARCTERX/2025_IOP/gliders/Seagliders/sg171.mat\n",
      "Warning: y1 not in binned data for /home/xavier/Projects/Oceanography/data/ARCTERX/2025_IOP/gliders/Seagliders/sg171.mat\n",
      "Warning: x0 not in binned data for /home/xavier/Projects/Oceanography/data/ARCTERX/2025_IOP/gliders/Seagliders/sg171.mat\n",
      "Warning: x1 not in binned data for /home/xavier/Projects/Oceanography/data/ARCTERX/2025_IOP/gliders/Seagliders/sg171.mat\n",
      "Warning: y0 not in binned data for /home/xavier/Projects/Oceanography/data/ARCTERX/2025_IOP/gliders/Seagliders/sg171.mat\n",
      "Warning: y1 not in binned data for /home/xavier/Projects/Oceanography/data/ARCTERX/2025_IOP/gliders/Seagliders/sg171.mat\n",
      "calc_dist_offset: theta=1.5707963267948966 rad, 90.0 deg\n",
      "Loading:  /home/xavier/Projects/Oceanography/data/ARCTERX/2025_IOP/gliders/Seagliders/sg196.mat\n",
      "Warning: x0 not in binned data for /home/xavier/Projects/Oceanography/data/ARCTERX/2025_IOP/gliders/Seagliders/sg196.mat\n",
      "Warning: x1 not in binned data for /home/xavier/Projects/Oceanography/data/ARCTERX/2025_IOP/gliders/Seagliders/sg196.mat\n",
      "Warning: y0 not in binned data for /home/xavier/Projects/Oceanography/data/ARCTERX/2025_IOP/gliders/Seagliders/sg196.mat\n",
      "Warning: y1 not in binned data for /home/xavier/Projects/Oceanography/data/ARCTERX/2025_IOP/gliders/Seagliders/sg196.mat\n",
      "Warning: x0 not in binned data for /home/xavier/Projects/Oceanography/data/ARCTERX/2025_IOP/gliders/Seagliders/sg196.mat\n",
      "Warning: x1 not in binned data for /home/xavier/Projects/Oceanography/data/ARCTERX/2025_IOP/gliders/Seagliders/sg196.mat\n",
      "Warning: y0 not in binned data for /home/xavier/Projects/Oceanography/data/ARCTERX/2025_IOP/gliders/Seagliders/sg196.mat\n",
      "Warning: y1 not in binned data for /home/xavier/Projects/Oceanography/data/ARCTERX/2025_IOP/gliders/Seagliders/sg196.mat\n",
      "Warning: x0 not in binned data for /home/xavier/Projects/Oceanography/data/ARCTERX/2025_IOP/gliders/Seagliders/sg196.mat\n",
      "Warning: x1 not in binned data for /home/xavier/Projects/Oceanography/data/ARCTERX/2025_IOP/gliders/Seagliders/sg196.mat\n",
      "Warning: y0 not in binned data for /home/xavier/Projects/Oceanography/data/ARCTERX/2025_IOP/gliders/Seagliders/sg196.mat\n",
      "Warning: y1 not in binned data for /home/xavier/Projects/Oceanography/data/ARCTERX/2025_IOP/gliders/Seagliders/sg196.mat\n",
      "calc_dist_offset: theta=1.5707963267948966 rad, 90.0 deg\n",
      "Using lonendpts: (129.9167, 129.9167)\n",
      "Using latendpts: (20.3332, 20.3334)\n",
      "calc_dist_offset: theta=1.5707963267948966 rad, 90.0 deg\n",
      "calc_dist_offset: theta=1.5707963267948966 rad, 90.0 deg\n",
      "calc_dist_offset: theta=1.5707963267948966 rad, 90.0 deg\n",
      "calc_dist_offset: theta=1.5707963267948966 rad, 90.0 deg\n",
      "calc_dist_offset: theta=1.5707963267948966 rad, 90.0 deg\n"
     ]
    }
   ],
   "source": [
    "profilers, Sn_dict, gPairs, rbins = arcterx_utils.calc_structure(\n",
    "        'ARCTERX-Leg2', 'duLduLduL', ['Spray', 'Seaglider'], 9, 7.)"
   ]
  },
  {
   "cell_type": "code",
   "execution_count": 15,
   "id": "416d7c14-4f5b-4606-9d1b-13430a1ee5ec",
   "metadata": {},
   "outputs": [],
   "source": [
    "lat_box=20.3333 \n",
    "lon_box=129.9167"
   ]
  },
  {
   "cell_type": "code",
   "execution_count": 16,
   "id": "439b0a6f-e543-4e7b-bc85-5ff1fe7ad8b5",
   "metadata": {},
   "outputs": [
    {
     "data": {
      "text/plain": [
       "6.700000000000017"
      ]
     },
     "execution_count": 16,
     "metadata": {},
     "output_type": "execute_result"
    }
   ],
   "source": [
    "(20.40-20.333)*100"
   ]
  },
  {
   "cell_type": "code",
   "execution_count": 18,
   "id": "c975c648-1a21-4146-bf03-dd4261c636b2",
   "metadata": {},
   "outputs": [
    {
     "data": {
      "text/plain": [
       "(array([37.30417849, 36.73709287, 34.91054059, 33.7307837 , 33.13634669,\n",
       "        32.20796216, 31.96232057, 32.15925063]),\n",
       " array([8.0067516, 7.2953058, 6.3682872, 5.6260056, 4.5853668, 3.3880488,\n",
       "        1.9915482, 0.3853086]))"
      ]
     },
     "execution_count": 18,
     "metadata": {},
     "output_type": "execute_result"
    }
   ],
   "source": [
    "profilers[0].distE[2:10],profilers[0].distN[2:10]"
   ]
  },
  {
   "cell_type": "code",
   "execution_count": 8,
   "id": "b54797e4-fb52-4ef9-bad9-be4ac8b79818",
   "metadata": {},
   "outputs": [
    {
     "data": {
      "text/plain": [
       "(array([37.30417849, 36.73709287, 34.91054059, 33.7307837 , 33.13634669,\n",
       "        32.20796216, 31.96232057, 32.15925063]),\n",
       " array([7.9956396, 7.2841938, 6.3571752, 5.6148936, 4.5742548, 3.3769368,\n",
       "        1.9804362, 0.3741966]))"
      ]
     },
     "execution_count": 8,
     "metadata": {},
     "output_type": "execute_result"
    }
   ],
   "source": [
    "ctd['ctd']['dist'][0:8], ctd['ctd']['offset'][0:8]"
   ]
  },
  {
   "cell_type": "code",
   "execution_count": 9,
   "id": "fc321741-1dd5-4a2d-b421-85eae8566387",
   "metadata": {},
   "outputs": [
    {
     "data": {
      "text/plain": [
       "(array([130.27472  , 130.2692775, 130.2517475, 130.240425 , 130.23472  ,\n",
       "        130.22581  , 130.2234525, 130.2253425, 130.224485 , 130.2031475]),\n",
       " array([20.405255 , 20.3988525, 20.39051  , 20.38383  , 20.374465 ,\n",
       "        20.36369  , 20.3511225, 20.3366675, 20.3186475, 20.290515 ]))"
      ]
     },
     "execution_count": 9,
     "metadata": {},
     "output_type": "execute_result"
    }
   ],
   "source": [
    "ctd['ctd']['lon'][0:10], ctd['ctd']['lat'][0:10]"
   ]
  },
  {
   "cell_type": "code",
   "execution_count": 10,
   "id": "811a1748-cdc3-4e17-b23c-eef08b398f69",
   "metadata": {},
   "outputs": [
    {
     "data": {
      "text/plain": [
       "(array([130.27472  , 130.2692775, 130.2517475, 130.240425 , 130.23472  ,\n",
       "        130.22581  , 130.2234525, 130.2253425]),\n",
       " array([20.405255 , 20.3988525, 20.39051  , 20.38383  , 20.374465 ,\n",
       "        20.36369  , 20.3511225, 20.3366675]))"
      ]
     },
     "execution_count": 10,
     "metadata": {},
     "output_type": "execute_result"
    }
   ],
   "source": [
    "profilers[0].lon[2:10], profilers[0].lat[2:10]"
   ]
  },
  {
   "cell_type": "code",
   "execution_count": 13,
   "id": "06c675f1-4477-47e0-8ba3-93500eba6a71",
   "metadata": {},
   "outputs": [
    {
     "data": {
      "text/plain": [
       "SprayData object for ARCTERX-Leg2\n",
       "  Mission ID: 25203301\n",
       "  Number of profiles: 310\n",
       "  Time range: 2025-02-03 01:55:07.999998093 to 2025-04-10 23:52:25.249999762\n",
       "  In field? True  ADCP on? True  Variables:\n",
       "    depth: (100,)\n",
       "    time: (310,)\n",
       "    lat: (310,)\n",
       "    lon: (310,)\n",
       "    distE: (310,)\n",
       "    distN: (310,)\n",
       "    s: (310, 100)\n",
       "    t: (310, 100)\n",
       "    udop: (310, 100)\n",
       "    vdop: (310, 100)"
      ]
     },
     "execution_count": 13,
     "metadata": {},
     "output_type": "execute_result"
    }
   ],
   "source": [
    "profilers[0]"
   ]
  },
  {
   "cell_type": "code",
   "execution_count": 17,
   "id": "017b9153-e6a0-4672-b034-fbeaa5053082",
   "metadata": {},
   "outputs": [
    {
     "data": {
      "text/plain": [
       "dict_keys(['y0', 'y1', 'x0', 'x1', 'time0', 'time1', 'depthmin', 'missions', 'depth', 'missid', 'time', 'lon', 'lat', 'dist', 'offset', 'timeu', 'lonu', 'latu', 'distu', 'offsetu', 'u', 'v', 't', 's', 'udop', 'vdop'])"
      ]
     },
     "execution_count": 17,
     "metadata": {},
     "output_type": "execute_result"
    }
   ],
   "source": [
    "ctd['ctd'].keys()"
   ]
  },
  {
   "cell_type": "code",
   "execution_count": 15,
   "id": "9242d932-58e5-4e93-b9d3-e1b1141aee8d",
   "metadata": {},
   "outputs": [
    {
     "data": {
      "text/plain": [
       "['25203301', '25203801', '25204501', 'sg171', 'sg196', 'sg528', 'osu685']"
      ]
     },
     "execution_count": 15,
     "metadata": {},
     "output_type": "execute_result"
    }
   ],
   "source": [
    "ctd['ctd']['missions']"
   ]
  },
  {
   "cell_type": "code",
   "execution_count": 22,
   "id": "9996381e-15f8-4eed-bab5-28c05acf997d",
   "metadata": {},
   "outputs": [
    {
     "data": {
      "text/plain": [
       "np.int64(306)"
      ]
     },
     "execution_count": 22,
     "metadata": {},
     "output_type": "execute_result"
    }
   ],
   "source": [
    "np.sum(ctd['ctd']['missid'] == 1)"
   ]
  },
  {
   "cell_type": "code",
   "execution_count": null,
   "id": "e1a8c44f-1dbb-4652-9983-1230c307791b",
   "metadata": {},
   "outputs": [],
   "source": []
  }
 ],
 "metadata": {
  "kernelspec": {
   "display_name": "Python 3 (ipykernel)",
   "language": "python",
   "name": "python3"
  },
  "language_info": {
   "codemirror_mode": {
    "name": "ipython",
    "version": 3
   },
   "file_extension": ".py",
   "mimetype": "text/x-python",
   "name": "python",
   "nbconvert_exporter": "python",
   "pygments_lexer": "ipython3",
   "version": "3.12.2"
  }
 },
 "nbformat": 4,
 "nbformat_minor": 5
}
