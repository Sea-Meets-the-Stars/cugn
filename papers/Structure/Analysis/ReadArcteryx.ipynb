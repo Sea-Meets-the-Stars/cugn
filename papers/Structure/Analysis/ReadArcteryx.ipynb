{
 "cells": [
  {
   "cell_type": "markdown",
   "id": "8b035ed5-6ba4-4168-b0a1-8c2386582c0f",
   "metadata": {},
   "source": [
    "# Read Arcteryx"
   ]
  },
  {
   "cell_type": "code",
   "execution_count": 5,
   "id": "3ecb22d2-9444-44c6-8a3c-c6a24c9643fa",
   "metadata": {},
   "outputs": [],
   "source": [
    "# imports\n",
    "from importlib import reload\n",
    "import os\n",
    "\n",
    "from scipy.io import loadmat\n",
    "\n",
    "from cugn import arcteryx"
   ]
  },
  {
   "cell_type": "markdown",
   "id": "8a3c3ad3-b032-4c37-b01a-b199bb6f2780",
   "metadata": {},
   "source": [
    "# Load"
   ]
  },
  {
   "cell_type": "code",
   "execution_count": 6,
   "id": "72de8a8f-8a3f-45e6-b53f-7ad4ffe4e944",
   "metadata": {},
   "outputs": [],
   "source": [
    "path = '/home/xavier/Projects/Oceanography/data/Arcteryx'\n",
    "dfile = os.path.join(path, 'arcteryx_ctd.mat')"
   ]
  },
  {
   "cell_type": "code",
   "execution_count": 7,
   "id": "ebebf7ae-5bef-402c-8eec-371cd6eb976e",
   "metadata": {},
   "outputs": [],
   "source": [
    "mat_d = loadmat(dfile)"
   ]
  },
  {
   "cell_type": "markdown",
   "id": "f2909182-a965-4843-be4d-e626d309d5ce",
   "metadata": {},
   "source": [
    "# Parse"
   ]
  },
  {
   "cell_type": "code",
   "execution_count": 8,
   "id": "bad4c43a-a090-49f5-b871-93cd0be67e3c",
   "metadata": {},
   "outputs": [
    {
     "data": {
      "text/plain": [
       "dtype([('y0', 'O'), ('y1', 'O'), ('x0', 'O'), ('x1', 'O'), ('time0', 'O'), ('time1', 'O'), ('depthmin', 'O'), ('missions', 'O'), ('depth', 'O'), ('missid', 'O'), ('time', 'O'), ('lon', 'O'), ('lat', 'O'), ('dist', 'O'), ('offset', 'O'), ('timeu', 'O'), ('lonu', 'O'), ('latu', 'O'), ('distu', 'O'), ('offsetu', 'O'), ('u', 'O'), ('v', 'O'), ('t', 'O'), ('s', 'O'), ('udop', 'O'), ('vdop', 'O'), ('udopalong', 'O'), ('udopacross', 'O'), ('fl', 'O'), ('abs', 'O'), ('ualong', 'O'), ('uacross', 'O')])"
      ]
     },
     "execution_count": 8,
     "metadata": {},
     "output_type": "execute_result"
    }
   ],
   "source": [
    "mat_d['ctd'].dtype"
   ]
  },
  {
   "cell_type": "code",
   "execution_count": 9,
   "id": "1bcbd014-4386-425d-a051-d42b04bdd365",
   "metadata": {},
   "outputs": [
    {
     "data": {
      "text/plain": [
       "array([[19.53429   ],\n",
       "       [19.53963   ],\n",
       "       [19.54956   ],\n",
       "       ...,\n",
       "       [17.98506918],\n",
       "       [17.96829788],\n",
       "       [17.94404785]])"
      ]
     },
     "execution_count": 9,
     "metadata": {},
     "output_type": "execute_result"
    }
   ],
   "source": [
    "mat_d['ctd']['latu'][0][0].shape\n",
    "mat_d['ctd']['latu'][0][0]"
   ]
  },
  {
   "cell_type": "code",
   "execution_count": 10,
   "id": "1b5a4d94-4706-4da0-a527-02744ac390b1",
   "metadata": {},
   "outputs": [
    {
     "data": {
      "text/plain": [
       "(100, 2343)"
      ]
     },
     "execution_count": 10,
     "metadata": {},
     "output_type": "execute_result"
    }
   ],
   "source": [
    "mat_d['ctd']['udop'][0][0].shape"
   ]
  },
  {
   "cell_type": "code",
   "execution_count": 11,
   "id": "7afc363c-b72d-44b6-a8ee-88ca486e52f8",
   "metadata": {},
   "outputs": [
    {
     "data": {
      "text/plain": [
       "141.75"
      ]
     },
     "execution_count": 11,
     "metadata": {},
     "output_type": "execute_result"
    }
   ],
   "source": [
    "mat_d['ctd']['x0'][0][0][0][0]"
   ]
  },
  {
   "cell_type": "code",
   "execution_count": 12,
   "id": "c9e6496b-541a-45e0-9ccf-01f97642c082",
   "metadata": {},
   "outputs": [
    {
     "data": {
      "text/plain": [
       "(100, 1)"
      ]
     },
     "execution_count": 12,
     "metadata": {},
     "output_type": "execute_result"
    }
   ],
   "source": [
    "mat_d['ctd']['depth'][0][0].shape"
   ]
  },
  {
   "cell_type": "code",
   "execution_count": 13,
   "id": "be2d22ee-27c0-459e-8d09-6312982cd150",
   "metadata": {},
   "outputs": [
    {
     "data": {
      "text/plain": [
       "(2343, 1)"
      ]
     },
     "execution_count": 13,
     "metadata": {},
     "output_type": "execute_result"
    }
   ],
   "source": [
    "mat_d['ctd']['dist'][0][0].shape"
   ]
  },
  {
   "cell_type": "code",
   "execution_count": 14,
   "id": "c0f7bc36-c968-4943-91a6-9df3f781c102",
   "metadata": {},
   "outputs": [
    {
     "data": {
      "text/plain": [
       "array([[1.68552765e+09],\n",
       "       [1.68553544e+09],\n",
       "       [1.68554767e+09],\n",
       "       ...,\n",
       "       [1.69075584e+09],\n",
       "       [1.69077521e+09],\n",
       "       [1.69079450e+09]])"
      ]
     },
     "execution_count": 14,
     "metadata": {},
     "output_type": "execute_result"
    }
   ],
   "source": [
    "mat_d['ctd']['time'][0][0]"
   ]
  },
  {
   "cell_type": "code",
   "execution_count": 21,
   "id": "4cbff58f-21c4-4390-8ce1-84afc3ddada9",
   "metadata": {},
   "outputs": [
    {
     "data": {
      "text/plain": [
       "array([[array([[ 1],\n",
       "               [ 1],\n",
       "               [ 1],\n",
       "               ...,\n",
       "               [11],\n",
       "               [11],\n",
       "               [11]], dtype=uint8)]], dtype=object)"
      ]
     },
     "execution_count": 21,
     "metadata": {},
     "output_type": "execute_result"
    }
   ],
   "source": [
    "mat_d['ctd']['missid']"
   ]
  },
  {
   "cell_type": "code",
   "execution_count": null,
   "id": "788f4919-6060-438e-a39c-881f29ef9c80",
   "metadata": {},
   "outputs": [],
   "source": [
    "mat_d['ctd']['missid']"
   ]
  },
  {
   "cell_type": "markdown",
   "id": "148b8c67-7c54-41c7-9972-8f78cc162861",
   "metadata": {},
   "source": [
    "----"
   ]
  },
  {
   "cell_type": "markdown",
   "id": "47353e9e-4753-49e3-9044-963846f73c58",
   "metadata": {},
   "source": [
    "# As a method"
   ]
  },
  {
   "cell_type": "code",
   "execution_count": 16,
   "id": "1b2aa654-273c-4195-bb0c-edace92b9772",
   "metadata": {},
   "outputs": [],
   "source": [
    "reload(arcteryx)\n",
    "adict = arcteryx.load_ctd()"
   ]
  },
  {
   "cell_type": "code",
   "execution_count": 17,
   "id": "fbf1bf95-e46f-4831-b2e3-de4119518f3f",
   "metadata": {},
   "outputs": [
    {
     "data": {
      "text/plain": [
       "141.75"
      ]
     },
     "execution_count": 17,
     "metadata": {},
     "output_type": "execute_result"
    }
   ],
   "source": [
    "adict['x0']"
   ]
  },
  {
   "cell_type": "code",
   "execution_count": 18,
   "id": "1ae6d09a-f126-4247-80c6-b083a0fc70a1",
   "metadata": {},
   "outputs": [
    {
     "data": {
      "text/plain": [
       "array([[-0.08271859, -0.07166982, -0.02859187, ...,         nan,\n",
       "                nan,         nan],\n",
       "       [-0.06700942, -0.13764797, -0.06195344, ...,         nan,\n",
       "                nan,         nan],\n",
       "       [-0.06583628, -0.14263504, -0.06749256, ...,         nan,\n",
       "                nan,         nan],\n",
       "       ...,\n",
       "       [        nan,         nan,         nan, ...,         nan,\n",
       "                nan,         nan],\n",
       "       [        nan,         nan,         nan, ...,         nan,\n",
       "                nan,         nan],\n",
       "       [        nan,         nan,         nan, ...,         nan,\n",
       "                nan,         nan]])"
      ]
     },
     "execution_count": 18,
     "metadata": {},
     "output_type": "execute_result"
    }
   ],
   "source": [
    "adict['udop']"
   ]
  },
  {
   "cell_type": "code",
   "execution_count": null,
   "id": "e426a352-37e8-4a58-9455-a363efca34b8",
   "metadata": {},
   "outputs": [],
   "source": []
  }
 ],
 "metadata": {
  "kernelspec": {
   "display_name": "Python 3 (ipykernel)",
   "language": "python",
   "name": "python3"
  },
  "language_info": {
   "codemirror_mode": {
    "name": "ipython",
    "version": 3
   },
   "file_extension": ".py",
   "mimetype": "text/x-python",
   "name": "python",
   "nbconvert_exporter": "python",
   "pygments_lexer": "ipython3",
   "version": "3.11.7"
  }
 },
 "nbformat": 4,
 "nbformat_minor": 5
}
