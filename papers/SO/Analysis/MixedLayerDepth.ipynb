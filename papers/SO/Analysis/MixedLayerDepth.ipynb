{
 "cells": [
  {
   "cell_type": "markdown",
   "id": "775af15a-7eec-46ea-9cbe-099a93f8a739",
   "metadata": {},
   "source": [
    "# Mixed Layer Depth"
   ]
  },
  {
   "cell_type": "code",
   "execution_count": 6,
   "id": "4fd7772e-b844-4653-84ee-5b506761314e",
   "metadata": {},
   "outputs": [],
   "source": [
    "# imports\n",
    "import os\n",
    "import xarray\n",
    "\n",
    "import numpy as np\n",
    "from scipy import stats\n",
    "from scipy.interpolate import interp1d \n",
    "\n",
    "from gsw import conversions, density\n",
    "import gsw\n",
    "\n",
    "from matplotlib import pyplot as plt\n",
    "import matplotlib as mpl\n",
    "import matplotlib.gridspec as gridspec\n",
    "import matplotlib.dates as mdates\n",
    "from matplotlib.ticker import MultipleLocator \n",
    "\n",
    "import seaborn as sns\n",
    "\n",
    "import pandas\n",
    "\n",
    "from cugn import grid_utils\n",
    "from cugn import utils as cugn_utils\n",
    "from cugn import io as cugn_io\n",
    "from cugn import annualcycle"
   ]
  },
  {
   "cell_type": "markdown",
   "id": "e8b7c828-100d-4419-a721-ef6666ccd35f",
   "metadata": {},
   "source": [
    "# Load CUGN"
   ]
  },
  {
   "cell_type": "code",
   "execution_count": 2,
   "id": "595aa1de-e0c4-4d97-8950-00e2a64f2895",
   "metadata": {},
   "outputs": [
    {
     "name": "stdout",
     "output_type": "stream",
     "text": [
      "Loading: doxy_grid_line90.parquet\n",
      "Loading: doxy_grid_line90.parquet\n",
      "Found 29 unique clusters\n"
     ]
    }
   ],
   "source": [
    "line = '90.0'\n",
    "#\n",
    "items = cugn_io.load_up(line)#, gextrem='low')\n",
    "grid_extrem = items[0]\n",
    "ds = items[1]"
   ]
  },
  {
   "cell_type": "markdown",
   "id": "eb0b664f-1daa-4510-af38-0d8d4cd8225c",
   "metadata": {},
   "source": [
    "# Density profile"
   ]
  },
  {
   "cell_type": "markdown",
   "id": "396cf92e-11f3-440e-8d42-30ab41c09419",
   "metadata": {},
   "source": [
    "## Profile"
   ]
  },
  {
   "cell_type": "code",
   "execution_count": 43,
   "id": "9b0c4654-1215-410c-90eb-087827693813",
   "metadata": {},
   "outputs": [
    {
     "data": {
      "text/plain": [
       "np.int32(37538)"
      ]
     },
     "execution_count": 43,
     "metadata": {},
     "output_type": "execute_result"
    }
   ],
   "source": []
  },
  {
   "cell_type": "code",
   "execution_count": 42,
   "id": "4d33d80b-2be3-4aef-87b8-9875325ea523",
   "metadata": {},
   "outputs": [],
   "source": [
    "#iprofile=20000  # Random location"
   ]
  },
  {
   "cell_type": "markdown",
   "id": "f24ea809-6a27-41ab-b391-8219c462a501",
   "metadata": {},
   "source": [
    "## Calculate density"
   ]
  },
  {
   "cell_type": "code",
   "execution_count": 8,
   "id": "24692ad2-990c-466d-a3ed-8f55472f9c96",
   "metadata": {},
   "outputs": [
    {
     "data": {
      "text/plain": [
       "(np.float64(32.619445), np.float64(-119.71646750000001))"
      ]
     },
     "execution_count": 8,
     "metadata": {},
     "output_type": "execute_result"
    }
   ],
   "source": [
    "# Characteristic lat, lon\n",
    "lat = np.nanmedian(ds.lat.data)\n",
    "lon = np.nanmedian(ds.lon.data)\n",
    "lat, lon"
   ]
  },
  {
   "cell_type": "code",
   "execution_count": 33,
   "id": "d92e04da-7226-4d73-837d-57a144972642",
   "metadata": {},
   "outputs": [],
   "source": [
    "def calc_density(ds, iprofile):\n",
    "    # Loop on depths\n",
    "    SAs, CTs = [], []\n",
    "    for zz, z in enumerate(ds.depth.data):\n",
    "        # Pressure\n",
    "        p = conversions.p_from_z(-z, lat)\n",
    "    \n",
    "        # SA\n",
    "        SA = conversions.SA_from_SP(ds.salinity.data[zz,iprofile], \n",
    "                                    p, lon, lat)\n",
    "        # CT\n",
    "        CT = conversions.CT_from_t(SA, ds.temperature.data[zz,iprofile], p)\n",
    "        # Save\n",
    "        SAs.append(SA)\n",
    "        CTs.append(CT)\n",
    "    # Densities\n",
    "    sigma0 = density.sigma0(SAs, CTs)\n",
    "    sigma = density.sigma0(ds.salinity.data[:,iprofile], ds.temperature.data[:,iprofile])\n",
    "\n",
    "    # Return\n",
    "    return sigma, sigma0"
   ]
  },
  {
   "cell_type": "markdown",
   "id": "63f32d21-bd2a-4745-9ec0-cac957eda54c",
   "metadata": {},
   "source": [
    "# MLD"
   ]
  },
  {
   "cell_type": "code",
   "execution_count": 45,
   "id": "426dbb87-6c3b-46c8-a9f8-8cc1de3175b7",
   "metadata": {},
   "outputs": [],
   "source": [
    "def calc_MLD(sigma, thresh=0.125):\n",
    "    # Interpolate\n",
    "    f = interp1d(sigma, ds.depth.data-5.)\n",
    "    # Offset\n",
    "    sigma_MLD = sigma[0] + thresh\n",
    "    # Finish\n",
    "    return f(sigma_MLD)"
   ]
  },
  {
   "cell_type": "markdown",
   "id": "26222b22-df60-4eab-9cd0-b2d1a599b894",
   "metadata": {},
   "source": [
    "## Examine"
   ]
  },
  {
   "cell_type": "code",
   "execution_count": 48,
   "id": "f2ad9d03-45e9-4957-8230-eade54480227",
   "metadata": {},
   "outputs": [
    {
     "data": {
      "text/plain": [
       "np.int32(40162)"
      ]
     },
     "execution_count": 48,
     "metadata": {},
     "output_type": "execute_result"
    }
   ],
   "source": [
    "iprofile = grid_extrem.iloc[200].profile\n",
    "iprofile"
   ]
  },
  {
   "cell_type": "code",
   "execution_count": 49,
   "id": "05f51763-6d9d-454d-a66b-f67821b2538a",
   "metadata": {},
   "outputs": [
    {
     "name": "stdout",
     "output_type": "stream",
     "text": [
      "MLD=36.8m\n"
     ]
    },
    {
     "data": {
      "image/png": "[encoded data removed]",
      "text/plain": [
       "<Figure size 500x500 with 1 Axes>"
      ]
     },
     "metadata": {},
     "output_type": "display_data"
    }
   ],
   "source": [
    "sigma, sigma0 = calc_density(ds, iprofile)\n",
    "\n",
    "fig = plt.figure(figsize=(5,5))\n",
    "ax = plt.gca()\n",
    "#\n",
    "ax.plot(sigma, ds.depth.data-5., 'o')\n",
    "ax.plot(sigma0, ds.depth.data-5., color='g')\n",
    "\n",
    "# MLD\n",
    "mld = calc_MLD(sigma)\n",
    "print(f'MLD={mld:0.1f}m')\n",
    "ax.axhline(mld, color='red')\n",
    "\n",
    "ax.set_ylim(ds.depth.data.max(),0.)\n",
    "#\n",
    "plt.show()"
   ]
  },
  {
   "cell_type": "code",
   "execution_count": null,
   "id": "8ac089b0-431f-4a0d-aa2f-94e9ba023eda",
   "metadata": {},
   "outputs": [],
   "source": []
  }
 ],
 "metadata": {
  "kernelspec": {
   "display_name": "Python 3 (ipykernel)",
   "language": "python",
   "name": "python3"
  },
  "language_info": {
   "codemirror_mode": {
    "name": "ipython",
    "version": 3
   },
   "file_extension": ".py",
   "mimetype": "text/x-python",
   "name": "python",
   "nbconvert_exporter": "python",
   "pygments_lexer": "ipython3",
   "version": "3.12.2"
  }
 },
 "nbformat": 4,
 "nbformat_minor": 5
}
