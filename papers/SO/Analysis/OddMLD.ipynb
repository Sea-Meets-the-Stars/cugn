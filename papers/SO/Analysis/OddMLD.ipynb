{
 "cells": [
  {
   "cell_type": "markdown",
   "id": "775af15a-7eec-46ea-9cbe-099a93f8a739",
   "metadata": {},
   "source": [
    "# Examine Odd MLD"
   ]
  },
  {
   "cell_type": "code",
   "execution_count": 1,
   "id": "4fd7772e-b844-4653-84ee-5b506761314e",
   "metadata": {},
   "outputs": [],
   "source": [
    "# imports\n",
    "import os\n",
    "import glob\n",
    "import xarray\n",
    "\n",
    "import numpy as np\n",
    "from scipy import stats\n",
    "from scipy.interpolate import interp1d \n",
    "\n",
    "from gsw import conversions, density\n",
    "import gsw\n",
    "\n",
    "from matplotlib import pyplot as plt\n",
    "import matplotlib as mpl\n",
    "import matplotlib.gridspec as gridspec\n",
    "import matplotlib.dates as mdates\n",
    "from matplotlib.ticker import MultipleLocator \n",
    "\n",
    "import seaborn as sns\n",
    "\n",
    "import pandas\n",
    "\n",
    "from ocpy.utils import plotting\n",
    "\n",
    "from cugn import grid_utils\n",
    "from cugn import utils as cugn_utils\n",
    "from cugn import io as cugn_io\n",
    "from cugn import annualcycle"
   ]
  },
  {
   "cell_type": "markdown",
   "id": "e8b7c828-100d-4419-a721-ef6666ccd35f",
   "metadata": {},
   "source": [
    "# Load CUGN"
   ]
  },
  {
   "cell_type": "code",
   "execution_count": 3,
   "id": "595aa1de-e0c4-4d97-8950-00e2a64f2895",
   "metadata": {},
   "outputs": [
    {
     "name": "stdout",
     "output_type": "stream",
     "text": [
      "Loading: doxy_grid_line90.parquet\n",
      "Loading: doxy_grid_line90.parquet\n",
      "Found 29 unique clusters\n"
     ]
    }
   ],
   "source": [
    "line = '90.0'\n",
    "#\n",
    "items = cugn_io.load_up(line)#, gextrem='low')\n",
    "grid_extrem = items[0]\n",
    "ds = items[1]\n",
    "grid_tbl = items[3]"
   ]
  },
  {
   "cell_type": "code",
   "execution_count": 5,
   "id": "d8a8f831-3949-4534-9803-090540e0f369",
   "metadata": {},
   "outputs": [],
   "source": [
    "high_path = os.path.join(os.getenv('OS_SPRAY'), 'CUGN', 'HighRes')\n",
    "gfiles = glob.glob(os.path.join(high_path, f'SPRAY-FRSQ-{mname}-*.nc'))\n",
    "hfile = gfiles[0]                   \n",
    "#hfile\n",
    "ds_high = xarray.open_dataset(hfile)"
   ]
  },
  {
   "cell_type": "code",
   "execution_count": 6,
   "id": "56220e16-0c74-4ab8-ba31-8441cbe39f9a",
   "metadata": {},
   "outputs": [],
   "source": [
    "salinity = ds_high.salinity.values\n",
    "temperature = ds_high.temperature.values"
   ]
  },
  {
   "cell_type": "markdown",
   "id": "77b0484b-8735-4fcf-be91-b6de28010a2b",
   "metadata": {},
   "source": [
    "# Examine a Mission and Profile with a \"bad\" MLD"
   ]
  },
  {
   "cell_type": "code",
   "execution_count": 8,
   "id": "9090ec5d-989c-4de4-b588-5e42f088f187",
   "metadata": {},
   "outputs": [],
   "source": [
    "def do_calcs(mission_name:str, mission_profile:int, min_depth:float=5.):\n",
    "    \n",
    "    gidx = (grid_extrem.mission.values == mission_name) & (\n",
    "        grid_extrem.mission_profile.values == mission_profile)\n",
    "    gMLD = np.median(grid_extrem.MLD.values[gidx])\n",
    "\n",
    "    # Find the obs\n",
    "    my_obs = ds_high.profile_obs_index.values == mission_profile\n",
    "    my_obs &= ds_high.depth.values > min_depth\n",
    "\n",
    "    # Calculate density, etc.\n",
    "\n",
    "    # Require finite\n",
    "    my_obs &= np.isfinite(salinity) & np.isfinite(temperature)\n",
    "\n",
    "    # Pressure\n",
    "    p = conversions.p_from_z(-1*ds_high.depth.values[my_obs], lat)\n",
    "\n",
    "    # SA\n",
    "    SA = conversions.SA_from_SP(salinity[my_obs], p, lon, lat)\n",
    "\n",
    "    # CT\n",
    "    CT = conversions.CT_from_t(SA, temperature[my_obs], p)\n",
    "\n",
    "    # sigma0 \n",
    "    sigma0 = density.sigma0(SA, CT)\n",
    "    srt_z = np.argsort(ds_high.depth[my_obs])\n",
    "\n",
    "    # sigma0 at surface\n",
    "    sigma0_0 = np.mean(sigma0[srt_z[:5]])\n",
    "\n",
    "    # Calculate MLD\n",
    "    f = interp1d(sigma0[srt_z], ds_high.depth[my_obs].values[srt_z])\n",
    "    MLD = f(sigma0_0 + defs.MLD_sigma0)\n",
    "\n",
    "    # Return\n",
    "    return my_obs, gMLD, MLD, sigma0"
   ]
  },
  {
   "cell_type": "code",
   "execution_count": 4,
   "id": "a3aeed24-d3e0-47e0-82a1-152e4c908807",
   "metadata": {},
   "outputs": [],
   "source": [
    "mname = '20503001'\n",
    "in_grid = (grid_extrem.mission.values == mname)\n",
    "np.unique(grid_extrem.mission_profile.values[in_grid])\n",
    "mprofile = 14"
   ]
  },
  {
   "cell_type": "code",
   "execution_count": 9,
   "id": "a989a4f6-0006-4588-afe9-f4ee544788b7",
   "metadata": {},
   "outputs": [
    {
     "ename": "NameError",
     "evalue": "name 'lat' is not defined",
     "output_type": "error",
     "traceback": [
      "\u001b[0;31m---------------------------------------------------------------------------\u001b[0m",
      "\u001b[0;31mNameError\u001b[0m                                 Traceback (most recent call last)",
      "Cell \u001b[0;32mIn[9], line 1\u001b[0m\n\u001b[0;32m----> 1\u001b[0m my_obs, gMLD, MLD, sigma0 \u001b[38;5;241m=\u001b[39m \u001b[43mdo_calcs\u001b[49m\u001b[43m(\u001b[49m\u001b[43mmname\u001b[49m\u001b[43m,\u001b[49m\u001b[43m \u001b[49m\u001b[43mmprofile\u001b[49m\u001b[43m)\u001b[49m\n",
      "Cell \u001b[0;32mIn[8], line 17\u001b[0m, in \u001b[0;36mdo_calcs\u001b[0;34m(mission_name, mission_profile, min_depth)\u001b[0m\n\u001b[1;32m     14\u001b[0m my_obs \u001b[38;5;241m&\u001b[39m\u001b[38;5;241m=\u001b[39m np\u001b[38;5;241m.\u001b[39misfinite(salinity) \u001b[38;5;241m&\u001b[39m np\u001b[38;5;241m.\u001b[39misfinite(temperature)\n\u001b[1;32m     16\u001b[0m \u001b[38;5;66;03m# Pressure\u001b[39;00m\n\u001b[0;32m---> 17\u001b[0m p \u001b[38;5;241m=\u001b[39m conversions\u001b[38;5;241m.\u001b[39mp_from_z(\u001b[38;5;241m-\u001b[39m\u001b[38;5;241m1\u001b[39m\u001b[38;5;241m*\u001b[39mds_high\u001b[38;5;241m.\u001b[39mdepth\u001b[38;5;241m.\u001b[39mvalues[my_obs], \u001b[43mlat\u001b[49m)\n\u001b[1;32m     19\u001b[0m \u001b[38;5;66;03m# SA\u001b[39;00m\n\u001b[1;32m     20\u001b[0m SA \u001b[38;5;241m=\u001b[39m conversions\u001b[38;5;241m.\u001b[39mSA_from_SP(salinity[my_obs], p, lon, lat)\n",
      "\u001b[0;31mNameError\u001b[0m: name 'lat' is not defined"
     ]
    }
   ],
   "source": [
    "my_obs, gMLD, MLD, sigma0 = do_calcs(mname, mprofile)"
   ]
  },
  {
   "cell_type": "markdown",
   "id": "d4587d41-95e0-475e-a466-f4eb4c276bf9",
   "metadata": {},
   "source": [
    "## Load up"
   ]
  },
  {
   "cell_type": "code",
   "execution_count": 17,
   "id": "342684ee-ae1c-49d6-81ea-66edc9a6711c",
   "metadata": {},
   "outputs": [],
   "source": [
    "my_obs = ds_high.profile_obs_index.values == profile\n",
    "my_obs.size\n",
    "my_obs += ds_high.depth.values > 0.5"
   ]
  },
  {
   "cell_type": "code",
   "execution_count": 18,
   "id": "8ac089b0-431f-4a0d-aa2f-94e9ba023eda",
   "metadata": {},
   "outputs": [
    {
     "data": {
      "text/plain": [
       "<Axes: ylabel='Count'>"
      ]
     },
     "execution_count": 18,
     "metadata": {},
     "output_type": "execute_result"
    },
    {
     "data": {
      "image/png": "[encoded data removed]",
      "text/plain": [
       "<Figure size 640x480 with 1 Axes>"
      ]
     },
     "metadata": {},
     "output_type": "display_data"
    }
   ],
   "source": [
    "sns.histplot(ds_high.depth[my_obs].values, bins=500)"
   ]
  },
  {
   "cell_type": "code",
   "execution_count": null,
   "id": "35719ad2-8905-4eef-b768-a8e1b3a85681",
   "metadata": {},
   "outputs": [],
   "source": []
  }
 ],
 "metadata": {
  "kernelspec": {
   "display_name": "Python 3 (ipykernel)",
   "language": "python",
   "name": "python3"
  },
  "language_info": {
   "codemirror_mode": {
    "name": "ipython",
    "version": 3
   },
   "file_extension": ".py",
   "mimetype": "text/x-python",
   "name": "python",
   "nbconvert_exporter": "python",
   "pygments_lexer": "ipython3",
   "version": "3.12.2"
  }
 },
 "nbformat": 4,
 "nbformat_minor": 5
}
