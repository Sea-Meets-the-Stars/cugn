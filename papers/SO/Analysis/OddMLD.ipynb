{
 "cells": [
  {
   "cell_type": "markdown",
   "id": "775af15a-7eec-46ea-9cbe-099a93f8a739",
   "metadata": {},
   "source": [
    "# Examine Odd MLD"
   ]
  },
  {
   "cell_type": "code",
   "execution_count": 12,
   "id": "4fd7772e-b844-4653-84ee-5b506761314e",
   "metadata": {},
   "outputs": [],
   "source": [
    "# imports\n",
    "import os\n",
    "import glob\n",
    "import xarray\n",
    "\n",
    "import numpy as np\n",
    "from scipy import stats\n",
    "from scipy.interpolate import interp1d \n",
    "\n",
    "from gsw import conversions, density\n",
    "import gsw\n",
    "\n",
    "from matplotlib import pyplot as plt\n",
    "import matplotlib as mpl\n",
    "import matplotlib.gridspec as gridspec\n",
    "import matplotlib.dates as mdates\n",
    "from matplotlib.ticker import MultipleLocator \n",
    "\n",
    "import seaborn as sns\n",
    "\n",
    "import pandas\n",
    "\n",
    "from ocpy.utils import plotting\n",
    "\n",
    "from cugn import grid_utils\n",
    "from cugn import utils as cugn_utils\n",
    "from cugn import io as cugn_io\n",
    "from cugn import annualcycle\n",
    "from cugn import defs"
   ]
  },
  {
   "cell_type": "markdown",
   "id": "e8b7c828-100d-4419-a721-ef6666ccd35f",
   "metadata": {},
   "source": [
    "# Load CUGN"
   ]
  },
  {
   "cell_type": "code",
   "execution_count": 3,
   "id": "595aa1de-e0c4-4d97-8950-00e2a64f2895",
   "metadata": {},
   "outputs": [
    {
     "name": "stdout",
     "output_type": "stream",
     "text": [
      "Loading: doxy_grid_line90.parquet\n",
      "Loading: doxy_grid_line90.parquet\n",
      "Found 29 unique clusters\n"
     ]
    }
   ],
   "source": [
    "line = '90.0'\n",
    "#\n",
    "items = cugn_io.load_up(line)#, gextrem='low')\n",
    "grid_extrem = items[0]\n",
    "ds = items[1]\n",
    "grid_tbl = items[3]"
   ]
  },
  {
   "cell_type": "code",
   "execution_count": 10,
   "id": "03dbab40-1d5d-4e2b-84b9-849f9f0a0483",
   "metadata": {},
   "outputs": [],
   "source": [
    "lat = np.nanmedian(ds.lat.data)\n",
    "lon = np.nanmedian(ds.lon.data)"
   ]
  },
  {
   "cell_type": "code",
   "execution_count": 5,
   "id": "d8a8f831-3949-4534-9803-090540e0f369",
   "metadata": {},
   "outputs": [],
   "source": [
    "high_path = os.path.join(os.getenv('OS_SPRAY'), 'CUGN', 'HighRes')\n",
    "gfiles = glob.glob(os.path.join(high_path, f'SPRAY-FRSQ-{mname}-*.nc'))\n",
    "hfile = gfiles[0]                   \n",
    "#hfile\n",
    "ds_high = xarray.open_dataset(hfile)"
   ]
  },
  {
   "cell_type": "code",
   "execution_count": 6,
   "id": "56220e16-0c74-4ab8-ba31-8441cbe39f9a",
   "metadata": {},
   "outputs": [],
   "source": [
    "salinity = ds_high.salinity.values\n",
    "temperature = ds_high.temperature.values"
   ]
  },
  {
   "cell_type": "markdown",
   "id": "77b0484b-8735-4fcf-be91-b6de28010a2b",
   "metadata": {},
   "source": [
    "# Examine a Mission and Profile with a \"bad\" MLD"
   ]
  },
  {
   "cell_type": "code",
   "execution_count": 63,
   "id": "9090ec5d-989c-4de4-b588-5e42f088f187",
   "metadata": {},
   "outputs": [],
   "source": [
    "def do_calcs(mission_name:str, mission_profile:int, min_depth:float=0.5):\n",
    "    \n",
    "    gidx = (grid_extrem.mission.values == mission_name) & (\n",
    "        grid_extrem.mission_profile.values == mission_profile)\n",
    "    gMLD = np.median(grid_extrem.MLD.values[gidx])\n",
    "\n",
    "    # Find the obs\n",
    "    my_obs = ds_high.profile_obs_index.values == mission_profile\n",
    "    my_obs &= ds_high.depth.values > min_depth\n",
    "\n",
    "    # Calculate density, etc.\n",
    "\n",
    "    # Require finite\n",
    "    my_obs &= np.isfinite(salinity) & np.isfinite(temperature)\n",
    "\n",
    "    # Pressure\n",
    "    p = conversions.p_from_z(-1*ds_high.depth.values[my_obs], lat)\n",
    "\n",
    "    # SA\n",
    "    SA = conversions.SA_from_SP(salinity[my_obs], p, lon, lat)\n",
    "\n",
    "    # CT\n",
    "    CT = conversions.CT_from_t(SA, temperature[my_obs], p)\n",
    "\n",
    "    # sigma0 \n",
    "    sigma0 = density.sigma0(SA, CT)\n",
    "    srt_z = np.argsort(ds_high.depth[my_obs])\n",
    "\n",
    "    # sigma0 at surface\n",
    "    sigma0_0 = np.mean(sigma0[srt_z[:5]])\n",
    "\n",
    "    # Calculate MLD\n",
    "    f = interp1d(sigma0[srt_z], ds_high.depth[my_obs].values[srt_z])\n",
    "    MLD = f(sigma0_0 + defs.MLD_sigma0)\n",
    "\n",
    "    # Return\n",
    "    return my_obs, gMLD, MLD, sigma0"
   ]
  },
  {
   "cell_type": "code",
   "execution_count": 54,
   "id": "a3aeed24-d3e0-47e0-82a1-152e4c908807",
   "metadata": {},
   "outputs": [],
   "source": [
    "mname = '20503001'\n",
    "in_grid = (grid_extrem.mission.values == mname)\n",
    "np.unique(grid_extrem.mission_profile.values[in_grid])\n",
    "#mprofile = 14  # If z=10m means average 5-15m\n",
    "mprofile = 670"
   ]
  },
  {
   "cell_type": "code",
   "execution_count": 64,
   "id": "a989a4f6-0006-4588-afe9-f4ee544788b7",
   "metadata": {},
   "outputs": [],
   "source": [
    "my_obs, gMLD, MLD, sigma0 = do_calcs(mname, mprofile)"
   ]
  },
  {
   "cell_type": "code",
   "execution_count": 65,
   "id": "35719ad2-8905-4eef-b768-a8e1b3a85681",
   "metadata": {},
   "outputs": [
    {
     "data": {
      "text/plain": [
       "(np.float64(7.284050486606365), array(4.90055209))"
      ]
     },
     "execution_count": 65,
     "metadata": {},
     "output_type": "execute_result"
    }
   ],
   "source": [
    "gMLD, MLD"
   ]
  },
  {
   "cell_type": "markdown",
   "id": "6df6911a-090b-4724-b42e-f84e37474ad7",
   "metadata": {},
   "source": [
    "# Examine the quantities"
   ]
  },
  {
   "cell_type": "code",
   "execution_count": 66,
   "id": "0a5283a3-278e-4815-92c8-0f91e1504dc2",
   "metadata": {},
   "outputs": [
    {
     "data": {
      "text/plain": [
       "np.int32(44685)"
      ]
     },
     "execution_count": 66,
     "metadata": {},
     "output_type": "execute_result"
    }
   ],
   "source": [
    "gidx = (grid_tbl.mission.values == mname) & (\n",
    "    grid_tbl.mission_profile.values == mprofile)\n",
    "gprofile = grid_tbl[gidx].profile.values[0]\n",
    "gprofile"
   ]
  },
  {
   "cell_type": "code",
   "execution_count": 67,
   "id": "a4de3349-a747-4ef7-b743-f30f7488a1bf",
   "metadata": {},
   "outputs": [
    {
     "data": {
      "text/plain": [
       "array([ 2.105 ,  2.7802,  3.4553,  4.0114,  4.8057,  5.4809,  6.1163,\n",
       "        6.8312,  7.5063,  8.3801,  9.095 ,  9.8495, 11.2793, 11.9941,\n",
       "       12.8679, 13.5827, 14.3373, 14.933 , 15.6081, 16.4024])"
      ]
     },
     "execution_count": 67,
     "metadata": {},
     "output_type": "execute_result"
    }
   ],
   "source": [
    "srt_z = np.argsort(ds_high.depth[my_obs])\n",
    "ds_high.depth.values[my_obs][srt_z][0:20]"
   ]
  },
  {
   "cell_type": "markdown",
   "id": "76ee378e-f77c-4b77-83d3-9a3e065643b7",
   "metadata": {},
   "source": [
    "## Salinity"
   ]
  },
  {
   "cell_type": "code",
   "execution_count": 68,
   "id": "ef11136d-48e6-460d-a248-e5a026b23c1d",
   "metadata": {},
   "outputs": [
    {
     "data": {
      "text/plain": [
       "array([33.765, 33.764, 33.741, 33.718, 33.697, 33.693, 33.671, 33.666,\n",
       "       33.667, 33.668, 33.659, 33.655, 33.652, 33.64 , 33.637, 33.634,\n",
       "       33.626, 33.598, 33.613, 33.61 ])"
      ]
     },
     "execution_count": 68,
     "metadata": {},
     "output_type": "execute_result"
    }
   ],
   "source": [
    "ds_high.salinity.values[my_obs][srt_z][0:20]"
   ]
  },
  {
   "cell_type": "code",
   "execution_count": 69,
   "id": "cb55bab4-9344-4ab0-956f-44ce991580c7",
   "metadata": {},
   "outputs": [
    {
     "data": {
      "text/plain": [
       "array([33.65123077, 33.59208333, 33.55391667])"
      ]
     },
     "execution_count": 69,
     "metadata": {},
     "output_type": "execute_result"
    }
   ],
   "source": [
    "ds.salinity.data[0:3,gprofile]"
   ]
  },
  {
   "cell_type": "markdown",
   "id": "633e76fc-cfc7-4e40-bf97-53f424cf6018",
   "metadata": {},
   "source": [
    "## Profile"
   ]
  },
  {
   "cell_type": "code",
   "execution_count": 71,
   "id": "23ff1762-3200-48cd-bb2e-4827ed0d033e",
   "metadata": {},
   "outputs": [
    {
     "data": {
      "image/png": "[encoded data removed]",
      "text/plain": [
       "<Figure size 700x700 with 1 Axes>"
      ]
     },
     "metadata": {},
     "output_type": "display_data"
    }
   ],
   "source": [
    "q = 'salinity'\n",
    "#q = 'temperature'\n",
    "fig = plt.figure(figsize=(7,7))\n",
    "ax = plt.gca()\n",
    "#\n",
    "ax.plot(ds_high[q].values[my_obs], ds_high.depth[my_obs], 'o')\n",
    "#\n",
    "ax.set_xlabel(q)\n",
    "ax.set_ylabel('Depth (m)')\n",
    "#\n",
    "ax.set_ylim(100, 0.)\n",
    "#ax.set_xlim(33.4, 34.)\n",
    "plotting.set_fontsize(ax, 15.)\n",
    "# Add grid values\n",
    "for layer in [0,1]:\n",
    "    ax.plot(ds[q].data[layer, gprofile], ds.depth[layer], 'r*')\n",
    "    \n",
    "#\n",
    "for depth in [10, 20.]:\n",
    "    ax.axhline(depth, color='k', ls='--')\n",
    "# MLD\n",
    "ax.axhline(MLD, color='purple', ls=':', label='High')\n",
    "ax.axhline(gMLD+5, color='g', ls=':', label='Grid')\n",
    "#\n",
    "ax.legend(fontsize=17.)\n",
    "#\n",
    "plt.show()"
   ]
  },
  {
   "cell_type": "markdown",
   "id": "11e8682d-bf3b-4a8f-8aee-b8489d27dfc2",
   "metadata": {},
   "source": [
    "----"
   ]
  },
  {
   "cell_type": "code",
   "execution_count": 52,
   "id": "9ad4c636-1d1a-475d-bae7-b5dcad552095",
   "metadata": {
    "scrolled": true
   },
   "outputs": [
    {
     "data": {
      "text/html": [
       "<div><svg style=\"position: absolute; width: 0; height: 0; overflow: hidden\">\n",
       "<defs>\n",
       "<symbol id=\"icon-database\" viewBox=\"0 0 32 32\">\n",
       "<path d=\"M16 0c-8.837 0-16 2.239-16 5v4c0 2.761 7.163 5 16 5s16-2.239 16-5v-4c0-2.761-7.163-5-16-5z\"></path>\n",
       "<path d=\"M16 17c-8.837 0-16-2.239-16-5v6c0 2.761 7.163 5 16 5s16-2.239 16-5v-6c0 2.761-7.163 5-16 5z\"></path>\n",
       "<path d=\"M16 26c-8.837 0-16-2.239-16-5v6c0 2.761 7.163 5 16 5s16-2.239 16-5v-6c0 2.761-7.163 5-16 5z\"></path>\n",
       "</symbol>\n",
       "<symbol id=\"icon-file-text2\" viewBox=\"0 0 32 32\">\n",
       "<path d=\"M28.681 7.159c-0.694-0.947-1.662-2.053-2.724-3.116s-2.169-2.030-3.116-2.724c-1.612-1.182-2.393-1.319-2.841-1.319h-15.5c-1.378 0-2.5 1.121-2.5 2.5v27c0 1.378 1.122 2.5 2.5 2.5h23c1.378 0 2.5-1.122 2.5-2.5v-19.5c0-0.448-0.137-1.23-1.319-2.841zM24.543 5.457c0.959 0.959 1.712 1.825 2.268 2.543h-4.811v-4.811c0.718 0.556 1.584 1.309 2.543 2.268zM28 29.5c0 0.271-0.229 0.5-0.5 0.5h-23c-0.271 0-0.5-0.229-0.5-0.5v-27c0-0.271 0.229-0.5 0.5-0.5 0 0 15.499-0 15.5 0v7c0 0.552 0.448 1 1 1h7v19.5z\"></path>\n",
       "<path d=\"M23 26h-14c-0.552 0-1-0.448-1-1s0.448-1 1-1h14c0.552 0 1 0.448 1 1s-0.448 1-1 1z\"></path>\n",
       "<path d=\"M23 22h-14c-0.552 0-1-0.448-1-1s0.448-1 1-1h14c0.552 0 1 0.448 1 1s-0.448 1-1 1z\"></path>\n",
       "<path d=\"M23 18h-14c-0.552 0-1-0.448-1-1s0.448-1 1-1h14c0.552 0 1 0.448 1 1s-0.448 1-1 1z\"></path>\n",
       "</symbol>\n",
       "</defs>\n",
       "</svg>\n",
       "<style>/* CSS stylesheet for displaying xarray objects in jupyterlab.\n",
       " *\n",
       " */\n",
       "\n",
       ":root {\n",
       "  --xr-font-color0: var(--jp-content-font-color0, rgba(0, 0, 0, 1));\n",
       "  --xr-font-color2: var(--jp-content-font-color2, rgba(0, 0, 0, 0.54));\n",
       "  --xr-font-color3: var(--jp-content-font-color3, rgba(0, 0, 0, 0.38));\n",
       "  --xr-border-color: var(--jp-border-color2, #e0e0e0);\n",
       "  --xr-disabled-color: var(--jp-layout-color3, #bdbdbd);\n",
       "  --xr-background-color: var(--jp-layout-color0, white);\n",
       "  --xr-background-color-row-even: var(--jp-layout-color1, white);\n",
       "  --xr-background-color-row-odd: var(--jp-layout-color2, #eeeeee);\n",
       "}\n",
       "\n",
       "html[theme=dark],\n",
       "html[data-theme=dark],\n",
       "body[data-theme=dark],\n",
       "body.vscode-dark {\n",
       "  --xr-font-color0: rgba(255, 255, 255, 1);\n",
       "  --xr-font-color2: rgba(255, 255, 255, 0.54);\n",
       "  --xr-font-color3: rgba(255, 255, 255, 0.38);\n",
       "  --xr-border-color: #1F1F1F;\n",
       "  --xr-disabled-color: #515151;\n",
       "  --xr-background-color: #111111;\n",
       "  --xr-background-color-row-even: #111111;\n",
       "  --xr-background-color-row-odd: #313131;\n",
       "}\n",
       "\n",
       ".xr-wrap {\n",
       "  display: block !important;\n",
       "  min-width: 300px;\n",
       "  max-width: 700px;\n",
       "}\n",
       "\n",
       ".xr-text-repr-fallback {\n",
       "  /* fallback to plain text repr when CSS is not injected (untrusted notebook) */\n",
       "  display: none;\n",
       "}\n",
       "\n",
       ".xr-header {\n",
       "  padding-top: 6px;\n",
       "  padding-bottom: 6px;\n",
       "  margin-bottom: 4px;\n",
       "  border-bottom: solid 1px var(--xr-border-color);\n",
       "}\n",
       "\n",
       ".xr-header > div,\n",
       ".xr-header > ul {\n",
       "  display: inline;\n",
       "  margin-top: 0;\n",
       "  margin-bottom: 0;\n",
       "}\n",
       "\n",
       ".xr-obj-type,\n",
       ".xr-array-name {\n",
       "  margin-left: 2px;\n",
       "  margin-right: 10px;\n",
       "}\n",
       "\n",
       ".xr-obj-type {\n",
       "  color: var(--xr-font-color2);\n",
       "}\n",
       "\n",
       ".xr-sections {\n",
       "  padding-left: 0 !important;\n",
       "  display: grid;\n",
       "  grid-template-columns: 150px auto auto 1fr 0 20px 0 20px;\n",
       "}\n",
       "\n",
       ".xr-section-item {\n",
       "  display: contents;\n",
       "}\n",
       "\n",
       ".xr-section-item input {\n",
       "  display: inline-block;\n",
       "  opacity: 0;\n",
       "}\n",
       "\n",
       ".xr-section-item input + label {\n",
       "  color: var(--xr-disabled-color);\n",
       "}\n",
       "\n",
       ".xr-section-item input:enabled + label {\n",
       "  cursor: pointer;\n",
       "  color: var(--xr-font-color2);\n",
       "}\n",
       "\n",
       ".xr-section-item input:focus + label {\n",
       "  border: 2px solid var(--xr-font-color0);\n",
       "}\n",
       "\n",
       ".xr-section-item input:enabled + label:hover {\n",
       "  color: var(--xr-font-color0);\n",
       "}\n",
       "\n",
       ".xr-section-summary {\n",
       "  grid-column: 1;\n",
       "  color: var(--xr-font-color2);\n",
       "  font-weight: 500;\n",
       "}\n",
       "\n",
       ".xr-section-summary > span {\n",
       "  display: inline-block;\n",
       "  padding-left: 0.5em;\n",
       "}\n",
       "\n",
       ".xr-section-summary-in:disabled + label {\n",
       "  color: var(--xr-font-color2);\n",
       "}\n",
       "\n",
       ".xr-section-summary-in + label:before {\n",
       "  display: inline-block;\n",
       "  content: '►';\n",
       "  font-size: 11px;\n",
       "  width: 15px;\n",
       "  text-align: center;\n",
       "}\n",
       "\n",
       ".xr-section-summary-in:disabled + label:before {\n",
       "  color: var(--xr-disabled-color);\n",
       "}\n",
       "\n",
       ".xr-section-summary-in:checked + label:before {\n",
       "  content: '▼';\n",
       "}\n",
       "\n",
       ".xr-section-summary-in:checked + label > span {\n",
       "  display: none;\n",
       "}\n",
       "\n",
       ".xr-section-summary,\n",
       ".xr-section-inline-details {\n",
       "  padding-top: 4px;\n",
       "  padding-bottom: 4px;\n",
       "}\n",
       "\n",
       ".xr-section-inline-details {\n",
       "  grid-column: 2 / -1;\n",
       "}\n",
       "\n",
       ".xr-section-details {\n",
       "  display: none;\n",
       "  grid-column: 1 / -1;\n",
       "  margin-bottom: 5px;\n",
       "}\n",
       "\n",
       ".xr-section-summary-in:checked ~ .xr-section-details {\n",
       "  display: contents;\n",
       "}\n",
       "\n",
       ".xr-array-wrap {\n",
       "  grid-column: 1 / -1;\n",
       "  display: grid;\n",
       "  grid-template-columns: 20px auto;\n",
       "}\n",
       "\n",
       ".xr-array-wrap > label {\n",
       "  grid-column: 1;\n",
       "  vertical-align: top;\n",
       "}\n",
       "\n",
       ".xr-preview {\n",
       "  color: var(--xr-font-color3);\n",
       "}\n",
       "\n",
       ".xr-array-preview,\n",
       ".xr-array-data {\n",
       "  padding: 0 5px !important;\n",
       "  grid-column: 2;\n",
       "}\n",
       "\n",
       ".xr-array-data,\n",
       ".xr-array-in:checked ~ .xr-array-preview {\n",
       "  display: none;\n",
       "}\n",
       "\n",
       ".xr-array-in:checked ~ .xr-array-data,\n",
       ".xr-array-preview {\n",
       "  display: inline-block;\n",
       "}\n",
       "\n",
       ".xr-dim-list {\n",
       "  display: inline-block !important;\n",
       "  list-style: none;\n",
       "  padding: 0 !important;\n",
       "  margin: 0;\n",
       "}\n",
       "\n",
       ".xr-dim-list li {\n",
       "  display: inline-block;\n",
       "  padding: 0;\n",
       "  margin: 0;\n",
       "}\n",
       "\n",
       ".xr-dim-list:before {\n",
       "  content: '(';\n",
       "}\n",
       "\n",
       ".xr-dim-list:after {\n",
       "  content: ')';\n",
       "}\n",
       "\n",
       ".xr-dim-list li:not(:last-child):after {\n",
       "  content: ',';\n",
       "  padding-right: 5px;\n",
       "}\n",
       "\n",
       ".xr-has-index {\n",
       "  font-weight: bold;\n",
       "}\n",
       "\n",
       ".xr-var-list,\n",
       ".xr-var-item {\n",
       "  display: contents;\n",
       "}\n",
       "\n",
       ".xr-var-item > div,\n",
       ".xr-var-item label,\n",
       ".xr-var-item > .xr-var-name span {\n",
       "  background-color: var(--xr-background-color-row-even);\n",
       "  margin-bottom: 0;\n",
       "}\n",
       "\n",
       ".xr-var-item > .xr-var-name:hover span {\n",
       "  padding-right: 5px;\n",
       "}\n",
       "\n",
       ".xr-var-list > li:nth-child(odd) > div,\n",
       ".xr-var-list > li:nth-child(odd) > label,\n",
       ".xr-var-list > li:nth-child(odd) > .xr-var-name span {\n",
       "  background-color: var(--xr-background-color-row-odd);\n",
       "}\n",
       "\n",
       ".xr-var-name {\n",
       "  grid-column: 1;\n",
       "}\n",
       "\n",
       ".xr-var-dims {\n",
       "  grid-column: 2;\n",
       "}\n",
       "\n",
       ".xr-var-dtype {\n",
       "  grid-column: 3;\n",
       "  text-align: right;\n",
       "  color: var(--xr-font-color2);\n",
       "}\n",
       "\n",
       ".xr-var-preview {\n",
       "  grid-column: 4;\n",
       "}\n",
       "\n",
       ".xr-index-preview {\n",
       "  grid-column: 2 / 5;\n",
       "  color: var(--xr-font-color2);\n",
       "}\n",
       "\n",
       ".xr-var-name,\n",
       ".xr-var-dims,\n",
       ".xr-var-dtype,\n",
       ".xr-preview,\n",
       ".xr-attrs dt {\n",
       "  white-space: nowrap;\n",
       "  overflow: hidden;\n",
       "  text-overflow: ellipsis;\n",
       "  padding-right: 10px;\n",
       "}\n",
       "\n",
       ".xr-var-name:hover,\n",
       ".xr-var-dims:hover,\n",
       ".xr-var-dtype:hover,\n",
       ".xr-attrs dt:hover {\n",
       "  overflow: visible;\n",
       "  width: auto;\n",
       "  z-index: 1;\n",
       "}\n",
       "\n",
       ".xr-var-attrs,\n",
       ".xr-var-data,\n",
       ".xr-index-data {\n",
       "  display: none;\n",
       "  background-color: var(--xr-background-color) !important;\n",
       "  padding-bottom: 5px !important;\n",
       "}\n",
       "\n",
       ".xr-var-attrs-in:checked ~ .xr-var-attrs,\n",
       ".xr-var-data-in:checked ~ .xr-var-data,\n",
       ".xr-index-data-in:checked ~ .xr-index-data {\n",
       "  display: block;\n",
       "}\n",
       "\n",
       ".xr-var-data > table {\n",
       "  float: right;\n",
       "}\n",
       "\n",
       ".xr-var-name span,\n",
       ".xr-var-data,\n",
       ".xr-index-name div,\n",
       ".xr-index-data,\n",
       ".xr-attrs {\n",
       "  padding-left: 25px !important;\n",
       "}\n",
       "\n",
       ".xr-attrs,\n",
       ".xr-var-attrs,\n",
       ".xr-var-data,\n",
       ".xr-index-data {\n",
       "  grid-column: 1 / -1;\n",
       "}\n",
       "\n",
       "dl.xr-attrs {\n",
       "  padding: 0;\n",
       "  margin: 0;\n",
       "  display: grid;\n",
       "  grid-template-columns: 125px auto;\n",
       "}\n",
       "\n",
       ".xr-attrs dt,\n",
       ".xr-attrs dd {\n",
       "  padding: 0;\n",
       "  margin: 0;\n",
       "  float: left;\n",
       "  padding-right: 10px;\n",
       "  width: auto;\n",
       "}\n",
       "\n",
       ".xr-attrs dt {\n",
       "  font-weight: normal;\n",
       "  grid-column: 1;\n",
       "}\n",
       "\n",
       ".xr-attrs dt:hover span {\n",
       "  display: inline-block;\n",
       "  background: var(--xr-background-color);\n",
       "  padding-right: 10px;\n",
       "}\n",
       "\n",
       ".xr-attrs dd {\n",
       "  grid-column: 2;\n",
       "  white-space: pre-wrap;\n",
       "  word-break: break-all;\n",
       "}\n",
       "\n",
       ".xr-icon-database,\n",
       ".xr-icon-file-text2,\n",
       ".xr-no-icon {\n",
       "  display: inline-block;\n",
       "  vertical-align: middle;\n",
       "  width: 1em;\n",
       "  height: 1.5em !important;\n",
       "  stroke-width: 0;\n",
       "  stroke: currentColor;\n",
       "  fill: currentColor;\n",
       "}\n",
       "</style><pre class='xr-text-repr-fallback'>&lt;xarray.DataArray &#x27;depth&#x27; (depth: 50)&gt; Size: 200B\n",
       "array([ 10,  20,  30,  40,  50,  60,  70,  80,  90, 100, 110, 120, 130, 140,\n",
       "       150, 160, 170, 180, 190, 200, 210, 220, 230, 240, 250, 260, 270, 280,\n",
       "       290, 300, 310, 320, 330, 340, 350, 360, 370, 380, 390, 400, 410, 420,\n",
       "       430, 440, 450, 460, 470, 480, 490, 500], dtype=int32)\n",
       "Coordinates:\n",
       "  * depth    (depth) int32 200B 10 20 30 40 50 60 70 ... 450 460 470 480 490 500\n",
       "Attributes:\n",
       "    long_name:              Depth\n",
       "    standard_name:          depth\n",
       "    units:                  m\n",
       "    positive:               down\n",
       "    coverage_content_type:  coordinate</pre><div class='xr-wrap' style='display:none'><div class='xr-header'><div class='xr-obj-type'>xarray.DataArray</div><div class='xr-array-name'>'depth'</div><ul class='xr-dim-list'><li><span class='xr-has-index'>depth</span>: 50</li></ul></div><ul class='xr-sections'><li class='xr-section-item'><div class='xr-array-wrap'><input id='section-08dc1e20-d95f-4f64-b394-9d207565b82a' class='xr-array-in' type='checkbox' checked><label for='section-08dc1e20-d95f-4f64-b394-9d207565b82a' title='Show/hide data repr'><svg class='icon xr-icon-database'><use xlink:href='#icon-database'></use></svg></label><div class='xr-array-preview xr-preview'><span>10 20 30 40 50 60 70 80 90 100 ... 420 430 440 450 460 470 480 490 500</span></div><div class='xr-array-data'><pre>array([ 10,  20,  30,  40,  50,  60,  70,  80,  90, 100, 110, 120, 130, 140,\n",
       "       150, 160, 170, 180, 190, 200, 210, 220, 230, 240, 250, 260, 270, 280,\n",
       "       290, 300, 310, 320, 330, 340, 350, 360, 370, 380, 390, 400, 410, 420,\n",
       "       430, 440, 450, 460, 470, 480, 490, 500], dtype=int32)</pre></div></div></li><li class='xr-section-item'><input id='section-d7b02b41-d6ad-4363-b9b3-2bff68e4758a' class='xr-section-summary-in' type='checkbox'  checked><label for='section-d7b02b41-d6ad-4363-b9b3-2bff68e4758a' class='xr-section-summary' >Coordinates: <span>(1)</span></label><div class='xr-section-inline-details'></div><div class='xr-section-details'><ul class='xr-var-list'><li class='xr-var-item'><div class='xr-var-name'><span class='xr-has-index'>depth</span></div><div class='xr-var-dims'>(depth)</div><div class='xr-var-dtype'>int32</div><div class='xr-var-preview xr-preview'>10 20 30 40 50 ... 470 480 490 500</div><input id='attrs-06030ecd-8600-4a3d-93c5-725b9ab35f7a' class='xr-var-attrs-in' type='checkbox' ><label for='attrs-06030ecd-8600-4a3d-93c5-725b9ab35f7a' title='Show/Hide attributes'><svg class='icon xr-icon-file-text2'><use xlink:href='#icon-file-text2'></use></svg></label><input id='data-a9a59996-2566-4dd4-bd04-1fbe6c0c042c' class='xr-var-data-in' type='checkbox'><label for='data-a9a59996-2566-4dd4-bd04-1fbe6c0c042c' title='Show/Hide data repr'><svg class='icon xr-icon-database'><use xlink:href='#icon-database'></use></svg></label><div class='xr-var-attrs'><dl class='xr-attrs'><dt><span>long_name :</span></dt><dd>Depth</dd><dt><span>standard_name :</span></dt><dd>depth</dd><dt><span>units :</span></dt><dd>m</dd><dt><span>positive :</span></dt><dd>down</dd><dt><span>coverage_content_type :</span></dt><dd>coordinate</dd></dl></div><div class='xr-var-data'><pre>array([ 10,  20,  30,  40,  50,  60,  70,  80,  90, 100, 110, 120, 130, 140,\n",
       "       150, 160, 170, 180, 190, 200, 210, 220, 230, 240, 250, 260, 270, 280,\n",
       "       290, 300, 310, 320, 330, 340, 350, 360, 370, 380, 390, 400, 410, 420,\n",
       "       430, 440, 450, 460, 470, 480, 490, 500], dtype=int32)</pre></div></li></ul></div></li><li class='xr-section-item'><input id='section-4d5989b2-be08-45d8-ad3a-04568470a00f' class='xr-section-summary-in' type='checkbox'  ><label for='section-4d5989b2-be08-45d8-ad3a-04568470a00f' class='xr-section-summary' >Indexes: <span>(1)</span></label><div class='xr-section-inline-details'></div><div class='xr-section-details'><ul class='xr-var-list'><li class='xr-var-item'><div class='xr-index-name'><div>depth</div></div><div class='xr-index-preview'>PandasIndex</div><div></div><input id='index-dddac95f-fcf3-4b15-877c-bf44c6c2ad4f' class='xr-index-data-in' type='checkbox'/><label for='index-dddac95f-fcf3-4b15-877c-bf44c6c2ad4f' title='Show/Hide index repr'><svg class='icon xr-icon-database'><use xlink:href='#icon-database'></use></svg></label><div class='xr-index-data'><pre>PandasIndex(Index([ 10,  20,  30,  40,  50,  60,  70,  80,  90, 100, 110, 120, 130, 140,\n",
       "       150, 160, 170, 180, 190, 200, 210, 220, 230, 240, 250, 260, 270, 280,\n",
       "       290, 300, 310, 320, 330, 340, 350, 360, 370, 380, 390, 400, 410, 420,\n",
       "       430, 440, 450, 460, 470, 480, 490, 500],\n",
       "      dtype=&#x27;int32&#x27;, name=&#x27;depth&#x27;))</pre></div></li></ul></div></li><li class='xr-section-item'><input id='section-8abcfec0-7434-4289-af15-03004e212de8' class='xr-section-summary-in' type='checkbox'  checked><label for='section-8abcfec0-7434-4289-af15-03004e212de8' class='xr-section-summary' >Attributes: <span>(5)</span></label><div class='xr-section-inline-details'></div><div class='xr-section-details'><dl class='xr-attrs'><dt><span>long_name :</span></dt><dd>Depth</dd><dt><span>standard_name :</span></dt><dd>depth</dd><dt><span>units :</span></dt><dd>m</dd><dt><span>positive :</span></dt><dd>down</dd><dt><span>coverage_content_type :</span></dt><dd>coordinate</dd></dl></div></li></ul></div></div>"
      ],
      "text/plain": [
       "<xarray.DataArray 'depth' (depth: 50)> Size: 200B\n",
       "array([ 10,  20,  30,  40,  50,  60,  70,  80,  90, 100, 110, 120, 130, 140,\n",
       "       150, 160, 170, 180, 190, 200, 210, 220, 230, 240, 250, 260, 270, 280,\n",
       "       290, 300, 310, 320, 330, 340, 350, 360, 370, 380, 390, 400, 410, 420,\n",
       "       430, 440, 450, 460, 470, 480, 490, 500], dtype=int32)\n",
       "Coordinates:\n",
       "  * depth    (depth) int32 200B 10 20 30 40 50 60 70 ... 450 460 470 480 490 500\n",
       "Attributes:\n",
       "    long_name:              Depth\n",
       "    standard_name:          depth\n",
       "    units:                  m\n",
       "    positive:               down\n",
       "    coverage_content_type:  coordinate"
      ]
     },
     "execution_count": 52,
     "metadata": {},
     "output_type": "execute_result"
    }
   ],
   "source": [
    "ds.depth"
   ]
  },
  {
   "cell_type": "code",
   "execution_count": null,
   "id": "94b12877-64da-44a3-8c69-13b6b0d8d18b",
   "metadata": {},
   "outputs": [],
   "source": []
  }
 ],
 "metadata": {
  "kernelspec": {
   "display_name": "Python 3 (ipykernel)",
   "language": "python",
   "name": "python3"
  },
  "language_info": {
   "codemirror_mode": {
    "name": "ipython",
    "version": 3
   },
   "file_extension": ".py",
   "mimetype": "text/x-python",
   "name": "python",
   "nbconvert_exporter": "python",
   "pygments_lexer": "ipython3",
   "version": "3.12.2"
  }
 },
 "nbformat": 4,
 "nbformat_minor": 5
}
