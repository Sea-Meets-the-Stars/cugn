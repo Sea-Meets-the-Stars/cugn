{
 "cells": [
  {
   "cell_type": "markdown",
   "id": "4656eef3-650d-414f-ac9c-e80a626eca78",
   "metadata": {},
   "source": [
    "# Explore AOU"
   ]
  },
  {
   "cell_type": "code",
   "execution_count": 2,
   "id": "2805f1a3-97f8-4535-aac6-71a11a980737",
   "metadata": {},
   "outputs": [],
   "source": [
    "# imports\n",
    "import os\n",
    "import xarray\n",
    "\n",
    "import numpy as np\n",
    "from scipy import stats\n",
    "from scipy.interpolate import interp1d \n",
    "\n",
    "from matplotlib import pyplot as plt\n",
    "import matplotlib as mpl\n",
    "import matplotlib.gridspec as gridspec\n",
    "import matplotlib.dates as mdates\n",
    "from matplotlib.ticker import MultipleLocator \n",
    "\n",
    "mpl.rcParams['font.family'] = 'stixgeneral'\n",
    "\n",
    "\n",
    "import seaborn as sns\n",
    "\n",
    "import pandas\n",
    "\n",
    "from cugn import grid_utils\n",
    "from cugn import utils as cugn_utils\n",
    "from cugn import io as cugn_io\n",
    "from cugn import annualcycle\n"
   ]
  },
  {
   "cell_type": "markdown",
   "id": "ca59815d-52c2-4964-b785-8c3d4f883c39",
   "metadata": {},
   "source": [
    "# Load"
   ]
  },
  {
   "cell_type": "code",
   "execution_count": 11,
   "id": "afb789dd-a54c-478d-a845-8d2d752e8c22",
   "metadata": {},
   "outputs": [
    {
     "name": "stdout",
     "output_type": "stream",
     "text": [
      "Loading: doxy_grid_line90.parquet\n",
      "Loading: doxy_grid_line90.parquet\n",
      "Found 29 unique clusters\n"
     ]
    }
   ],
   "source": [
    "line = '90.0'\n",
    "#\n",
    "items = cugn_io.load_up(line)#, gextrem='low')\n",
    "grid_extrem = items[0]\n",
    "ds = items[1]"
   ]
  },
  {
   "cell_type": "markdown",
   "id": "49f5bd5a-9d87-4326-8580-8bc5cdf0af77",
   "metadata": {},
   "source": [
    "# Histogram me"
   ]
  },
  {
   "cell_type": "code",
   "execution_count": 7,
   "id": "a461cd3c-fa0d-4e19-afbb-d7254ef0cb02",
   "metadata": {},
   "outputs": [
    {
     "data": {
      "text/plain": [
       "(50, 54842)"
      ]
     },
     "execution_count": 7,
     "metadata": {},
     "output_type": "execute_result"
    }
   ],
   "source": [
    "ds.AOU.shape"
   ]
  },
  {
   "cell_type": "code",
   "execution_count": 12,
   "id": "00c6a8c4-2f00-4249-b379-d55111fa341a",
   "metadata": {},
   "outputs": [],
   "source": [
    "ok_AOU = np.isfinite(ds.AOU.data)"
   ]
  },
  {
   "cell_type": "code",
   "execution_count": 13,
   "id": "d2bd04c9-56ac-42e4-bc5b-d5a4e141c0df",
   "metadata": {},
   "outputs": [
    {
     "data": {
      "image/png": "[encoded data removed]",
      "text/plain": [
       "<Figure size 700x500 with 1 Axes>"
      ]
     },
     "metadata": {},
     "output_type": "display_data"
    }
   ],
   "source": [
    "fig = plt.figure(figsize=(7,5))\n",
    "ax = plt.gca()\n",
    "#\n",
    "sns.histplot(ds.AOU.data[ok_AOU].flatten(), bins=50)\n",
    "#\n",
    "plt.show()"
   ]
  },
  {
   "cell_type": "code",
   "execution_count": null,
   "id": "9970f2c5-15bf-47f4-b100-1df8f54d3cad",
   "metadata": {},
   "outputs": [],
   "source": []
  }
 ],
 "metadata": {
  "kernelspec": {
   "display_name": "Python 3 (ipykernel)",
   "language": "python",
   "name": "python3"
  },
  "language_info": {
   "codemirror_mode": {
    "name": "ipython",
    "version": 3
   },
   "file_extension": ".py",
   "mimetype": "text/x-python",
   "name": "python",
   "nbconvert_exporter": "python",
   "pygments_lexer": "ipython3",
   "version": "3.12.2"
  }
 },
 "nbformat": 4,
 "nbformat_minor": 5
}
